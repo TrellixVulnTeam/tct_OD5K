{
 "cells": [
  {
   "cell_type": "code",
   "execution_count": 1,
   "metadata": {
    "collapsed": true
   },
   "outputs": [],
   "source": [
    "import os\n",
    "import re\n",
    "import matplotlib.pyplot as plt"
   ]
  },
  {
   "cell_type": "code",
   "execution_count": 2,
   "metadata": {
    "collapsed": true
   },
   "outputs": [],
   "source": [
    "def collect_loss(nohup_file):\n",
    "    steps = []\n",
    "    loss1 = []\n",
    "    loss2 = []\n",
    "    lrs = []\n",
    "    test_accs = []\n",
    "    test_losses = []\n",
    "    \n",
    "    p1 = re.compile('Iteration (\\d+) (.*), loss = (\\d.\\d+)')\n",
    "    p2 = re.compile('Train net output #0: loss = (\\d.\\d+)')\n",
    "    p3 = re.compile('Iteration (\\d+), lr = (\\d.*)')\n",
    "    \n",
    "    p4 = re.compile(\"#0: accuracy = (\\d.*)\")\n",
    "    p5 = re.compile(\"#1: loss = (\\d.\\d+)\")\n",
    "    \n",
    "    with open(nohup_file, 'r') as f:\n",
    "        for line in f.readlines():\n",
    "               \n",
    "            if \"Iteration\" in line and \"loss\" in line:\n",
    "                m = p1.search(line)\n",
    "                step = int(m.group(1))\n",
    "                loss = float(m.group(3))\n",
    "                steps.append(step)\n",
    "                loss1.append(loss)\n",
    "            if \"Train net output\" in line and \"loss\" in line:\n",
    "                m = p2.search(line)\n",
    "                loss = float(m.group(1))\n",
    "                loss2.append(loss)\n",
    "            if \"Iteration\" in line and \"lr\" in line:\n",
    "                m = p3.search(line)\n",
    "                lr = float(m.group(2))\n",
    "                lrs.append(lr)\n",
    "                \n",
    "            if \"Test net output\" in line:\n",
    "                if \"accuracy\" in line:\n",
    "                    m = p4.search(line)\n",
    "                    acc = float(m.group(1))\n",
    "                    test_accs.append(acc)\n",
    "                if \"loss\" in line:\n",
    "                    m = p5.search(line)\n",
    "                    loss = float(m.group(1))\n",
    "                    test_losses.append(loss)\n",
    "                    \n",
    "    return steps, loss1, loss2, lrs, test_accs, test_losses            "
   ]
  },
  {
   "cell_type": "code",
   "execution_count": 3,
   "metadata": {},
   "outputs": [
    {
     "name": "stdout",
     "output_type": "stream",
     "text": [
      "# train steps 7706\n",
      "# tests 10\n",
      "accuracy [0.999093, 1.0, 1.0, 1.0, 1.0, 1.0, 1.0, 1.0, 1.0, 1.0]\n",
      "loss [0.00316661, 0.000143167, 0.000111664, 0.000106418, 0.000106428, 0.000105311, 0.000104465, 0.000104589, 0.000104455, 0.00010386]\n"
     ]
    },
    {
     "data": {
      "image/png": "[encoded data removed]",
      "text/plain": [
       "<matplotlib.figure.Figure at 0x7f2e7f32ce80>"
      ]
     },
     "metadata": {},
     "output_type": "display_data"
    }
   ],
   "source": [
    "nohup_file = \"nohup.out\"\n",
    "steps, loss1, loss2, lrs, test_accs, test_losses = collect_loss(nohup_file)\n",
    "print(\"# train steps\", len(steps))\n",
    "print(\"# tests\", len(test_accs))\n",
    "print(\"accuracy\", test_accs)\n",
    "print(\"loss\", test_losses)\n",
    "\n",
    "\n",
    "start, end = 1000, len(steps)\n",
    "\n",
    "\n",
    "f = plt.figure(figsize=(16, 8))\n",
    "\n",
    "ax1 = f.add_subplot(1, 2, 1)\n",
    "ax1.set_title(\"training loss\", fontsize=15)\n",
    "ax1.scatter(steps[start:end], loss1[start:end], marker='.', color='black')\n",
    "ax1.scatter(steps[start:end], loss2[start:end], marker='s', color='red')\n",
    "ax1.set_ylim(0.0, 0.01)\n",
    "ax1.set_xlabel(\"steps\", fontsize=12)\n",
    "ax1.set_ylabel(\"loss\", fontsize=12)\n",
    "\n",
    "\n",
    "ax2 = f.add_subplot(1, 2, 2)\n",
    "ax2.set_title(\"training lr\", fontsize=15)\n",
    "ax2.semilogy(steps[start:end], lrs[start:end], marker='.', color='black')\n",
    "# ax2.set_yscale(\"log\")\n",
    "ax2.set_xlabel(\"steps\", fontsize=12)\n",
    "ax2.set_ylabel(\"lr\", fontsize=12)\n",
    "\n",
    "plt.show()"
   ]
  },
  {
   "cell_type": "code",
   "execution_count": null,
   "metadata": {
    "collapsed": true
   },
   "outputs": [],
   "source": []
  }
 ],
 "metadata": {
  "kernelspec": {
   "display_name": "Python 3",
   "language": "python",
   "name": "python3"
  },
  "language_info": {
   "codemirror_mode": {
    "name": "ipython",
    "version": 3
   },
   "file_extension": ".py",
   "mimetype": "text/x-python",
   "name": "python",
   "nbconvert_exporter": "python",
   "pygments_lexer": "ipython3",
   "version": "3.5.4"
  }
 },
 "nbformat": 4,
 "nbformat_minor": 2
}
