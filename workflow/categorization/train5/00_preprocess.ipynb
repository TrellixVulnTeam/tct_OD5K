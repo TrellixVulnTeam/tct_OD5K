{
 "cells": [
  {
   "cell_type": "code",
   "execution_count": 1,
   "metadata": {},
   "outputs": [],
   "source": [
    "import os\n",
    "import cv2\n",
    "from multiprocessing import cpu_count\n",
    "from concurrent.futures import ProcessPoolExecutor, as_completed"
   ]
  },
  {
   "cell_type": "code",
   "execution_count": 2,
   "metadata": {},
   "outputs": [],
   "source": [
    "def scan_files(directory, prefix=None, postfix=None):\n",
    "    files_list = []\n",
    "    for root, sub_dirs, files in os.walk(directory):\n",
    "        for special_file in files:\n",
    "            if postfix:\n",
    "                if special_file.endswith(postfix):\n",
    "                    files_list.append(os.path.join(root, special_file))\n",
    "            elif prefix:\n",
    "                if special_file.startswith(prefix):\n",
    "                    files_list.append(os.path.join(root, special_file))\n",
    "            else:\n",
    "                files_list.append(os.path.join(root, special_file))\n",
    "    return files_list"
   ]
  },
  {
   "cell_type": "code",
   "execution_count": 3,
   "metadata": {},
   "outputs": [],
   "source": [
    "def resize(img_name, size, save_path, label=\"NORMAL\"):\n",
    "    img = cv2.imread(img_name)\n",
    "    img = cv2.resize(img, (size, size))\n",
    "    img_name_new = os.path.join(save_path, label, os.path.basename(img_name))\n",
    "    cv2.imwrite(img_name_new, img)\n",
    "    \n",
    "def batch_process(img_names, size, save_path):\n",
    "    for img_name in img_names:\n",
    "        resize(img_name, size, save_path)\n",
    "        \n",
    "def main(data_path, save_path, size=299):\n",
    "    files = scan_files(data_path, postfix=\".bmp\")\n",
    "    print(\"# files:\", len(files))\n",
    "\n",
    "    executor = ProcessPoolExecutor(max_workers=4)\n",
    "    tasks = []\n",
    "\n",
    "    batch_size = 10000\n",
    "    for i in range(0, len(files), batch_size):\n",
    "        batch = files[i : i+batch_size]\n",
    "        # batch_process(batch, size, save_path)\n",
    "        tasks.append(executor.submit(batch_process, batch, size, save_path))\n",
    "    \n",
    "    job_count = len(tasks)\n",
    "    for future in as_completed(tasks):\n",
    "        # result = future.result()  # get the returning result from calling fuction\n",
    "        job_count -= 1\n",
    "        print(\"One Job Done, Remaining Job Count: %s\" % (job_count))"
   ]
  },
  {
   "cell_type": "code",
   "execution_count": 4,
   "metadata": {},
   "outputs": [
    {
     "name": "stdout",
     "output_type": "stream",
     "text": [
      "# files: 80604\n",
      "One Job Done, Remaining Job Count: 8\n",
      "One Job Done, Remaining Job Count: 7\n",
      "One Job Done, Remaining Job Count: 6\n",
      "One Job Done, Remaining Job Count: 5\n",
      "One Job Done, Remaining Job Count: 4\n",
      "One Job Done, Remaining Job Count: 3\n",
      "One Job Done, Remaining Job Count: 2\n",
      "One Job Done, Remaining Job Count: 1\n",
      "One Job Done, Remaining Job Count: 0\n"
     ]
    }
   ],
   "source": [
    "data_path = \"/home/TMP10T/Develop/liyu/batch6.4-608-to-299/selected_neg\"\n",
    "save_path = \"/home/TMP10T/Develop/liyu/batch6.4-608-to-299/original-hls09-rotated/train\"\n",
    "\n",
    "main(data_path, save_path)"
   ]
  },
  {
   "cell_type": "code",
   "execution_count": null,
   "metadata": {},
   "outputs": [],
   "source": []
  }
 ],
 "metadata": {
  "kernelspec": {
   "display_name": "Python 3",
   "language": "python",
   "name": "python3"
  },
  "language_info": {
   "codemirror_mode": {
    "name": "ipython",
    "version": 3
   },
   "file_extension": ".py",
   "mimetype": "text/x-python",
   "name": "python",
   "nbconvert_exporter": "python",
   "pygments_lexer": "ipython3",
   "version": "3.5.2"
  }
 },
 "nbformat": 4,
 "nbformat_minor": 2
}
