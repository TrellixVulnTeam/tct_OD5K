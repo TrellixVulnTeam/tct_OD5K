{
 "cells": [
  {
   "cell_type": "code",
   "execution_count": null,
   "metadata": {},
   "outputs": [],
   "source": [
    "import os\n",
    "import xml.dom.minidom\n",
    "import xml.etree.ElementTree as ET\n",
    "from PIL import Image"
   ]
  },
  {
   "cell_type": "code",
   "execution_count": null,
   "metadata": {},
   "outputs": [],
   "source": [
    "def collect_labels(result_txt, class_i):\n",
    "    all_labels = {}\n",
    "    with open(result_txt, 'r') as f:\n",
    "        for line in f.readlines():\n",
    "            tokens = line.strip().split()\n",
    "            basename = tokens[0]  # without file extension\n",
    "            det = float(tokens[1])\n",
    "            xcenter, ycenter = float(tokens[2]), float(tokens[3])\n",
    "            w, h = float(tokens[4]), float(tokens[5])\n",
    "            xmin, ymin = int(xcenter - w/2), int(ycenter - h/2)\n",
    "            xmax, ymax = int(xcenter + w/2), int(ycenter + h/2)\n",
    "            if not basename in all_labels:\n",
    "                all_labels[basename] = []\n",
    "            all_labels[basename].append({\"det\":det, \"xmin\":xmin, \"ymin\":ymin, \"xmax\":xmax, \"ymax\":ymax, \"name\":class_i})\n",
    "    return all_labels\n",
    "\n",
    "\n",
    "def generate_xml(basename, labels, data_path, save_path):\n",
    "    jpg_name = os.path.join(data_path, basename+\".jpg\")\n",
    "    with Image.open(jpg_name) as img:\n",
    "        w, h = img.size\n",
    "    \n",
    "    root = ET.Element(\"annotation\")\n",
    "    ET.SubElement(root, \"folder\").text = \"folder\"\n",
    "    ET.SubElement(root, \"filename\").text = basename + \".jpg\"\n",
    "    ET.SubElement(root, \"path\").text = \"path\"\n",
    "\n",
    "    source = ET.SubElement(root, \"source\")\n",
    "    ET.SubElement(source, \"database\").text = \"Unknown\"\n",
    "\n",
    "    size = ET.SubElement(root, \"size\")\n",
    "    ET.SubElement(size, \"width\").text = str(w)\n",
    "    ET.SubElement(size, \"height\").text = str(h)\n",
    "    ET.SubElement(size, \"depth\").text = \"3\"\n",
    "\n",
    "    ET.SubElement(root, \"segmented\").text = \"0\"\n",
    "\n",
    "    for label in labels:\n",
    "        object = ET.SubElement(root, \"object\")\n",
    "        ET.SubElement(object, \"name\").text = label[\"name\"]\n",
    "        ET.SubElement(object, \"pose\").text = \"Unspecified\"\n",
    "        ET.SubElement(object, \"truncated\").text = \"0\"\n",
    "        ET.SubElement(object, \"difficult\").text = \"0\"\n",
    "        bndbox = ET.SubElement(object, \"bndbox\")          \n",
    "        ET.SubElement(bndbox, \"xmin\").text = str(label[\"xmin\"])\n",
    "        ET.SubElement(bndbox, \"ymin\").text = str(label[\"xmin\"])\n",
    "        ET.SubElement(bndbox, \"xmax\").text = str(label[\"xmin\"])\n",
    "        ET.SubElement(bndbox, \"ymax\").text = str(label[\"xmin\"])\n",
    "\n",
    "    raw_string = ET.tostring(root, \"utf-8\")\n",
    "    reparsed = xml.dom.minidom.parseString(raw_string)\n",
    "    with open(os.path.join(save_path, basename + \".xml\"), \"w\") as f:\n",
    "        f.write(reparsed.toprettyxml(indent=\"\\t\"))\n",
    "        \n",
    "        \n",
    "def main(result_txt, class_i, data_path, save_path):\n",
    "    all_labels = collect_labels(result_txt, class_i)\n",
    "    for basename,labels in all_labels.items():\n",
    "        generate_xml(basename, labels, data_path, save_path)\n",
    "        print(\"generated\", basename)"
   ]
  },
  {
   "cell_type": "code",
   "execution_count": null,
   "metadata": {},
   "outputs": [],
   "source": [
    "result_txt = \"\"\n",
    "class_i = \"\"\n",
    "data_path = \"\"\n",
    "save_path = \"\""
   ]
  }
 ],
 "metadata": {
  "kernelspec": {
   "display_name": "Python 3",
   "language": "python",
   "name": "python3"
  },
  "language_info": {
   "codemirror_mode": {
    "name": "ipython",
    "version": 3
   },
   "file_extension": ".py",
   "mimetype": "text/x-python",
   "name": "python",
   "nbconvert_exporter": "python",
   "pygments_lexer": "ipython3",
   "version": "3.5.6"
  }
 },
 "nbformat": 4,
 "nbformat_minor": 2
}
