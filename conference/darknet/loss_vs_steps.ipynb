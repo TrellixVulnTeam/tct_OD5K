{
 "cells": [
  {
   "cell_type": "code",
   "execution_count": 1,
   "metadata": {
    "collapsed": true
   },
   "outputs": [],
   "source": [
    "import os\n",
    "import matplotlib.pyplot as plt"
   ]
  },
  {
   "cell_type": "code",
   "execution_count": 2,
   "metadata": {
    "collapsed": true
   },
   "outputs": [],
   "source": [
    "def collect_loss(nohup_file):\n",
    "    steps = []\n",
    "    loss1 = []\n",
    "    loss2 = []\n",
    "    with open(nohup_file, 'r') as f:\n",
    "        for line in f.readlines():\n",
    "            if line[0] in \"0123456789\":  # the line with loss, rate, seconds, images\n",
    "                tokens = line.strip().split()\n",
    "                steps.append(int(tokens[0][:-1]))  # number of steps\n",
    "                loss1.append(float(tokens[1][:-1]))  # loss\n",
    "                loss2.append(float(tokens[2]))  # loss average\n",
    "    return steps, loss1, loss2"
   ]
  },
  {
   "cell_type": "code",
   "execution_count": 6,
   "metadata": {},
   "outputs": [
    {
     "name": "stdout",
     "output_type": "stream",
     "text": [
      "# steps 44\n"
     ]
    },
    {
     "data": {
      "image/png": "[encoded data removed]",
      "text/plain": [
       "<Figure size 720x720 with 1 Axes>"
      ]
     },
     "metadata": {},
     "output_type": "display_data"
    }
   ],
   "source": [
    "nohup = \"/home/ssd0/Develop/liyu/darknet/nohup.out\"\n",
    "# nohup = \"/home/hdd0/Develop/algo/yolo-pre-trained/darknet/nohup.out\"\n",
    "# nohup = \"/home/unicorn/Documents/liyu/darknet/nohup.out\"\n",
    "steps, loss1, loss2 = collect_loss(nohup)\n",
    "print(\"# steps\", len(steps))\n",
    "\n",
    "# plot trend\n",
    "fig, ax = plt.subplots(1, 1, figsize=(10,10))\n",
    "\n",
    "start, end = 0, len(steps)\n",
    "\n",
    "ax.scatter(steps[start:end], loss1[start:end], marker='.', color='black')\n",
    "ax.scatter(steps[start:end], loss2[start:end], marker='s', color='red')\n",
    "\n",
    "plt.show()"
   ]
  },
  {
   "cell_type": "code",
   "execution_count": null,
   "metadata": {
    "collapsed": true
   },
   "outputs": [],
   "source": []
  }
 ],
 "metadata": {
  "kernelspec": {
   "display_name": "Python 3",
   "language": "python",
   "name": "python3"
  },
  "language_info": {
   "codemirror_mode": {
    "name": "ipython",
    "version": 3
   },
   "file_extension": ".py",
   "mimetype": "text/x-python",
   "name": "python",
   "nbconvert_exporter": "python",
   "pygments_lexer": "ipython3",
   "version": "3.5.4"
  }
 },
 "nbformat": 4,
 "nbformat_minor": 2
}
