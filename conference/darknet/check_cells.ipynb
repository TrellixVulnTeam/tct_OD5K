{
 "cells": [
  {
   "cell_type": "code",
   "execution_count": 1,
   "metadata": {
    "collapsed": true
   },
   "outputs": [],
   "source": [
    "import os\n",
    "import random\n",
    "from PIL import Image"
   ]
  },
  {
   "cell_type": "code",
   "execution_count": 2,
   "metadata": {
    "collapsed": true
   },
   "outputs": [],
   "source": [
    "def scan_files(directory, prefix=None, postfix=None):\n",
    "    files_list = []\n",
    "    for root, sub_dirs, files in os.walk(directory):\n",
    "        for special_file in files:\n",
    "            if postfix:\n",
    "                if special_file.endswith(postfix):\n",
    "                    files_list.append(os.path.join(root, special_file))\n",
    "            elif prefix:\n",
    "                if special_file.startswith(prefix):\n",
    "                    files_list.append(os.path.join(root, special_file))\n",
    "            else:\n",
    "                files_list.append(os.path.join(root, special_file))\n",
    "    return files_list\n",
    "\n",
    "def cut_cells(txt_name, size, save_path):\n",
    "    img_name = os.path.splitext(txt_name)[0] + \".bmp\"\n",
    "    \n",
    "    boxes = []\n",
    "    with open(txt_name, 'r') as f:\n",
    "        for line in f.readlines():\n",
    "            tokens = line.strip().split()\n",
    "            cx, cy = float(tokens[1])*size, float(tokens[2])*size\n",
    "            w, h = int(float(tokens[3])*size), int(float(tokens[4])*size)\n",
    "            x, y = int(cx - w/2), int(cy - h/2)\n",
    "            boxes.append([x, y, w, h])\n",
    "    \n",
    "    if len(boxes) == 1:\n",
    "        return\n",
    "    basename = os.path.splitext(os.path.basename(txt_name))[0]\n",
    "    with Image.open(img_name) as img:\n",
    "        for box in boxes:\n",
    "            x, y, w, h = box\n",
    "            jpg_name = os.path.join(save_path, \"{}_{}_{}_{}_{}.jpg\".format(basename, x, y, w, h))\n",
    "            print(len(boxes), jpg_name)\n",
    "            img.crop((box[0], box[1], box[0]+box[2], box[1]+box[3])).save(jpg_name)"
   ]
  },
  {
   "cell_type": "code",
   "execution_count": 4,
   "metadata": {},
   "outputs": [
    {
     "name": "stdout",
     "output_type": "stream",
     "text": [
      "3 /home/ssd0/Develop/liyu/train4/results608_cells/2017-10-11-17_01_50_x36538_y13059_i0_r0_356_389_102_96.jpg\n",
      "3 /home/ssd0/Develop/liyu/train4/results608_cells/2017-10-11-17_01_50_x36538_y13059_i0_r0_391_220_68_107.jpg\n",
      "3 /home/ssd0/Develop/liyu/train4/results608_cells/2017-10-11-17_01_50_x36538_y13059_i0_r0_377_306_69_88.jpg\n",
      "3 /home/ssd0/Develop/liyu/train4/results608_cells/2017-10-11-17_01_50_x36538_y13059_i0_r270_192_223_96_102.jpg\n",
      "3 /home/ssd0/Develop/liyu/train4/results608_cells/2017-10-11-17_01_50_x36538_y13059_i0_r270_351_258_107_68.jpg\n",
      "3 /home/ssd0/Develop/liyu/train4/results608_cells/2017-10-11-17_01_50_x36538_y13059_i0_r270_283_244_88_69.jpg\n",
      "3 /home/ssd0/Develop/liyu/train4/results608_cells/2017-10-11-17_01_50_x36538_y13059_i0_r180_307_303_102_96.jpg\n",
      "3 /home/ssd0/Develop/liyu/train4/results608_cells/2017-10-11-17_01_50_x36538_y13059_i0_r180_306_462_68_107.jpg\n",
      "3 /home/ssd0/Develop/liyu/train4/results608_cells/2017-10-11-17_01_50_x36538_y13059_i0_r180_320_394_69_88.jpg\n",
      "3 /home/ssd0/Develop/liyu/train4/results608_cells/2017-10-11-17_01_50_x36538_y13059_i0_r90_292_262_96_102.jpg\n",
      "3 /home/ssd0/Develop/liyu/train4/results608_cells/2017-10-11-17_01_50_x36538_y13059_i0_r90_123_261_107_68.jpg\n",
      "3 /home/ssd0/Develop/liyu/train4/results608_cells/2017-10-11-17_01_50_x36538_y13059_i0_r90_209_275_88_69.jpg\n"
     ]
    }
   ],
   "source": [
    "data_path = \"/home/ssd0/Develop/liyu/train4/results608\"\n",
    "save_path = \"/home/ssd0/Develop/liyu/train4/results608_cells\"\n",
    "os.makedirs(save_path, exist_ok=True)\n",
    "all_txt_names = scan_files(data_path, postfix=\".txt\")\n",
    "\n",
    "# txt_names = random.sample(all_txt_names, 20000)\n",
    "txt_names = all_txt_names\n",
    "for txt_name in txt_names:\n",
    "    cut_cells(txt_name, 608, save_path)"
   ]
  },
  {
   "cell_type": "code",
   "execution_count": null,
   "metadata": {
    "collapsed": true
   },
   "outputs": [],
   "source": []
  }
 ],
 "metadata": {
  "kernelspec": {
   "display_name": "Python 3",
   "language": "python",
   "name": "python3"
  },
  "language_info": {
   "codemirror_mode": {
    "name": "ipython",
    "version": 3
   },
   "file_extension": ".py",
   "mimetype": "text/x-python",
   "name": "python",
   "nbconvert_exporter": "python",
   "pygments_lexer": "ipython3",
   "version": "3.5.4"
  }
 },
 "nbformat": 4,
 "nbformat_minor": 2
}
