{
 "cells": [
  {
   "cell_type": "code",
   "execution_count": 1,
   "metadata": {},
   "outputs": [],
   "source": [
    "import os\n",
    "import random\n",
    "from PIL import Image"
   ]
  },
  {
   "cell_type": "code",
   "execution_count": 2,
   "metadata": {},
   "outputs": [],
   "source": [
    "def scan_files(directory, prefix=None, postfix=None):\n",
    "    files_list = []\n",
    "    for root, sub_dirs, files in os.walk(directory):\n",
    "        for special_file in files:\n",
    "            if postfix:\n",
    "                if special_file.endswith(postfix):\n",
    "                    files_list.append(os.path.join(root, special_file))\n",
    "            elif prefix:\n",
    "                if special_file.startswith(prefix):\n",
    "                    files_list.append(os.path.join(root, special_file))\n",
    "            else:\n",
    "                files_list.append(os.path.join(root, special_file))\n",
    "    return files_list"
   ]
  },
  {
   "cell_type": "code",
   "execution_count": 3,
   "metadata": {},
   "outputs": [],
   "source": [
    "def cut_cells(txt_name, size, save_path):\n",
    "    img_name = os.path.splitext(txt_name)[0] + \".bmp\"\n",
    "    \n",
    "    boxes = []\n",
    "    with open(txt_name, 'r') as f:\n",
    "        for line in f.readlines():\n",
    "            tokens = line.strip().split()\n",
    "            cx, cy = float(tokens[1])*size, float(tokens[2])*size\n",
    "            w, h = int(float(tokens[3])*size), int(float(tokens[4])*size)\n",
    "            x, y = int(cx - w/2), int(cy - h/2)\n",
    "            boxes.append([x, y, w, h])\n",
    "    \n",
    "#     if len(boxes) == 1:\n",
    "#         return\n",
    "\n",
    "    basename = os.path.splitext(os.path.basename(txt_name))[0]\n",
    "    with Image.open(img_name) as img:\n",
    "        for box in boxes:\n",
    "            x, y, w, h = box\n",
    "            jpg_name = os.path.join(save_path, \"{}_{}_{}_{}_{}.jpg\".format(basename, x, y, w, h))\n",
    "            print(len(boxes), jpg_name)\n",
    "            img.crop((box[0], box[1], box[0]+box[2], box[1]+box[3])).save(jpg_name)"
   ]
  },
  {
   "cell_type": "code",
   "execution_count": 5,
   "metadata": {},
   "outputs": [
    {
     "name": "stdout",
     "output_type": "stream",
     "text": [
      "1 /home/ssd_array0/Data/batch6.4_1216/cells/2017-10-11-18_37_19_23297_29156_90_v_466_80_81_43.jpg\n",
      "1 /home/ssd_array0/Data/batch6.4_1216/cells/2017-10-09-18_21_10_19445_49754_v_456_261_101_85.jpg\n",
      "1 /home/ssd_array0/Data/batch6.4_1216/cells/L16-04409_47867_58220_90_h_457_460_99_93.jpg\n",
      "1 /home/ssd_array0/Data/batch6.4_1216/cells/2017-10-12-19_14_53_45692_37522_270_h_60_68_81_67.jpg\n",
      "1 /home/ssd_array0/Data/batch6.4_1216/cells/L16-16823_61201_9443_90_v_267_480_75_53.jpg\n",
      "1 /home/ssd_array0/Data/batch6.4_1216/cells/TC17033744_17210_44800_180_h_72_477_59_59.jpg\n",
      "2 /home/ssd_array0/Data/batch6.4_1216/cells/2017-10-19-20_08_06_29389_54699_270_h_262_442_85_129.jpg\n",
      "2 /home/ssd_array0/Data/batch6.4_1216/cells/2017-10-19-20_08_06_29389_54699_270_h_489_283_86_63.jpg\n",
      "1 /home/ssd_array0/Data/batch6.4_1216/cells/TC18050092_15007_47247_270_v_423_30_167_143.jpg\n",
      "2 /home/ssd_array0/Data/batch6.4_1216/cells/2017-10-09-19_09_21_17598_16701_270_h_503_392_84_73.jpg\n",
      "2 /home/ssd_array0/Data/batch6.4_1216/cells/2017-10-09-19_09_21_17598_16701_270_h_452_45_109_113.jpg\n",
      "2 /home/ssd_array0/Data/batch6.4_1216/cells/2017-10-10-16_07_10_43600_41311_90_v_44_35_115_131.jpg\n",
      "2 /home/ssd_array0/Data/batch6.4_1216/cells/2017-10-10-16_07_10_43600_41311_90_v_404_189_96_58.jpg\n",
      "1 /home/ssd_array0/Data/batch6.4_1216/cells/2017-10-09-17_43_44_28417_43575_270_v_430_244_153_119.jpg\n",
      "1 /home/ssd_array0/Data/batch6.4_1216/cells/TC18019764_26637_21560_v_274_474_60_65.jpg\n",
      "1 /home/ssd_array0/Data/batch6.4_1216/cells/2017-10-11-15_21_37_15987_43661_90_h_443_446_127_121.jpg\n",
      "1 /home/ssd_array0/Data/batch6.4_1216/cells/TC18024209_32186_46213_v_485_265_43_77.jpg\n",
      "1 /home/ssd_array0/Data/batch6.4_1216/cells/2017-10-09-18_06_58_13689_12767_h_66_464_69_85.jpg\n",
      "2 /home/ssd_array0/Data/batch6.4_1216/cells/TC17010768_28338_45946_90_h_237_388_133_220.jpg\n",
      "2 /home/ssd_array0/Data/batch6.4_1216/cells/TC17010768_28338_45946_90_h_274_389_99_104.jpg\n",
      "3 /home/ssd_array0/Data/batch6.4_1216/cells/TC18009192_11748_11030_90_h_454_258_105_91.jpg\n",
      "3 /home/ssd_array0/Data/batch6.4_1216/cells/TC18009192_11748_11030_90_h_393_175_105_120.jpg\n",
      "3 /home/ssd_array0/Data/batch6.4_1216/cells/TC18009192_11748_11030_90_h_423_343_86_105.jpg\n",
      "1 /home/ssd_array0/Data/batch6.4_1216/cells/L18-18602_23419_21209_270_h_66_64_69_75.jpg\n",
      "1 /home/ssd_array0/Data/batch6.4_1216/cells/2018-03-16-14_09_44_26123_41147_180_h_479_51_55_101.jpg\n",
      "1 /home/ssd_array0/Data/batch6.4_1216/cells/2017-10-09-15_53_52_32989_50178_90_h_275_440_57_133.jpg\n",
      "1 /home/ssd_array0/Data/batch6.4_1216/cells/2017-10-10-16_22_46_51415_33413_90_v_280_64_49_73.jpg\n",
      "1 /home/ssd_array0/Data/batch6.4_1216/cells/L16-14866_34009_47597_h_254_223_99_163.jpg\n",
      "1 /home/ssd_array0/Data/batch6.4_1216/cells/L18-25534_76921_46495_180_v_441_6_131_189.jpg\n",
      "1 /home/ssd_array0/Data/batch6.4_1216/cells/2017-10-11-15_21_37_24150_17973_90_v_243_46_123_111.jpg\n",
      "1 /home/ssd_array0/Data/batch6.4_1216/cells/TC17034438_49125_25810_90_v_64_452_75_109.jpg\n",
      "1 /home/ssd_array0/Data/batch6.4_1216/cells/TC18053363_41334_33792_180_h_482_477_49_59.jpg\n",
      "2 /home/ssd_array0/Data/batch6.4_1216/cells/L16-16198_57180_21013_90_h_75_481_51_51.jpg\n",
      "2 /home/ssd_array0/Data/batch6.4_1216/cells/L16-16198_57180_21013_90_h_63_473_64_89.jpg\n",
      "1 /home/ssd_array0/Data/batch6.4_1216/cells/2017-10-19-09_35_42_16110_40587_90_v_474_41_65_119.jpg\n",
      "1 /home/ssd_array0/Data/batch6.4_1216/cells/2017-11-24-12_02_19_47075_17123_270_h_265_68_79_67.jpg\n",
      "1 /home/ssd_array0/Data/batch6.4_1216/cells/TC18016664_47552_37198_180_v_285_464_37_85.jpg\n",
      "1 /home/ssd_array0/Data/batch6.4_1216/cells/2017-10-10-17_36_36_45804_44491_180_h_283_279_43_50.jpg\n",
      "2 /home/ssd_array0/Data/batch6.4_1216/cells/2017-10-09-16_01_44_21481_44416_90_v_56_59_91_85.jpg\n",
      "2 /home/ssd_array0/Data/batch6.4_1216/cells/2017-10-09-16_01_44_21481_44416_90_v_163_427_104_86.jpg\n",
      "1 /home/ssd_array0/Data/batch6.4_1216/cells/2017-10-23 12_56_46_40547_21824_h_266_272_75_65.jpg\n",
      "1 /home/ssd_array0/Data/batch6.4_1216/cells/2017-10-19-20_27_46_22274_6056_v_279_267_51_73.jpg\n",
      "1 /home/ssd_array0/Data/batch6.4_1216/cells/L16-12456_62964_20772_90_h_269_474_69_65.jpg\n",
      "1 /home/ssd_array0/Data/batch6.4_1216/cells/TC17009081_5750_16824_v_270_49_68_103.jpg\n",
      "1 /home/ssd_array0/Data/batch6.4_1216/cells/2017-10-09-16_01_44_29166_36698_180_h_74_270_55_67.jpg\n",
      "1 /home/ssd_array0/Data/batch6.4_1216/cells/L16-11743_35343_68072_180_v_278_449_52_115.jpg\n",
      "1 /home/ssd_array0/Data/batch6.4_1216/cells/L18-16798_41291_12870_v_54_255_95_97.jpg\n",
      "2 /home/ssd_array0/Data/batch6.4_1216/cells/2017-10-11-18_27_32_29991_49878_90_v_449_253_115_103.jpg\n",
      "2 /home/ssd_array0/Data/batch6.4_1216/cells/2017-10-11-18_27_32_29991_49878_90_v_492_256_79_50.jpg\n",
      "1 /home/ssd_array0/Data/batch6.4_1216/cells/L18-16177_61016_66666_180_v_479_473_55_67.jpg\n",
      "2 /home/ssd_array0/Data/batch6.4_1216/cells/TC17021873_48391_18901_h_0_55_260_93.jpg\n",
      "2 /home/ssd_array0/Data/batch6.4_1216/cells/TC17021873_48391_18901_h_4_63_200_52.jpg\n",
      "1 /home/ssd_array0/Data/batch6.4_1216/cells/2017-09-15-09_48_33_29633_32760_90_h_455_77_105_49.jpg\n",
      "1 /home/ssd_array0/Data/batch6.4_1216/cells/TC18002156_43791_16621_v_47_53_108_97.jpg\n",
      "1 /home/ssd_array0/Data/batch6.4_1216/cells/TC18018431_25353_34430_h_472_68_69_66.jpg\n",
      "1 /home/ssd_array0/Data/batch6.4_1216/cells/TC17030928_27121_40041_h_52_466_97_81.jpg\n",
      "8 /home/ssd_array0/Data/batch6.4_1216/cells/2017-10-11-18_27_32_21151_25452_270_h_439_434_135_145.jpg\n",
      "8 /home/ssd_array0/Data/batch6.4_1216/cells/2017-10-11-18_27_32_21151_25452_270_h_484_430_86_82.jpg\n",
      "8 /home/ssd_array0/Data/batch6.4_1216/cells/2017-10-11-18_27_32_21151_25452_270_h_486_435_84_76.jpg\n",
      "8 /home/ssd_array0/Data/batch6.4_1216/cells/2017-10-11-18_27_32_21151_25452_270_h_438_475_103_86.jpg\n",
      "8 /home/ssd_array0/Data/batch6.4_1216/cells/2017-10-11-18_27_32_21151_25452_270_h_88_9_94_93.jpg\n",
      "8 /home/ssd_array0/Data/batch6.4_1216/cells/2017-10-11-18_27_32_21151_25452_270_h_45_52_91_66.jpg\n",
      "8 /home/ssd_array0/Data/batch6.4_1216/cells/2017-10-11-18_27_32_21151_25452_270_h_29_32_156_82.jpg\n",
      "8 /home/ssd_array0/Data/batch6.4_1216/cells/2017-10-11-18_27_32_21151_25452_270_h_253_486_108_97.jpg\n",
      "2 /home/ssd_array0/Data/batch6.4_1216/cells/2017-10-10-16_27_17_27898_7449_h_276_274_56_61.jpg\n",
      "2 /home/ssd_array0/Data/batch6.4_1216/cells/2017-10-10-16_27_17_27898_7449_h_468_157_132_111.jpg\n",
      "1 /home/ssd_array0/Data/batch6.4_1216/cells/BD1503212-ASCUS_2018-10-15 09_55_08_32235_17306_180_h_243_247_123_113.jpg\n",
      "1 /home/ssd_array0/Data/batch6.4_1216/cells/L16-14731_65625_33953_90_v_272_275_65_58.jpg\n",
      "1 /home/ssd_array0/Data/batch6.4_1216/cells/2017-10-11-17_01_50_40138_48004_180_v_263_71_82_61.jpg\n",
      "1 /home/ssd_array0/Data/batch6.4_1216/cells/TC18013596_5024_31062_v_265_470_79_73.jpg\n",
      "1 /home/ssd_array0/Data/batch6.4_1216/cells/2017-10-10-16_07_10_31383_38865_180_v_472_468_69_77.jpg\n",
      "1 /home/ssd_array0/Data/batch6.4_1216/cells/2017-09-22-14_23_20_28171_56213_v_455_471_103_71.jpg\n",
      "1 /home/ssd_array0/Data/batch6.4_1216/cells/L16-11390_61722_35597_180_v_67_83_67_37.jpg\n",
      "1 /home/ssd_array0/Data/batch6.4_1216/cells/TC18034656_56819_29738_180_v_253_472_101_69.jpg\n",
      "1 /home/ssd_array0/Data/batch6.4_1216/cells/2017-10-10-17_18_47_46110_22813_180_h_273_271_63_65.jpg\n",
      "2 /home/ssd_array0/Data/batch6.4_1216/cells/2017-10-10-16_29_16_33441_11167_270_v_60_471_83_71.jpg\n",
      "2 /home/ssd_array0/Data/batch6.4_1216/cells/2017-10-10-16_29_16_33441_11167_270_v_119_465_76_77.jpg\n",
      "1 /home/ssd_array0/Data/batch6.4_1216/cells/XB1808645_20854_40222_h_227_452_154_109.jpg\n",
      "1 /home/ssd_array0/Data/batch6.4_1216/cells/L16-10323_71493_24256_h_464_64_86_75.jpg\n",
      "1 /home/ssd_array0/Data/batch6.4_1216/cells/1715862-ASCH_2018-10-07 02_19_39_44701_22417_180_h_474_279_65_50.jpg\n",
      "1 /home/ssd_array0/Data/batch6.4_1216/cells/2017-10-19-20_24_52_7597_28396_h_65_485_71_43.jpg\n",
      "1 /home/ssd_array0/Data/batch6.4_1216/cells/2017-10-10-16_07_10_23178_46484_v_74_75_55_51.jpg\n",
      "1 /home/ssd_array0/Data/batch6.4_1216/cells/TC18010325_21378_17197_180_v_45_455_111_103.jpg\n",
      "1 /home/ssd_array0/Data/batch6.4_1216/cells/TC16008729_28619_46817_270_v_249_443_110_127.jpg\n",
      "2 /home/ssd_array0/Data/batch6.4_1216/cells/TC17014226_7678_39646_90_h_473_449_67_115.jpg\n",
      "2 /home/ssd_array0/Data/batch6.4_1216/cells/TC17014226_7678_39646_90_h_422_127_66_80.jpg\n",
      "2 /home/ssd_array0/Data/batch6.4_1216/cells/L16-06197_22063_13734_180_h_238_243_133_121.jpg\n",
      "2 /home/ssd_array0/Data/batch6.4_1216/cells/L16-06197_22063_13734_180_h_509_419_95_102.jpg\n",
      "1 /home/ssd_array0/Data/batch6.4_1216/cells/TJ16038729_41612_69141_180_h_241_461_126_91.jpg\n",
      "1 /home/ssd_array0/Data/batch6.4_1216/cells/BD1516738_13042_18896_90_v_51_256_101_97.jpg\n",
      "1 /home/ssd_array0/Data/batch6.4_1216/cells/TC18022079_37525_18305_180_h_280_275_48_57.jpg\n",
      "2 /home/ssd_array0/Data/batch6.4_1216/cells/2017-10-19-09_35_42_21028_6301_v_259_254_91_100.jpg\n",
      "2 /home/ssd_array0/Data/batch6.4_1216/cells/2017-10-19-09_35_42_21028_6301_v_491_128_85_59.jpg\n",
      "1 /home/ssd_array0/Data/batch6.4_1216/cells/BD1515883-ASCH_2018-10-14 17_47_22_21143_10258_90_v_270_282_68_45.jpg\n",
      "2 /home/ssd_array0/Data/batch6.4_1216/cells/2017-10-11-17_14_41_40888_19949_180_v_264_323_50_52.jpg\n",
      "2 /home/ssd_array0/Data/batch6.4_1216/cells/2017-10-11-17_14_41_40888_19949_180_v_265_265_77_79.jpg\n",
      "1 /home/ssd_array0/Data/batch6.4_1216/cells/2018-03-27-21_16_43_14378_24348_90_h_464_74_85_55.jpg\n",
      "1 /home/ssd_array0/Data/batch6.4_1216/cells/2017-10-11-16_09_59_11392_22992_90_v_480_251_52_105.jpg\n",
      "1 /home/ssd_array0/Data/batch6.4_1216/cells/TC18053114_12799_44643_180_h_452_255_109_97.jpg\n",
      "2 /home/ssd_array0/Data/batch6.4_1216/cells/TC18002306_50636_24769_270_v_240_253_127_101.jpg\n",
      "2 /home/ssd_array0/Data/batch6.4_1216/cells/TC18002306_50636_24769_270_v_36_305_99_111.jpg\n",
      "1 /home/ssd_array0/Data/batch6.4_1216/cells/2017-10-10-15_30_43_19085_31504_180_h_76_476_51_61.jpg\n",
      "2 /home/ssd_array0/Data/batch6.4_1216/cells/2017-10-12-19_35_23_28650_30109_180_h_264_262_80_83.jpg\n",
      "2 /home/ssd_array0/Data/batch6.4_1216/cells/2017-10-12-19_35_23_28650_30109_180_h_215_515_131_74.jpg\n",
      "1 /home/ssd_array0/Data/batch6.4_1216/cells/BD1601461_34595_8103_180_v_465_270_84_68.jpg\n",
      "2 /home/ssd_array0/Data/batch6.4_1216/cells/2017-10-11-18_27_32_27403_30286_270_v_130_207_102_131.jpg\n",
      "2 /home/ssd_array0/Data/batch6.4_1216/cells/2017-10-11-18_27_32_27403_30286_270_v_31_238_141_131.jpg\n",
      "1 /home/ssd_array0/Data/batch6.4_1216/cells/L16-12456_16745_26960_270_h_276_264_57_81.jpg\n",
      "1 /home/ssd_array0/Data/batch6.4_1216/cells/2017-10-09-18_21_10_5930_31377_180_h_473_471_67_71.jpg\n",
      "1 /home/ssd_array0/Data/batch6.4_1216/cells/2017-10-09-18_23_17_29354_48374_v_456_67_101_67.jpg\n",
      "1 /home/ssd_array0/Data/batch6.4_1216/cells/SZH00407_15306_16487_v_436_453_141_107.jpg\n",
      "2 /home/ssd_array0/Data/batch6.4_1216/cells/L16-11756_20539_16298_270_v_68_58_65_84.jpg\n",
      "2 /home/ssd_array0/Data/batch6.4_1216/cells/L16-11756_20539_16298_270_v_80_-4_79_85.jpg\n",
      "1 /home/ssd_array0/Data/batch6.4_1216/cells/2017-10-10-17_25_30_25293_22279_180_h_474_251_65_105.jpg\n",
      "1 /home/ssd_array0/Data/batch6.4_1216/cells/2018-03-15-14_18_15_32432_46992_180_h_83_76_37_52.jpg\n",
      "1 /home/ssd_array0/Data/batch6.4_1216/cells/2017-10-09-19_01_07_48885_50469_h_270_272_68_64.jpg\n",
      "1 /home/ssd_array0/Data/batch6.4_1216/cells/2017-10-10-17_16_02_16110_38624_180_h_496_479_21_55.jpg\n",
      "1 /home/ssd_array0/Data/batch6.4_1216/cells/L16-16823_73374_30894_270_h_255_60_99_83.jpg\n",
      "1 /home/ssd_array0/Data/batch6.4_1216/cells/L18-18602_40090_42399_90_v_62_459_79_95.jpg\n",
      "1 /home/ssd_array0/Data/batch6.4_1216/cells/2018-03-16-14_14_30_15842_11701_h_474_252_65_104.jpg\n",
      "1 /home/ssd_array0/Data/batch6.4_1216/cells/TC18030710_61495_29647_h_453_447_108_119.jpg\n",
      "1 /home/ssd_array0/Data/batch6.4_1216/cells/2017-10-10-15_46_28_14353_12713_270_v_457_457_99_99.jpg\n",
      "2 /home/ssd_array0/Data/batch6.4_1216/cells/2017-10-11-16_09_59_14570_24755_v_324_515_60_67.jpg\n",
      "2 /home/ssd_array0/Data/batch6.4_1216/cells/2017-10-11-16_09_59_14570_24755_v_262_486_85_41.jpg\n"
     ]
    },
    {
     "name": "stdout",
     "output_type": "stream",
     "text": [
      "2 /home/ssd_array0/Data/batch6.4_1216/cells/2018-03-16-14_14_30_25641_48481_90_v_44_435_115_143.jpg\n",
      "2 /home/ssd_array0/Data/batch6.4_1216/cells/2018-03-16-14_14_30_25641_48481_90_v_72_56_59_65.jpg\n",
      "1 /home/ssd_array0/Data/batch6.4_1216/cells/TC17043925_14142_17910_90_v_477_231_59_147.jpg\n",
      "1 /home/ssd_array0/Data/batch6.4_1216/cells/TC18017597_28008_9804_270_v_401_50_207_101.jpg\n",
      "1 /home/ssd_array0/Data/batch6.4_1216/cells/2017-10-11-16_51_07_17840_32796_270_v_267_460_73_93.jpg\n"
     ]
    }
   ],
   "source": [
    "data_path = \"/home/ssd_array0/Data/batch6.4_1216/flip\"\n",
    "save_path = \"/home/ssd_array0/Data/batch6.4_1216/cells\"\n",
    "os.makedirs(save_path, exist_ok=True)\n",
    "all_txt_names = scan_files(data_path, postfix=\".txt\")\n",
    "\n",
    "txt_names = random.sample(all_txt_names, 100)\n",
    "# txt_names = all_txt_names\n",
    "\n",
    "for txt_name in txt_names:\n",
    "    cut_cells(txt_name, 608, save_path)"
   ]
  },
  {
   "cell_type": "markdown",
   "metadata": {},
   "source": [
    "#### check file quality (empty file)"
   ]
  },
  {
   "cell_type": "code",
   "execution_count": 3,
   "metadata": {},
   "outputs": [
    {
     "name": "stdout",
     "output_type": "stream",
     "text": [
      "3435443\n"
     ]
    }
   ],
   "source": [
    "data_path = \"/home/hdd_array0/batch6.3-1216-yearend/rotate\"\n",
    "\n",
    "allfiles = scan_files(data_path, postfix=\".xml\")\n",
    "print(len(allfiles))"
   ]
  },
  {
   "cell_type": "code",
   "execution_count": 4,
   "metadata": {},
   "outputs": [
    {
     "name": "stdout",
     "output_type": "stream",
     "text": [
      "   5\n"
     ]
    }
   ],
   "source": [
    "corrupted = [i for i in allfiles if os.stat(i).st_size == 0]\n",
    "print(\"  \", len(corrupted))"
   ]
  },
  {
   "cell_type": "code",
   "execution_count": 5,
   "metadata": {},
   "outputs": [
    {
     "name": "stdout",
     "output_type": "stream",
     "text": [
      "   /home/hdd_array0/batch6.3-1216-yearend/rotate/TC16001381_31899_33019_180.xml\n",
      "   /home/hdd_array0/batch6.3-1216-yearend/rotate/2018-01-15-15_51_25_26958_21015_90.xml\n",
      "   /home/hdd_array0/batch6.3-1216-yearend/rotate/TC16006053_44050_47458_180.xml\n",
      "   /home/hdd_array0/batch6.3-1216-yearend/rotate/TC16023398_48293_22728_180.xml\n",
      "   /home/hdd_array0/batch6.3-1216-yearend/rotate/TC16006133_39057_41440_180.xml\n"
     ]
    }
   ],
   "source": [
    "for i in corrupted:\n",
    "    print(\"  \", i)"
   ]
  },
  {
   "cell_type": "code",
   "execution_count": null,
   "metadata": {
    "collapsed": true
   },
   "outputs": [],
   "source": []
  }
 ],
 "metadata": {
  "kernelspec": {
   "display_name": "Python 3",
   "language": "python",
   "name": "python3"
  },
  "language_info": {
   "codemirror_mode": {
    "name": "ipython",
    "version": 3
   },
   "file_extension": ".py",
   "mimetype": "text/x-python",
   "name": "python",
   "nbconvert_exporter": "python",
   "pygments_lexer": "ipython3",
   "version": "3.5.2"
  }
 },
 "nbformat": 4,
 "nbformat_minor": 2
}
