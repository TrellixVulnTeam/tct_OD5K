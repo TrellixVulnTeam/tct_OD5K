{
 "cells": [
  {
   "cell_type": "code",
   "execution_count": 1,
   "metadata": {},
   "outputs": [],
   "source": [
    "import os\n",
    "import random\n",
    "from PIL import Image"
   ]
  },
  {
   "cell_type": "code",
   "execution_count": 2,
   "metadata": {},
   "outputs": [],
   "source": [
    "def scan_files(directory, prefix=None, postfix=None):\n",
    "    files_list = []\n",
    "    for root, sub_dirs, files in os.walk(directory):\n",
    "        for special_file in files:\n",
    "            if postfix:\n",
    "                if special_file.endswith(postfix):\n",
    "                    files_list.append(os.path.join(root, special_file))\n",
    "            elif prefix:\n",
    "                if special_file.startswith(prefix):\n",
    "                    files_list.append(os.path.join(root, special_file))\n",
    "            else:\n",
    "                files_list.append(os.path.join(root, special_file))\n",
    "    return files_list\n",
    "\n",
    "def cut_cells(txt_name, size, save_path):\n",
    "    img_name = os.path.splitext(txt_name)[0] + \".bmp\"\n",
    "    \n",
    "    boxes = []\n",
    "    with open(txt_name, 'r') as f:\n",
    "        for line in f.readlines():\n",
    "            tokens = line.strip().split()\n",
    "            cx, cy = int(float(tokens[1])*size), int(float(tokens[2])*size)\n",
    "            w, h = int(float(tokens[3])*size), int(float(tokens[4])*size)\n",
    "            x, y = int(cx - w/2), int(cy - h/2)\n",
    "            boxes.append([x, y, w, h])\n",
    "    \n",
    "    basename = os.path.splitext(os.path.basename(txt_name))[0]\n",
    "    with Image.open(img_name) as img:\n",
    "        for box in boxes:\n",
    "            jpg_name = os.path.join(save_path, \"{}_{}_{}_{}_{}.jpg\".format(basename, x, y, w, h))\n",
    "            img.crop((box[0], box[1], box[0]+box[2], box[1]+box[3])).save(jpg_name)"
   ]
  },
  {
   "cell_type": "code",
   "execution_count": 3,
   "metadata": {},
   "outputs": [],
   "source": [
    "data_path = \"/home/hdd0/Develop/tct/darknet/cutting_v2/608\"\n",
    "save_path = \"/home/hdd0/Develop/tct/darknet/cutting_v2/608_cells\"\n",
    "all_txt_names = scan_files(data_path, postfix=\".txt\")\n",
    "\n",
    "txt_names = random.sample(all_txt_names, 4)\n",
    "for txt_name in txt_names:\n",
    "    cut_cells(txt_name, 608, save_path)"
   ]
  },
  {
   "cell_type": "code",
   "execution_count": null,
   "metadata": {},
   "outputs": [],
   "source": []
  }
 ],
 "metadata": {
  "kernelspec": {
   "display_name": "Python 3",
   "language": "python",
   "name": "python3"
  },
  "language_info": {
   "codemirror_mode": {
    "name": "ipython",
    "version": 3
   },
   "file_extension": ".py",
   "mimetype": "text/x-python",
   "name": "python",
   "nbconvert_exporter": "python",
   "pygments_lexer": "ipython3",
   "version": "3.5.6"
  }
 },
 "nbformat": 4,
 "nbformat_minor": 2
}
