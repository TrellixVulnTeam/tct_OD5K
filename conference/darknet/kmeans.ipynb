{
 "cells": [
  {
   "cell_type": "code",
   "execution_count": 1,
   "metadata": {
    "collapsed": true
   },
   "outputs": [],
   "source": [
    "import numpy as np\n",
    "from sklearn.cluster import KMeans\n",
    "import os"
   ]
  },
  {
   "cell_type": "code",
   "execution_count": 2,
   "metadata": {
    "collapsed": true
   },
   "outputs": [],
   "source": [
    "def scan_files(directory, prefix=None, postfix=None):\n",
    "    files_list = []\n",
    "    for root, sub_dirs, files in os.walk(directory):\n",
    "        for special_file in files:\n",
    "            if postfix:\n",
    "                if special_file.endswith(postfix):\n",
    "                    files_list.append(os.path.join(root, special_file))\n",
    "            elif prefix:\n",
    "                if special_file.startswith(prefix):\n",
    "                    files_list.append(os.path.join(root, special_file))\n",
    "            else:\n",
    "                files_list.append(os.path.join(root, special_file))\n",
    "    return files_list\n",
    "\n",
    "\n",
    "def collect_sizes(txt_fname, size):\n",
    "    sizes = []\n",
    "    with open(txt_fname, 'r') as f:\n",
    "        for line in f.readlines():\n",
    "            tokens = line.strip().split()\n",
    "            sizes.append([int(float(tokens[3])*size), int(float(tokens[4])*size)])\n",
    "    return sizes\n",
    "\n",
    "def main(data_path, size=608):\n",
    "    txt_fnames = scan_files(data_path, postfix=\".txt\")\n",
    "    sizes = []\n",
    "    for txt_fname in txt_fnames:\n",
    "        sizes += collect_sizes(txt_fname, size)\n",
    "    return sizes"
   ]
  },
  {
   "cell_type": "code",
   "execution_count": 3,
   "metadata": {},
   "outputs": [
    {
     "name": "stdout",
     "output_type": "stream",
     "text": [
      "# files 419424\n"
     ]
    }
   ],
   "source": [
    "data_path = \"/home/ssd0/Develop/liyu/train4/train5\"\n",
    "sizes = main(data_path)\n",
    "\n",
    "print(\"# files\", len(sizes))"
   ]
  },
  {
   "cell_type": "code",
   "execution_count": null,
   "metadata": {
    "collapsed": true
   },
   "outputs": [],
   "source": [
    "data_path = \"/home/hdd_array0/batch6_1216/train_selected\"\n",
    "sizes2 = main(data_path)\n",
    "print(\"# files\", len(sizes2))\n",
    "\n",
    "sizes += sizes2\n",
    "print(\"# files\", len(sizes))"
   ]
  },
  {
   "cell_type": "markdown",
   "metadata": {},
   "source": [
    "#### save sizes"
   ]
  },
  {
   "cell_type": "code",
   "execution_count": null,
   "metadata": {
    "collapsed": true
   },
   "outputs": [],
   "source": [
    "import pickle\n",
    "\n",
    "# # save file\n",
    "# with open(\"1216_sizes.pkl\", 'wb') as f:\n",
    "#     pickle.dump(sizes, f)\n",
    "\n",
    "# open saved file\n",
    "with open(\"1216_sizes.pkl\", 'rb') as f:\n",
    "    sizes = pickle.load(f)"
   ]
  },
  {
   "cell_type": "code",
   "execution_count": null,
   "metadata": {
    "collapsed": true
   },
   "outputs": [],
   "source": [
    "sizes_withrotated = sizes.copy()\n",
    "sizes_withrotated += [[item[1], item[0]] for item in sizes]\n",
    "\n",
    "print(\"  \", len(sizes), len(sizes_withrotated))"
   ]
  },
  {
   "cell_type": "markdown",
   "metadata": {},
   "source": [
    "### plot scattered points"
   ]
  },
  {
   "cell_type": "code",
   "execution_count": null,
   "metadata": {
    "collapsed": true
   },
   "outputs": [],
   "source": [
    "import matplotlib.pyplot as plt"
   ]
  },
  {
   "cell_type": "code",
   "execution_count": null,
   "metadata": {
    "collapsed": true
   },
   "outputs": [],
   "source": [
    "x = [size[0] for size in sizes]\n",
    "y = [size[1] for size in sizes]"
   ]
  },
  {
   "cell_type": "markdown",
   "metadata": {},
   "source": [
    "#### sizes, kmeans 15"
   ]
  },
  {
   "cell_type": "code",
   "execution_count": null,
   "metadata": {
    "collapsed": true,
    "scrolled": false
   },
   "outputs": [],
   "source": [
    "fig, ax = plt.subplots(1, 1, figsize=(15,15))\n",
    "ax.scatter(x, y, marker='.', color='black')\n",
    "\n",
    "# centers = \n",
    "cx = [center[0] for center in centers]\n",
    "cy = [center[1] for center in centers]\n",
    "ax.scatter(cx, cy, marker='s', color='red')\n",
    "\"\"\"\n",
    "#1class: 12,12,  28,29,  40,65,  62,43,  77,84,  108,63,  78,129,  113,103,  197,89,  142,145,  127,227,  220,183,  277,285,  573,255,  337,595\n",
    "#11 classes: 12,12,  28,28,  65,40,  43,63,  84,77,  67,110,  129,76,  106,112,  93,192,  148,140,  232,122,  185,217,  284,277,  264,577,  587,314\n",
    "\"\"\"\n",
    "\n",
    "plt.show()"
   ]
  },
  {
   "cell_type": "markdown",
   "metadata": {},
   "source": [
    "#### sizes_new, kmeans 15"
   ]
  },
  {
   "cell_type": "code",
   "execution_count": null,
   "metadata": {
    "collapsed": true
   },
   "outputs": [],
   "source": [
    "# get the number of boxes that is bigger > 600\n",
    "w_large = [size for size in sizes if size[0] > 600]\n",
    "h_large = [size for size in sizes if size[1] > 600]\n",
    "print(\"  \", \"total\", len(sizes), \"w_large\", len(w_large), \"h_large\", len(h_large))"
   ]
  },
  {
   "cell_type": "code",
   "execution_count": null,
   "metadata": {
    "collapsed": true
   },
   "outputs": [],
   "source": [
    "# remove abnormal boxes\n",
    "sizes_new = [size for size in sizes if size[0] < 600 and size[1] < 600]\n",
    "print(\"  \", \"sizes_new total\", len(sizes_new))\n"
   ]
  },
  {
   "cell_type": "code",
   "execution_count": null,
   "metadata": {
    "collapsed": true
   },
   "outputs": [],
   "source": [
    "fig, ax = plt.subplots(1, 1, figsize=(15,15))\n",
    "ax.scatter(x, y, marker='.', color='black')\n",
    "\n",
    "# centers = \n",
    "cx = [center[0] for center in centers]\n",
    "cy = [center[1] for center in centers]\n",
    "ax.scatter(cx, cy, marker='s', color='red')\n",
    "\"\"\"\n",
    "12,12,  27,28,  55,35,  38,58,  76,65,  62,96,  124,63,  97,94,  91,137,  133,113,  231,111,  160,163,  114,230,  222,233,  346,298\n",
    "\"\"\"\n",
    "\n",
    "plt.show()"
   ]
  },
  {
   "cell_type": "markdown",
   "metadata": {},
   "source": [
    "#### sizes, cv2.kmeans2 15"
   ]
  },
  {
   "cell_type": "code",
   "execution_count": null,
   "metadata": {
    "collapsed": true
   },
   "outputs": [],
   "source": [
    "fig, ax = plt.subplots(1, 1, figsize=(15,15))\n",
    "ax.scatter(x, y, marker='.', color='black')\n",
    "\n",
    "# centers = \n",
    "cx = [center[0] for center in centers]\n",
    "cy = [center[1] for center in centers]\n",
    "ax.scatter(cx, cy, marker='s', color='red')\n",
    "\"\"\"\n",
    "13,13,  29,34,  49,27,  69,50,  54,77,  101,75,  85,108,  192,75,  127,119,  112,193,  193,162,  244,258,  535,247,  248,583,  556,560\n",
    "\"\"\"\n",
    "\n",
    "plt.show()"
   ]
  },
  {
   "cell_type": "markdown",
   "metadata": {},
   "source": [
    "#### sizes_new, cv2.kmeans2 15"
   ]
  },
  {
   "cell_type": "code",
   "execution_count": null,
   "metadata": {
    "collapsed": true
   },
   "outputs": [],
   "source": [
    "fig, ax = plt.subplots(1, 1, figsize=(15,15))\n",
    "ax.scatter(x, y, marker='.', color='black')\n",
    "\n",
    "# centers = \n",
    "cx = [center[0] for center in centers]\n",
    "cy = [center[1] for center in centers]\n",
    "ax.scatter(cx, cy, marker='s', color='red')\n",
    "\"\"\"\n",
    "12,12,  26,27,  48,29,  26,59,  48,53,  80,63,  59,94,  129,61,  94,100,  130,114,  96,173,  229,113,  171,175,  194,291,  308,246\n",
    "\"\"\"\n",
    "\n",
    "plt.show()"
   ]
  },
  {
   "cell_type": "markdown",
   "metadata": {},
   "source": [
    "### kmeans"
   ]
  },
  {
   "cell_type": "code",
   "execution_count": 4,
   "metadata": {
    "collapsed": true
   },
   "outputs": [],
   "source": [
    "X = np.array(sizes)\n",
    "kmeans = KMeans(n_clusters=15, random_state=1).fit(X)"
   ]
  },
  {
   "cell_type": "code",
   "execution_count": 5,
   "metadata": {},
   "outputs": [
    {
     "name": "stdout",
     "output_type": "stream",
     "text": [
      "du [70.10373461 53.85243843]\n",
      "du [12.32059272 12.32059272]\n",
      "du [ 76.60933864 122.08295173]\n",
      "du [194.45599152 142.30567338]\n",
      "du [53.02015897 80.58063587]\n",
      "du [46.87818821 31.0485195 ]\n",
      "du [104.94854432 102.83119779]\n",
      "du [231.65372829 231.15883555]\n",
      "du [35.19475229 51.19500917]\n",
      "du [139.51789976 199.06980907]\n",
      "du [123.3221559  137.23814958]\n",
      "du [25.78879912 26.44159511]\n",
      "du [105.86662788  67.97452806]\n",
      "du [81.67199604 85.49078622]\n",
      "du [141.37435111  95.7386739 ]\n",
      "[array([70.10373461, 53.85243843]), array([12.32059272, 12.32059272]), array([ 76.60933864, 122.08295173]), array([194.45599152, 142.30567338]), array([53.02015897, 80.58063587]), array([46.87818821, 31.0485195 ]), array([104.94854432, 102.83119779]), array([231.65372829, 231.15883555]), array([35.19475229, 51.19500917]), array([139.51789976, 199.06980907]), array([123.3221559 , 137.23814958]), array([25.78879912, 26.44159511]), array([105.86662788,  67.97452806]), array([81.67199604, 85.49078622]), array([141.37435111,  95.7386739 ])]\n"
     ]
    }
   ],
   "source": [
    "centers = []\n",
    "for center in kmeans.cluster_centers_:\n",
    "    print(\"du\", center)\n",
    "    centers.append(center)\n",
    "print(centers)"
   ]
  },
  {
   "cell_type": "code",
   "execution_count": 6,
   "metadata": {},
   "outputs": [
    {
     "name": "stdout",
     "output_type": "stream",
     "text": [
      "{7196: array([105.86662788,  67.97452806]), 6982: array([81.67199604, 85.49078622]), 10791: array([104.94854432, 102.83119779]), 9352: array([ 76.60933864, 122.08295173]), 1801: array([35.19475229, 51.19500917]), 53548: array([231.65372829, 231.15883555]), 681: array([25.78879912, 26.44159511]), 1455: array([46.87818821, 31.0485195 ]), 4272: array([53.02015897, 80.58063587]), 151: array([12.32059272, 12.32059272]), 27672: array([194.45599152, 142.30567338]), 16924: array([123.3221559 , 137.23814958]), 27773: array([139.51789976, 199.06980907]), 13534: array([141.37435111,  95.7386739 ]), 3775: array([70.10373461, 53.85243843])}\n"
     ]
    }
   ],
   "source": [
    "tosort = {int(center[0]*center[1]):center for center in centers}\n",
    "print(tosort)"
   ]
  },
  {
   "cell_type": "code",
   "execution_count": 7,
   "metadata": {
    "scrolled": true
   },
   "outputs": [
    {
     "name": "stdout",
     "output_type": "stream",
     "text": [
      "[(151, array([12.32059272, 12.32059272])), (681, array([25.78879912, 26.44159511])), (1455, array([46.87818821, 31.0485195 ])), (1801, array([35.19475229, 51.19500917])), (3775, array([70.10373461, 53.85243843])), (4272, array([53.02015897, 80.58063587])), (6982, array([81.67199604, 85.49078622])), (7196, array([105.86662788,  67.97452806])), (9352, array([ 76.60933864, 122.08295173])), (10791, array([104.94854432, 102.83119779])), (13534, array([141.37435111,  95.7386739 ])), (16924, array([123.3221559 , 137.23814958])), (27672, array([194.45599152, 142.30567338])), (27773, array([139.51789976, 199.06980907])), (53548, array([231.65372829, 231.15883555]))]\n",
      "  12,12,  25,26,  46,31,  35,51,  70,53,  53,80,  81,85,  105,67,  76,122,  104,102,  141,95,  123,137,  194,142,  139,199,  231,231\n"
     ]
    }
   ],
   "source": [
    "hassorted = sorted(tosort.items())\n",
    "print(hassorted)\n",
    "print(\"  \" + \",  \".join([\"{},{}\".format(int(value[1][0]),int(value[1][1])) for value in hassorted]))"
   ]
  },
  {
   "cell_type": "markdown",
   "metadata": {
    "collapsed": true
   },
   "source": [
    "### cv2.kmeans2"
   ]
  },
  {
   "cell_type": "code",
   "execution_count": null,
   "metadata": {
    "collapsed": true
   },
   "outputs": [],
   "source": [
    "import cv2"
   ]
  },
  {
   "cell_type": "code",
   "execution_count": null,
   "metadata": {
    "collapsed": true
   },
   "outputs": [],
   "source": [
    "X = np.array(sizes_new, dtype=np.float32)\n",
    "\n",
    "criteria = (cv2.TERM_CRITERIA_EPS + cv2.TERM_CRITERIA_MAX_ITER, 10, 1.0)\n",
    "flags = cv2.KMEANS_RANDOM_CENTERS\n",
    "compactness, label, centers = cv2.kmeans(X, 15, None, criteria, 10, flags)"
   ]
  },
  {
   "cell_type": "code",
   "execution_count": null,
   "metadata": {
    "collapsed": true
   },
   "outputs": [],
   "source": [
    "print(centers)\n",
    "tosort = {int(center[0]*center[1]):center for center in centers}\n",
    "print(tosort)\n",
    "hassorted = sorted(tosort.items())\n",
    "print(hassorted)\n",
    "print(\"  \" + \",  \".join([\"{},{}\".format(int(value[1][0]),int(value[1][1])) for value in hassorted]))"
   ]
  },
  {
   "cell_type": "code",
   "execution_count": null,
   "metadata": {
    "collapsed": true
   },
   "outputs": [],
   "source": []
  }
 ],
 "metadata": {
  "kernelspec": {
   "display_name": "Python 3",
   "language": "python",
   "name": "python3"
  },
  "language_info": {
   "codemirror_mode": {
    "name": "ipython",
    "version": 3
   },
   "file_extension": ".py",
   "mimetype": "text/x-python",
   "name": "python",
   "nbconvert_exporter": "python",
   "pygments_lexer": "ipython3",
   "version": "3.5.4"
  }
 },
 "nbformat": 4,
 "nbformat_minor": 2
}
