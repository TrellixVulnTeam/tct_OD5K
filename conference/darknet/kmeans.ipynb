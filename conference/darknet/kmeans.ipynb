{
 "cells": [
  {
   "cell_type": "code",
   "execution_count": 1,
   "metadata": {},
   "outputs": [],
   "source": [
    "import numpy as np\n",
    "from sklearn.cluster import KMeans\n",
    "import os"
   ]
  },
  {
   "cell_type": "code",
   "execution_count": 2,
   "metadata": {},
   "outputs": [],
   "source": [
    "def scan_files(directory, prefix=None, postfix=None):\n",
    "    files_list = []\n",
    "    for root, sub_dirs, files in os.walk(directory):\n",
    "        for special_file in files:\n",
    "            if postfix:\n",
    "                if special_file.endswith(postfix):\n",
    "                    files_list.append(os.path.join(root, special_file))\n",
    "            elif prefix:\n",
    "                if special_file.startswith(prefix):\n",
    "                    files_list.append(os.path.join(root, special_file))\n",
    "            else:\n",
    "                files_list.append(os.path.join(root, special_file))\n",
    "    return files_list\n",
    "\n",
    "\n",
    "def collect_sizes(txt_fname, size):\n",
    "    sizes = []\n",
    "    with open(txt_fname, 'r') as f:\n",
    "        for line in f.readlines():\n",
    "            tokens = line.strip().split()\n",
    "            sizes.append([int(float(tokens[3])*size), int(float(tokens[4])*size)])\n",
    "    return sizes\n",
    "\n",
    "def main(data_path, size=608):\n",
    "    txt_fnames = scan_files(data_path, postfix=\".txt\")\n",
    "    sizes = []\n",
    "    for txt_fname in txt_fnames:\n",
    "        sizes += collect_sizes(txt_fname, size)\n",
    "    return sizes"
   ]
  },
  {
   "cell_type": "code",
   "execution_count": 3,
   "metadata": {},
   "outputs": [],
   "source": [
    "data_path = \"/home/cnn/Documents/batch6_1216/train_hls\"\n",
    "sizes = main(data_path)"
   ]
  },
  {
   "cell_type": "code",
   "execution_count": 4,
   "metadata": {},
   "outputs": [],
   "source": [
    "X = np.array(sizes)\n",
    "kmeans = KMeans(n_clusters = 9, random_state= 1).fit(X)"
   ]
  },
  {
   "cell_type": "code",
   "execution_count": 5,
   "metadata": {},
   "outputs": [
    {
     "name": "stdout",
     "output_type": "stream",
     "text": [
      "du [140.17495512  92.32626431]\n",
      "du [12.82156588 12.80892892]\n",
      "du [521.15207101 262.14970414]\n",
      "du [126.20308345 163.62991447]\n",
      "du [31.32352743 32.25011069]\n",
      "du [65.86080909 62.26409286]\n",
      "du [ 88.58248586 100.39295845]\n",
      "du [227.01268849 207.28811144]\n",
      "du [322.93981083 562.21410146]\n"
     ]
    }
   ],
   "source": [
    "centers = []\n",
    "for center in kmeans.cluster_centers_:\n",
    "    print(\"du\", center)\n",
    "    centers.append(center)"
   ]
  },
  {
   "cell_type": "code",
   "execution_count": 6,
   "metadata": {},
   "outputs": [
    {
     "name": "stdout",
     "output_type": "stream",
     "text": [
      "{47057: array([227.01268849, 207.28811144]), 1010: array([31.32352743, 32.25011069]), 164: array([12.82156588, 12.80892892]), 181561: array([322.93981083, 562.21410146]), 4100: array([65.86080909, 62.26409286]), 20650: array([126.20308345, 163.62991447]), 136619: array([521.15207101, 262.14970414]), 12941: array([140.17495512,  92.32626431]), 8893: array([ 88.58248586, 100.39295845])}\n"
     ]
    }
   ],
   "source": [
    "tosort = {int(center[0]*center[1]):center for center in centers}\n",
    "print(tosort)"
   ]
  },
  {
   "cell_type": "code",
   "execution_count": 7,
   "metadata": {},
   "outputs": [
    {
     "name": "stdout",
     "output_type": "stream",
     "text": [
      "[(164, array([12.82156588, 12.80892892])), (1010, array([31.32352743, 32.25011069])), (4100, array([65.86080909, 62.26409286])), (8893, array([ 88.58248586, 100.39295845])), (12941, array([140.17495512,  92.32626431])), (20650, array([126.20308345, 163.62991447])), (47057, array([227.01268849, 207.28811144])), (136619, array([521.15207101, 262.14970414])), (181561, array([322.93981083, 562.21410146]))]\n",
      "12,12,  31,32,  65,62,  88,100,  140,92,  126,163,  227,207,  521,262,  322,562\n"
     ]
    }
   ],
   "source": [
    "hassorted = sorted(tosort.items())\n",
    "print(hassorted)\n",
    "print(\",  \".join([\"{},{}\".format(int(value[1][0]),int(value[1][1])) for value in hassorted]))"
   ]
  },
  {
   "cell_type": "code",
   "execution_count": null,
   "metadata": {},
   "outputs": [],
   "source": []
  }
 ],
 "metadata": {
  "kernelspec": {
   "display_name": "Python 3",
   "language": "python",
   "name": "python3"
  },
  "language_info": {
   "codemirror_mode": {
    "name": "ipython",
    "version": 3
   },
   "file_extension": ".py",
   "mimetype": "text/x-python",
   "name": "python",
   "nbconvert_exporter": "python",
   "pygments_lexer": "ipython3",
   "version": "3.5.2"
  }
 },
 "nbformat": 4,
 "nbformat_minor": 2
}
