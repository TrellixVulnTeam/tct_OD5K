{
 "cells": [
  {
   "cell_type": "code",
   "execution_count": 1,
   "metadata": {
    "collapsed": true
   },
   "outputs": [],
   "source": [
    "import numpy as np\n",
    "from sklearn.cluster import KMeans\n",
    "import os"
   ]
  },
  {
   "cell_type": "code",
   "execution_count": 2,
   "metadata": {
    "collapsed": true
   },
   "outputs": [],
   "source": [
    "def scan_files(directory, prefix=None, postfix=None):\n",
    "    files_list = []\n",
    "    for root, sub_dirs, files in os.walk(directory):\n",
    "        for special_file in files:\n",
    "            if postfix:\n",
    "                if special_file.endswith(postfix):\n",
    "                    files_list.append(os.path.join(root, special_file))\n",
    "            elif prefix:\n",
    "                if special_file.startswith(prefix):\n",
    "                    files_list.append(os.path.join(root, special_file))\n",
    "            else:\n",
    "                files_list.append(os.path.join(root, special_file))\n",
    "    return files_list\n",
    "\n",
    "\n",
    "def collect_sizes(txt_fname, size):\n",
    "    sizes = []\n",
    "    with open(txt_fname, 'r') as f:\n",
    "        for line in f.readlines():\n",
    "            tokens = line.strip().split()\n",
    "            sizes.append([int(float(tokens[3])*size), int(float(tokens[4])*size)])\n",
    "    return sizes\n",
    "\n",
    "def main(data_path, size=608):\n",
    "    txt_fnames = scan_files(data_path, postfix=\".txt\")\n",
    "    sizes = []\n",
    "    for txt_fname in txt_fnames:\n",
    "        sizes += collect_sizes(txt_fname, size)\n",
    "    return sizes"
   ]
  },
  {
   "cell_type": "code",
   "execution_count": 3,
   "metadata": {
    "collapsed": true
   },
   "outputs": [],
   "source": [
    "data_path = \"/home/ssd0/Develop/liyu/batch6_hls09_1216/train\"\n",
    "sizes = main(data_path)"
   ]
  },
  {
   "cell_type": "code",
   "execution_count": 4,
   "metadata": {},
   "outputs": [],
   "source": [
    "X = np.array(sizes)\n",
    "kmeans = KMeans(n_clusters=9, random_state=1).fit(X)"
   ]
  },
  {
   "cell_type": "code",
   "execution_count": 5,
   "metadata": {},
   "outputs": [
    {
     "name": "stdout",
     "output_type": "stream",
     "text": [
      "du [12.95459679 12.92078274]\n",
      "du [ 89.45918712 100.49992146]\n",
      "du [227.22202378 209.10584199]\n",
      "du [31.61061157 32.62705684]\n",
      "du [125.73313712 165.1151063 ]\n",
      "du [521.82590612 261.91206179]\n",
      "du [142.68227105  93.7540693 ]\n",
      "du [66.38727395 62.6538129 ]\n",
      "du [322.93981083 562.21410146]\n"
     ]
    }
   ],
   "source": [
    "centers = []\n",
    "for center in kmeans.cluster_centers_:\n",
    "    print(\"du\", center)\n",
    "    centers.append(center)"
   ]
  },
  {
   "cell_type": "code",
   "execution_count": 6,
   "metadata": {},
   "outputs": [
    {
     "name": "stdout",
     "output_type": "stream",
     "text": [
      "{136672: array([521.82590612, 261.91206179]), 13377: array([142.68227105,  93.7540693 ]), 1031: array([31.61061157, 32.62705684]), 20760: array([125.73313712, 165.1151063 ]), 47513: array([227.22202378, 209.10584199]), 167: array([12.95459679, 12.92078274]), 181561: array([322.93981083, 562.21410146]), 8990: array([ 89.45918712, 100.49992146]), 4159: array([66.38727395, 62.6538129 ])}\n"
     ]
    }
   ],
   "source": [
    "tosort = {int(center[0]*center[1]):center for center in centers}\n",
    "print(tosort)"
   ]
  },
  {
   "cell_type": "code",
   "execution_count": 7,
   "metadata": {},
   "outputs": [
    {
     "name": "stdout",
     "output_type": "stream",
     "text": [
      "[(167, array([12.95459679, 12.92078274])), (1031, array([31.61061157, 32.62705684])), (4159, array([66.38727395, 62.6538129 ])), (8990, array([ 89.45918712, 100.49992146])), (13377, array([142.68227105,  93.7540693 ])), (20760, array([125.73313712, 165.1151063 ])), (47513, array([227.22202378, 209.10584199])), (136672, array([521.82590612, 261.91206179])), (181561, array([322.93981083, 562.21410146]))]\n",
      "  12,12,  31,32,  66,62,  89,100,  142,93,  125,165,  227,209,  521,261,  322,562\n"
     ]
    }
   ],
   "source": [
    "hassorted = sorted(tosort.items())\n",
    "print(hassorted)\n",
    "print(\"  \" + \",  \".join([\"{},{}\".format(int(value[1][0]),int(value[1][1])) for value in hassorted]))"
   ]
  },
  {
   "cell_type": "code",
   "execution_count": null,
   "metadata": {
    "collapsed": true
   },
   "outputs": [],
   "source": []
  }
 ],
 "metadata": {
  "kernelspec": {
   "display_name": "Python 3",
   "language": "python",
   "name": "python3"
  },
  "language_info": {
   "codemirror_mode": {
    "name": "ipython",
    "version": 3
   },
   "file_extension": ".py",
   "mimetype": "text/x-python",
   "name": "python",
   "nbconvert_exporter": "python",
   "pygments_lexer": "ipython3",
   "version": "3.5.4"
  }
 },
 "nbformat": 4,
 "nbformat_minor": 2
}
