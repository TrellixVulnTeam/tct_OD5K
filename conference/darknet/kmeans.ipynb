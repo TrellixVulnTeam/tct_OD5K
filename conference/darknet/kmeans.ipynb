{
 "cells": [
  {
   "cell_type": "code",
   "execution_count": 1,
   "metadata": {
    "collapsed": true
   },
   "outputs": [],
   "source": [
    "import numpy as np\n",
    "from sklearn.cluster import KMeans\n",
    "import os"
   ]
  },
  {
   "cell_type": "code",
   "execution_count": 2,
   "metadata": {
    "collapsed": true
   },
   "outputs": [],
   "source": [
    "def scan_files(directory, prefix=None, postfix=None):\n",
    "    files_list = []\n",
    "    for root, sub_dirs, files in os.walk(directory):\n",
    "        for special_file in files:\n",
    "            if postfix:\n",
    "                if special_file.endswith(postfix):\n",
    "                    files_list.append(os.path.join(root, special_file))\n",
    "            elif prefix:\n",
    "                if special_file.startswith(prefix):\n",
    "                    files_list.append(os.path.join(root, special_file))\n",
    "            else:\n",
    "                files_list.append(os.path.join(root, special_file))\n",
    "    return files_list\n",
    "\n",
    "\n",
    "def collect_sizes(txt_fname, size):\n",
    "    sizes = []\n",
    "    with open(txt_fname, 'r') as f:\n",
    "        for line in f.readlines():\n",
    "            tokens = line.strip().split()\n",
    "            sizes.append([int(float(tokens[3])*size), int(float(tokens[4])*size)])\n",
    "    return sizes\n",
    "\n",
    "def main(data_path, size=608):\n",
    "    txt_fnames = scan_files(data_path, postfix=\".txt\")\n",
    "    sizes = []\n",
    "    for txt_fname in txt_fnames:\n",
    "        sizes += collect_sizes(txt_fname, size)\n",
    "    return sizes"
   ]
  },
  {
   "cell_type": "code",
   "execution_count": 3,
   "metadata": {
    "collapsed": true
   },
   "outputs": [],
   "source": [
    "data_path = \"/home/ssd0/Develop/liyu/batch6_neg_608/train\"\n",
    "sizes = main(data_path)"
   ]
  },
  {
   "cell_type": "code",
   "execution_count": 4,
   "metadata": {
    "collapsed": true
   },
   "outputs": [],
   "source": [
    "X = np.array(sizes)\n",
    "kmeans = KMeans(n_clusters = 9, random_state= 1).fit(X)"
   ]
  },
  {
   "cell_type": "code",
   "execution_count": 5,
   "metadata": {},
   "outputs": [
    {
     "name": "stdout",
     "output_type": "stream",
     "text": [
      "du [213.80019964 268.88452785]\n",
      "du [44.45136256 45.32691747]\n",
      "du [471.90860044 349.92002539]\n",
      "du [179.26771081 187.89928628]\n",
      "du [251.26895833 199.33808333]\n",
      "du [300.49402692 272.63864106]\n",
      "du [122.15934141 119.00551095]\n",
      "du [550.04358974 574.90769231]\n",
      "du [312.08120096 401.42766974]\n"
     ]
    }
   ],
   "source": [
    "centers = []\n",
    "for center in kmeans.cluster_centers_:\n",
    "    print(\"du\", center)\n",
    "    centers.append(center)"
   ]
  },
  {
   "cell_type": "code",
   "execution_count": 6,
   "metadata": {},
   "outputs": [
    {
     "name": "stdout",
     "output_type": "stream",
     "text": [
      "{316224: array([550.04358974, 574.90769231]), 33684: array([179.26771081, 187.89928628]), 125278: array([312.08120096, 401.42766974]), 81926: array([300.49402692, 272.63864106]), 50087: array([251.26895833, 199.33808333]), 14537: array([122.15934141, 119.00551095]), 165130: array([471.90860044, 349.92002539]), 2014: array([44.45136256, 45.32691747]), 57487: array([213.80019964, 268.88452785])}\n"
     ]
    }
   ],
   "source": [
    "tosort = {int(center[0]*center[1]):center for center in centers}\n",
    "print(tosort)"
   ]
  },
  {
   "cell_type": "code",
   "execution_count": 7,
   "metadata": {},
   "outputs": [
    {
     "name": "stdout",
     "output_type": "stream",
     "text": [
      "[(2014, array([44.45136256, 45.32691747])), (14537, array([122.15934141, 119.00551095])), (33684, array([179.26771081, 187.89928628])), (50087, array([251.26895833, 199.33808333])), (57487, array([213.80019964, 268.88452785])), (81926, array([300.49402692, 272.63864106])), (125278, array([312.08120096, 401.42766974])), (165130, array([471.90860044, 349.92002539])), (316224, array([550.04358974, 574.90769231]))]\n",
      "44,45,  122,119,  179,187,  251,199,  213,268,  300,272,  312,401,  471,349,  550,574\n"
     ]
    }
   ],
   "source": [
    "hassorted = sorted(tosort.items())\n",
    "print(hassorted)\n",
    "print(\",  \".join([\"{},{}\".format(int(value[1][0]),int(value[1][1])) for value in hassorted]))"
   ]
  },
  {
   "cell_type": "code",
   "execution_count": null,
   "metadata": {
    "collapsed": true
   },
   "outputs": [],
   "source": []
  }
 ],
 "metadata": {
  "kernelspec": {
   "display_name": "Python 3",
   "language": "python",
   "name": "python3"
  },
  "language_info": {
   "codemirror_mode": {
    "name": "ipython",
    "version": 3
   },
   "file_extension": ".py",
   "mimetype": "text/x-python",
   "name": "python",
   "nbconvert_exporter": "python",
   "pygments_lexer": "ipython3",
   "version": "3.5.4"
  }
 },
 "nbformat": 4,
 "nbformat_minor": 2
}
