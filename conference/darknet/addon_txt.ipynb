{
 "cells": [
  {
   "cell_type": "code",
   "execution_count": 1,
   "metadata": {
    "collapsed": true
   },
   "outputs": [],
   "source": [
    "import os"
   ]
  },
  {
   "cell_type": "code",
   "execution_count": 1,
   "metadata": {
    "collapsed": true
   },
   "outputs": [],
   "source": [
    "def txt_addon(txt_name, addon):\n",
    "    files = []\n",
    "    with open(txt_name, 'r') as f:\n",
    "        for line in f.readlines():\n",
    "            files.append(line.strip())\n",
    "            \n",
    "    files_all = files.copy()\n",
    "    for file in files:\n",
    "        pre, pos = os.path.splitext(file)\n",
    "        file_ = pre + addon + pos\n",
    "        files_all.append(file_)\n",
    "    \n",
    "    pre, pos = os.path.splitext(txt_name)\n",
    "    txt_name_ = pre + addon + pos\n",
    "    with open(txt_name_, 'w') as f:\n",
    "        for file in files_all:\n",
    "            f.write(file + '\\n')\n",
    "            \n",
    "def txt_replace(txt_name):\n",
    "    files = []\n",
    "    with open(txt_name, 'r') as f:\n",
    "        for line in f.readlines():\n",
    "            files.append(line.strip())\n",
    "    \n",
    "    with open(txt_name, 'w') as f:\n",
    "        for file in files:\n",
    "            file = file.replace(\"batch6_hls09_1216\", \"batch6_1216\")\n",
    "            f.write(file + '\\n')"
   ]
  },
  {
   "cell_type": "code",
   "execution_count": 3,
   "metadata": {
    "collapsed": true
   },
   "outputs": [],
   "source": [
    "txt_name = \"/home/ssd0/Develop/liyu/batch6_1216/valid2.txt\"\n",
    "# addon = \"_hls09\"\n",
    "\n",
    "# txt_addon(txt_name, addon)\n",
    "txt_replace(txt_name)"
   ]
  },
  {
   "cell_type": "code",
   "execution_count": null,
   "metadata": {
    "collapsed": true
   },
   "outputs": [],
   "source": []
  }
 ],
 "metadata": {
  "kernelspec": {
   "display_name": "Python 3",
   "language": "python",
   "name": "python3"
  },
  "language_info": {
   "codemirror_mode": {
    "name": "ipython",
    "version": 3
   },
   "file_extension": ".py",
   "mimetype": "text/x-python",
   "name": "python",
   "nbconvert_exporter": "python",
   "pygments_lexer": "ipython3",
   "version": "3.5.4"
  }
 },
 "nbformat": 4,
 "nbformat_minor": 2
}
