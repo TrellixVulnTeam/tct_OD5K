{
 "cells": [
  {
   "cell_type": "code",
   "execution_count": 1,
   "metadata": {
    "collapsed": true
   },
   "outputs": [],
   "source": [
    "import os\n",
    "import random\n",
    "import shutil\n",
    "\n",
    "from multiprocessing import cpu_count\n",
    "from concurrent.futures import ProcessPoolExecutor, as_completed"
   ]
  },
  {
   "cell_type": "code",
   "execution_count": 2,
   "metadata": {
    "collapsed": true
   },
   "outputs": [],
   "source": [
    "def scan_files(directory, prefix=None, postfix=None):\n",
    "    files_list = []\n",
    "    for root, sub_dirs, files in os.walk(directory):\n",
    "        for special_file in files:\n",
    "            if postfix:\n",
    "                if special_file.endswith(postfix):\n",
    "                    files_list.append(os.path.join(root, special_file))\n",
    "            elif prefix:\n",
    "                if special_file.startswith(prefix):\n",
    "                    files_list.append(os.path.join(root, special_file))\n",
    "            else:\n",
    "                files_list.append(os.path.join(root, special_file))\n",
    "    return files_list"
   ]
  },
  {
   "cell_type": "markdown",
   "metadata": {},
   "source": [
    "### partial select"
   ]
  },
  {
   "cell_type": "code",
   "execution_count": null,
   "metadata": {
    "collapsed": true
   },
   "outputs": [],
   "source": [
    "# 11 yolo classes\n",
    "yolo_classes = {\"ACTINO\":9, \"CC\":8, \"VIRUS\":10, \"FUNGI\":6, \"TRI\":7, \"AGC_A\":4, \n",
    "                \"AGC_B\":4, \"EC\":5, \"HSIL_B\":2, \"HSIL_M\":2, \"HSIL_S\":2, \"SCC_G\":3, \n",
    "                \"ASCUS\":0, \"LSIL_F\":0, \"LSIL_E\":1, \"SCC_R\":3}\n",
    "\n",
    "not_choose = [\"AGC_A\", \"AGC_B\", \"HSIL_B\", \"HSIL_M\", \"HSIL_S\", \"FUNGI\", \"SCC_G\", \"SCC_R\"]\n",
    "not_choose_index = [yolo_classes[key] for key in not_choose]"
   ]
  },
  {
   "cell_type": "code",
   "execution_count": null,
   "metadata": {
    "collapsed": true
   },
   "outputs": [],
   "source": [
    "def choose(txt_name):\n",
    "    with open(txt_name, 'r') as f:\n",
    "        for line in f.readlines():\n",
    "            if int(line.strip().split()[0]) in not_choose_index:\n",
    "                return False\n",
    "    return True\n",
    "\n",
    "def move(txt, dst_dir):\n",
    "#     if txt.endswith(\"_hls09.txt\"):  # these are hl changed, we only need original images\n",
    "#         continue\n",
    "    if (not txt.endswith(\"_hls09.txt\")) and choose(txt):\n",
    "        shutil.move(txt, dst_dir)\n",
    "        bmp = os.path.splitext(txt)[0] + \".bmp\"\n",
    "        shutil.move(bmp, dst_dir)\n",
    "\n",
    "def batch_move(txts, dst_dir):\n",
    "    for txt in txts:\n",
    "        move(txt, dst_dir)\n",
    "        \n",
    "def main(src_dir, dst_dir):\n",
    "    print(\"start work\")\n",
    "    txts = scan_files(src_dir, postfix=\".txt\")\n",
    "    print(\"total files\", len(txts))\n",
    "    \n",
    "    executor = ProcessPoolExecutor(max_workers=4)\n",
    "    tasks = []\n",
    "\n",
    "    batch_size = 1000\n",
    "    for i in range(0, len(txts), batch_size):\n",
    "        batch = txts[i : i+batch_size]\n",
    "        tasks.append(executor.submit(batch_move, txts, dst_dir))\n",
    "    \n",
    "    job_count = len(tasks)\n",
    "    for future in as_completed(tasks):\n",
    "        # result = future.result()  # get the returning result from calling fuction\n",
    "        job_count -= 1\n",
    "        print(\"One Job Done, Remaining Job Count: %s\" % (job_count))"
   ]
  },
  {
   "cell_type": "code",
   "execution_count": null,
   "metadata": {
    "collapsed": true
   },
   "outputs": [],
   "source": [
    "src_dir = \"/home/hdd_array0/batch6_1216/train\"\n",
    "dst_dir = \"/home/hdd_array0/batch6_1216/train_selected\"\n",
    "\n",
    "main(src_dir, dst_dir)"
   ]
  },
  {
   "cell_type": "markdown",
   "metadata": {
    "collapsed": true
   },
   "source": [
    "### select HSIL-SCC_G\n",
    " - randomly select half the data from four rotated partitions"
   ]
  },
  {
   "cell_type": "code",
   "execution_count": 30,
   "metadata": {
    "collapsed": true
   },
   "outputs": [],
   "source": [
    "classes = set([1])  # HSIL-SCC_G\n",
    "data_path1 = \"/home/ssd_array/data/batch6.4_1216/original\"\n",
    "data_path2 = \"/home/ssd_array/data/batch6.4_1216/rotate\""
   ]
  },
  {
   "cell_type": "code",
   "execution_count": 31,
   "metadata": {
    "collapsed": true
   },
   "outputs": [],
   "source": [
    "def read_and_record(txt_names):\n",
    "    name_map = {}\n",
    "    \n",
    "    for i,txt_name in enumerate(txt_names):\n",
    "        is_in = False\n",
    "        with open(txt_name, 'r') as f:\n",
    "            for line in f.readlines():\n",
    "                tokens = line.strip().split()\n",
    "                if int(tokens[0]) in classes:\n",
    "                    is_in = True\n",
    "                    break\n",
    "\n",
    "        if is_in:\n",
    "            basename = os.path.splitext(os.path.basename(txt_name))[0]\n",
    "            name_map[basename] = [txt_name]\n",
    "    \n",
    "        if i % 10000 == 0:\n",
    "            print(i)\n",
    "    \n",
    "    return name_map"
   ]
  },
  {
   "cell_type": "code",
   "execution_count": 32,
   "metadata": {
    "scrolled": true
   },
   "outputs": [
    {
     "name": "stdout",
     "output_type": "stream",
     "text": [
      "0\n",
      "10000\n",
      "20000\n",
      "30000\n",
      "40000\n",
      "50000\n",
      "60000\n",
      "70000\n",
      "80000\n",
      "90000\n",
      "100000\n",
      "110000\n",
      "120000\n",
      "130000\n",
      "140000\n",
      "150000\n",
      "160000\n",
      "170000\n",
      "180000\n",
      "190000\n",
      "200000\n",
      "210000\n",
      "220000\n",
      "230000\n",
      "240000\n",
      "250000\n",
      "260000\n",
      "270000\n",
      "280000\n",
      "290000\n",
      "300000\n",
      "310000\n",
      "320000\n",
      "330000\n",
      "340000\n",
      "350000\n",
      "360000\n",
      "370000\n",
      "380000\n",
      "390000\n",
      "400000\n",
      "410000\n",
      "420000\n",
      "430000\n",
      "440000\n",
      "450000\n",
      "460000\n",
      "470000\n",
      "480000\n",
      "490000\n",
      "500000\n",
      "510000\n",
      "520000\n",
      "530000\n",
      "540000\n",
      "550000\n",
      "560000\n",
      "570000\n",
      "580000\n",
      "590000\n",
      "600000\n",
      "610000\n",
      "620000\n",
      "630000\n",
      "640000\n",
      "650000\n",
      "660000\n",
      "670000\n",
      "680000\n",
      "690000\n",
      "700000\n",
      "710000\n",
      "720000\n",
      "730000\n",
      "740000\n",
      "750000\n",
      "760000\n",
      "770000\n",
      "780000\n",
      "790000\n",
      "800000\n",
      "810000\n",
      "820000\n",
      "830000\n",
      "840000\n",
      "850000\n",
      "860000\n",
      "870000\n",
      "880000\n",
      "890000\n",
      "900000\n",
      "910000\n",
      "920000\n",
      "930000\n",
      "940000\n",
      "950000\n",
      "960000\n",
      "970000\n",
      "980000\n",
      "990000\n",
      "1000000\n",
      "1010000\n",
      "1020000\n",
      "1030000\n",
      "1040000\n",
      "1050000\n",
      "1060000\n"
     ]
    }
   ],
   "source": [
    "files1 = scan_files(data_path1, postfix='.txt')\n",
    "name_map = read_and_record(files1)"
   ]
  },
  {
   "cell_type": "code",
   "execution_count": 33,
   "metadata": {},
   "outputs": [
    {
     "name": "stdout",
     "output_type": "stream",
     "text": [
      "365874\n"
     ]
    }
   ],
   "source": [
    "print(len(name_map))"
   ]
  },
  {
   "cell_type": "code",
   "execution_count": 34,
   "metadata": {
    "collapsed": true
   },
   "outputs": [],
   "source": [
    "def read_and_record(txt_names, name_map):\n",
    "    \n",
    "    for i,txt_name in enumerate(txt_names):\n",
    "        basename = os.path.splitext(os.path.basename(txt_name))[0]\n",
    "        basename = basename.split('_90')[0]\n",
    "        basename = basename.split('_180')[0]\n",
    "        basename = basename.split('_270')[0]\n",
    "        if basename in name_map:\n",
    "            name_map[basename].append(txt_name)\n",
    "    \n",
    "        if i % 10000 == 0:\n",
    "            print(i)\n",
    "    \n",
    "    return name_map"
   ]
  },
  {
   "cell_type": "code",
   "execution_count": 35,
   "metadata": {},
   "outputs": [
    {
     "name": "stdout",
     "output_type": "stream",
     "text": [
      "0\n",
      "10000\n",
      "20000\n",
      "30000\n",
      "40000\n",
      "50000\n",
      "60000\n",
      "70000\n",
      "80000\n",
      "90000\n",
      "100000\n",
      "110000\n",
      "120000\n",
      "130000\n",
      "140000\n",
      "150000\n",
      "160000\n",
      "170000\n",
      "180000\n",
      "190000\n",
      "200000\n",
      "210000\n",
      "220000\n",
      "230000\n",
      "240000\n",
      "250000\n",
      "260000\n",
      "270000\n",
      "280000\n",
      "290000\n",
      "300000\n",
      "310000\n",
      "320000\n",
      "330000\n",
      "340000\n",
      "350000\n",
      "360000\n",
      "370000\n",
      "380000\n",
      "390000\n",
      "400000\n",
      "410000\n",
      "420000\n",
      "430000\n",
      "440000\n",
      "450000\n",
      "460000\n",
      "470000\n",
      "480000\n",
      "490000\n",
      "500000\n",
      "510000\n",
      "520000\n",
      "530000\n",
      "540000\n",
      "550000\n",
      "560000\n",
      "570000\n",
      "580000\n",
      "590000\n",
      "600000\n",
      "610000\n",
      "620000\n",
      "630000\n",
      "640000\n",
      "650000\n",
      "660000\n",
      "670000\n",
      "680000\n",
      "690000\n",
      "700000\n",
      "710000\n",
      "720000\n",
      "730000\n",
      "740000\n",
      "750000\n",
      "760000\n",
      "770000\n",
      "780000\n",
      "790000\n",
      "800000\n",
      "810000\n",
      "820000\n",
      "830000\n",
      "840000\n",
      "850000\n",
      "860000\n",
      "870000\n",
      "880000\n",
      "890000\n",
      "900000\n",
      "910000\n",
      "920000\n",
      "930000\n",
      "940000\n",
      "950000\n",
      "960000\n",
      "970000\n",
      "980000\n",
      "990000\n",
      "1000000\n",
      "1010000\n",
      "1020000\n",
      "1030000\n",
      "1040000\n",
      "1050000\n",
      "1060000\n",
      "1070000\n",
      "1080000\n",
      "1090000\n",
      "1100000\n",
      "1110000\n",
      "1120000\n",
      "1130000\n",
      "1140000\n",
      "1150000\n",
      "1160000\n",
      "1170000\n",
      "1180000\n",
      "1190000\n",
      "1200000\n",
      "1210000\n",
      "1220000\n",
      "1230000\n",
      "1240000\n",
      "1250000\n",
      "1260000\n",
      "1270000\n",
      "1280000\n",
      "1290000\n",
      "1300000\n",
      "1310000\n",
      "1320000\n",
      "1330000\n",
      "1340000\n",
      "1350000\n",
      "1360000\n",
      "1370000\n",
      "1380000\n",
      "1390000\n",
      "1400000\n",
      "1410000\n",
      "1420000\n",
      "1430000\n",
      "1440000\n",
      "1450000\n",
      "1460000\n",
      "1470000\n",
      "1480000\n",
      "1490000\n",
      "1500000\n",
      "1510000\n",
      "1520000\n",
      "1530000\n",
      "1540000\n",
      "1550000\n",
      "1560000\n",
      "1570000\n",
      "1580000\n",
      "1590000\n",
      "1600000\n",
      "1610000\n",
      "1620000\n",
      "1630000\n",
      "1640000\n",
      "1650000\n",
      "1660000\n",
      "1670000\n",
      "1680000\n",
      "1690000\n",
      "1700000\n",
      "1710000\n",
      "1720000\n",
      "1730000\n",
      "1740000\n",
      "1750000\n",
      "1760000\n",
      "1770000\n",
      "1780000\n",
      "1790000\n",
      "1800000\n",
      "1810000\n",
      "1820000\n",
      "1830000\n",
      "1840000\n",
      "1850000\n",
      "1860000\n",
      "1870000\n",
      "1880000\n",
      "1890000\n",
      "1900000\n",
      "1910000\n",
      "1920000\n",
      "1930000\n",
      "1940000\n",
      "1950000\n",
      "1960000\n",
      "1970000\n",
      "1980000\n",
      "1990000\n",
      "2000000\n",
      "2010000\n",
      "2020000\n",
      "2030000\n",
      "2040000\n",
      "2050000\n",
      "2060000\n",
      "2070000\n",
      "2080000\n",
      "2090000\n",
      "2100000\n",
      "2110000\n",
      "2120000\n",
      "2130000\n",
      "2140000\n",
      "2150000\n",
      "2160000\n",
      "2170000\n",
      "2180000\n",
      "2190000\n",
      "2200000\n",
      "2210000\n",
      "2220000\n",
      "2230000\n",
      "2240000\n",
      "2250000\n",
      "2260000\n",
      "2270000\n",
      "2280000\n",
      "2290000\n",
      "2300000\n",
      "2310000\n",
      "2320000\n",
      "2330000\n",
      "2340000\n",
      "2350000\n",
      "2360000\n",
      "2370000\n",
      "2380000\n",
      "2390000\n",
      "2400000\n",
      "2410000\n",
      "2420000\n",
      "2430000\n",
      "2440000\n",
      "2450000\n",
      "2460000\n",
      "2470000\n",
      "2480000\n",
      "2490000\n",
      "2500000\n",
      "2510000\n",
      "2520000\n",
      "2530000\n",
      "2540000\n",
      "2550000\n",
      "2560000\n",
      "2570000\n",
      "2580000\n",
      "2590000\n",
      "2600000\n",
      "2610000\n",
      "2620000\n",
      "2630000\n",
      "2640000\n",
      "2650000\n",
      "2660000\n",
      "2670000\n",
      "2680000\n",
      "2690000\n",
      "2700000\n",
      "2710000\n",
      "2720000\n",
      "2730000\n",
      "2740000\n",
      "2750000\n",
      "2760000\n",
      "2770000\n",
      "2780000\n",
      "2790000\n",
      "2800000\n",
      "2810000\n",
      "2820000\n",
      "2830000\n",
      "2840000\n",
      "2850000\n",
      "2860000\n",
      "2870000\n",
      "2880000\n",
      "2890000\n",
      "2900000\n",
      "2910000\n",
      "2920000\n",
      "2930000\n",
      "2940000\n",
      "2950000\n",
      "2960000\n",
      "2970000\n",
      "2980000\n",
      "2990000\n",
      "3000000\n",
      "3010000\n",
      "3020000\n",
      "3030000\n",
      "3040000\n",
      "3050000\n",
      "3060000\n",
      "3070000\n",
      "3080000\n",
      "3090000\n"
     ]
    }
   ],
   "source": [
    "files2 = scan_files(data_path2, postfix='.txt')\n",
    "name_map4 = read_and_record(files2, name_map.copy())"
   ]
  },
  {
   "cell_type": "code",
   "execution_count": 36,
   "metadata": {},
   "outputs": [
    {
     "name": "stdout",
     "output_type": "stream",
     "text": [
      "365874\n"
     ]
    }
   ],
   "source": [
    "print(len(name_map4))"
   ]
  },
  {
   "cell_type": "code",
   "execution_count": 37,
   "metadata": {
    "collapsed": true
   },
   "outputs": [],
   "source": [
    "def select_to_delete(name_map, N=2):\n",
    "    name_map_new = {}\n",
    "    for name,paths in name_map.items():\n",
    "        if len(paths) <= N:\n",
    "            continue\n",
    "        paths_new = random.sample(paths, N)\n",
    "        name_map_new[name] = paths_new\n",
    "    return name_map_new"
   ]
  },
  {
   "cell_type": "code",
   "execution_count": 38,
   "metadata": {},
   "outputs": [
    {
     "name": "stdout",
     "output_type": "stream",
     "text": [
      "357665\n"
     ]
    }
   ],
   "source": [
    "name_map_to_delete = select_to_delete(name_map4.copy())\n",
    "print(len(name_map_to_delete))"
   ]
  },
  {
   "cell_type": "code",
   "execution_count": 39,
   "metadata": {},
   "outputs": [
    {
     "name": "stdout",
     "output_type": "stream",
     "text": [
      "715330\n"
     ]
    }
   ],
   "source": [
    "# flatten path names\n",
    "paths_to_delete = []\n",
    "for name,paths in name_map_to_delete.items():\n",
    "    paths_to_delete += paths\n",
    "print(len(paths_to_delete))"
   ]
  },
  {
   "cell_type": "code",
   "execution_count": 40,
   "metadata": {},
   "outputs": [
    {
     "name": "stdout",
     "output_type": "stream",
     "text": [
      "876978\n"
     ]
    }
   ],
   "source": [
    "files1_rest = set(files1) - set(paths_to_delete)\n",
    "print(len(files1_rest))"
   ]
  },
  {
   "cell_type": "code",
   "execution_count": 41,
   "metadata": {},
   "outputs": [
    {
     "name": "stdout",
     "output_type": "stream",
     "text": [
      "2565426\n"
     ]
    }
   ],
   "source": [
    "files2_rest = set(files2) - set(paths_to_delete)\n",
    "print(len(files2_rest))"
   ]
  },
  {
   "cell_type": "code",
   "execution_count": 42,
   "metadata": {
    "collapsed": true
   },
   "outputs": [],
   "source": [
    "files1_rest = [os.path.splitext(f)[0]+'.bmp' for f in files1_rest]\n",
    "files1_lines = '\\n'.join(files1_rest) + '\\n'\n",
    "with open('./original.txt', 'w') as f:\n",
    "    f.write(files1_lines)"
   ]
  },
  {
   "cell_type": "code",
   "execution_count": 43,
   "metadata": {
    "collapsed": true
   },
   "outputs": [],
   "source": [
    "files2_rest = [os.path.splitext(f)[0]+'.bmp' for f in files2_rest]\n",
    "files2_lines = '\\n'.join(files2_rest) + '\\n'\n",
    "with open('./rotate.txt', 'w') as f:\n",
    "    f.write(files2_lines)"
   ]
  },
  {
   "cell_type": "markdown",
   "metadata": {
    "collapsed": true
   },
   "source": [
    "### remove those without matching img&txt files"
   ]
  },
  {
   "cell_type": "code",
   "execution_count": 44,
   "metadata": {},
   "outputs": [
    {
     "name": "stdout",
     "output_type": "stream",
     "text": [
      "   # files 1999998\n",
      "   # basenames 999999\n",
      "   # unmatched 0\n"
     ]
    }
   ],
   "source": [
    "data_path = \"/home/ssd_array/data/batch6.4_1216/rotate_new\"\n",
    "all_files = scan_files(data_path)\n",
    "print(\"  \", \"# files\", len(all_files))\n",
    "\n",
    "name_match = {}\n",
    "for f in all_files:\n",
    "    b = os.path.splitext(os.path.basename(f))[0]\n",
    "    if not b in name_match:\n",
    "        name_match[b] = []\n",
    "    name_match[b].append(f)\n",
    "print(\"  \", \"# basenames\", len(name_match))\n",
    "    \n",
    "cnt = 0\n",
    "for n,m in name_match.items():\n",
    "    if len(m) < 2:\n",
    "        cnt += 1\n",
    "        for f in m:\n",
    "            os.remove(f)\n",
    "    elif len(m) > 2:\n",
    "        print(n)\n",
    "print(\"  \", \"# unmatched\", cnt)"
   ]
  },
  {
   "cell_type": "markdown",
   "metadata": {},
   "source": [
    "### check correctness of renaming"
   ]
  },
  {
   "cell_type": "code",
   "execution_count": 28,
   "metadata": {},
   "outputs": [
    {
     "name": "stdout",
     "output_type": "stream",
     "text": [
      "   # files 169456\n"
     ]
    }
   ],
   "source": [
    "data_path = \"/home/ssd_array/data/batch6.4_1216/rotate_\"\n",
    "all_files = scan_files(data_path)\n",
    "print(\"  \", \"# files\", len(all_files))\n",
    "\n",
    "for f in all_files:\n",
    "    f = os.path.basename(f)\n",
    "    if not f.startswith('_'):\n",
    "        print(\"  \", f)"
   ]
  },
  {
   "cell_type": "markdown",
   "metadata": {},
   "source": [
    "### write img file paths to txt"
   ]
  },
  {
   "cell_type": "code",
   "execution_count": 64,
   "metadata": {
    "collapsed": true
   },
   "outputs": [],
   "source": [
    "data_path = [\"/home/ssd_array/data/batch6.4_1216/ascus\", \n",
    "             \"/home/ssd_array/data/batch6.4_1216/ascus-flip\", \n",
    "             \"/home/ssd_array/data/batch6.4_1216/flip\", \n",
    "             \"/home/ssd_array/data/batch6.4_1216/fungi\", \n",
    "             \"/home/ssd_array/data/batch6.4_1216/fungi-flip\", \n",
    "             \"/home/ssd_array/data/batch6.4_1216/original\", \n",
    "             \"/home/ssd_array/data/batch6.4_1216/rotate\", \n",
    "             \"/home/ssd_array/data/batch6.4_1216/tri\", \n",
    "             \"/home/ssd_array/data/batch6.4_1216/rotate_new\"]"
   ]
  },
  {
   "cell_type": "code",
   "execution_count": 65,
   "metadata": {},
   "outputs": [
    {
     "name": "stdout",
     "output_type": "stream",
     "text": [
      "   /home/ssd_array/data/batch6.4_1216/ascus 132148\n",
      "   /home/ssd_array/data/batch6.4_1216/ascus-flip 396444\n",
      "   /home/ssd_array/data/batch6.4_1216/flip 1617820\n",
      "   /home/ssd_array/data/batch6.4_1216/fungi 1661640\n",
      "   /home/ssd_array/data/batch6.4_1216/fungi-flip 1749280\n",
      "   /home/ssd_array/data/batch6.4_1216/original 2809886\n",
      "   /home/ssd_array/data/batch6.4_1216/rotate 4907014\n",
      "   /home/ssd_array/data/batch6.4_1216/tri 5809106\n",
      "   /home/ssd_array/data/batch6.4_1216/rotate_new 6809105\n"
     ]
    }
   ],
   "source": [
    "all_imgs = []\n",
    "for path in data_path:\n",
    "    all_imgs += scan_files(path, prefix=\"_n\", postfix=\".bmp\")\n",
    "    print(\"  \", path, len(all_imgs))"
   ]
  },
  {
   "cell_type": "code",
   "execution_count": 66,
   "metadata": {},
   "outputs": [],
   "source": [
    "all_imgs = [f for f in all_imgs if os.path.basename(f).startswith(\"_n\")]"
   ]
  },
  {
   "cell_type": "code",
   "execution_count": 67,
   "metadata": {},
   "outputs": [
    {
     "name": "stdout",
     "output_type": "stream",
     "text": [
      "   5642729\n"
     ]
    }
   ],
   "source": [
    "matched = []\n",
    "for img in all_imgs:\n",
    "    txt = os.path.splitext(img)[0] + '.txt'\n",
    "    if os.path.isfile(txt):\n",
    "        matched.append(img)\n",
    "print(\"  \", len(matched))"
   ]
  },
  {
   "cell_type": "code",
   "execution_count": 68,
   "metadata": {},
   "outputs": [
    {
     "name": "stdout",
     "output_type": "stream",
     "text": [
      "   set()\n"
     ]
    }
   ],
   "source": [
    "print(\"  \", set(all_imgs)-set(matched))"
   ]
  },
  {
   "cell_type": "code",
   "execution_count": 69,
   "metadata": {},
   "outputs": [
    {
     "name": "stdout",
     "output_type": "stream",
     "text": [
      "   5375146\n"
     ]
    }
   ],
   "source": [
    "matched_basenames = [os.path.basename(f) for f in matched]\n",
    "print(\"  \", len(set(matched_basenames)))"
   ]
  },
  {
   "cell_type": "code",
   "execution_count": 70,
   "metadata": {
    "collapsed": true
   },
   "outputs": [],
   "source": [
    "random.shuffle(matched)\n",
    "random.shuffle(matched)\n",
    "random.shuffle(matched)\n",
    "random.shuffle(matched)\n",
    "random.shuffle(matched)\n",
    "random.shuffle(matched)"
   ]
  },
  {
   "cell_type": "code",
   "execution_count": 71,
   "metadata": {
    "collapsed": true
   },
   "outputs": [],
   "source": [
    "train = matched[len(matched)//10:]\n",
    "valid = matched[:len(matched)//10]\n",
    "with open('train.txt', 'w') as f:\n",
    "    for l in train:\n",
    "        f.write(l+'\\n')\n",
    "with open('valid.txt', 'w') as f:\n",
    "    for l in valid:\n",
    "        f.write(l+'\\n')    "
   ]
  },
  {
   "cell_type": "code",
   "execution_count": null,
   "metadata": {
    "collapsed": true
   },
   "outputs": [],
   "source": []
  },
  {
   "cell_type": "code",
   "execution_count": 73,
   "metadata": {
    "collapsed": true
   },
   "outputs": [],
   "source": [
    "tmp_path = \"/home/ssd_array/data/batch6.4_1216/tmp\"\n",
    "\n",
    "tmp = matched[:500]\n",
    "for f in tmp:\n",
    "    shutil.copy(f, tmp_path)\n",
    "    txt = os.path.splitext(f)[0] + '.txt'\n",
    "    shutil.copy(txt, tmp_path)"
   ]
  },
  {
   "cell_type": "code",
   "execution_count": null,
   "metadata": {
    "collapsed": true
   },
   "outputs": [],
   "source": []
  }
 ],
 "metadata": {
  "kernelspec": {
   "display_name": "Python 3",
   "language": "python",
   "name": "python3"
  },
  "language_info": {
   "codemirror_mode": {
    "name": "ipython",
    "version": 3
   },
   "file_extension": ".py",
   "mimetype": "text/x-python",
   "name": "python",
   "nbconvert_exporter": "python",
   "pygments_lexer": "ipython3",
   "version": "3.5.4"
  }
 },
 "nbformat": 4,
 "nbformat_minor": 2
}
