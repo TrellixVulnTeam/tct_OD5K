{
 "cells": [
  {
   "cell_type": "code",
   "execution_count": 1,
   "metadata": {},
   "outputs": [
    {
     "name": "stderr",
     "output_type": "stream",
     "text": [
      "Using TensorFlow backend.\n"
     ]
    }
   ],
   "source": [
    "import os\n",
    "#-------------------------- set gpu using tf ---------------------------\n",
    "import tensorflow as tf\n",
    "config = tf.ConfigProto()\n",
    "config.gpu_options.allow_growth = True\n",
    "session = tf.Session(config=config)\n",
    "#-------------------  start importing keras module ---------------------\n",
    "import keras.backend.tensorflow_backend as K\n",
    "K.set_session(session)\n",
    "\n",
    "from keras.models import *\n",
    "from keras.layers import *\n",
    "from keras.applications import *\n",
    "from keras.preprocessing.image import *\n",
    "from keras.utils.training_utils import multi_gpu_model\n",
    "from keras import optimizers\n",
    "from keras import regularizers\n",
    "from multiprocessing import cpu_count"
   ]
  },
  {
   "cell_type": "code",
   "execution_count": 2,
   "metadata": {},
   "outputs": [],
   "source": [
    "nb_classes = 2\n",
    "nb_cpus = 4\n",
    "nb_gpus = 2\n",
    "\n",
    "image_size = (299, 299)\n",
    "input_shape= (299, 299, 3)\n",
    "\n",
    "train_path = \"/home/hdd0/Develop/immune/ext-data/data299/train\"\n",
    "valid_path = \"/home/hdd0/Develop/immune/ext-data/data299/valid\""
   ]
  },
  {
   "cell_type": "code",
   "execution_count": 3,
   "metadata": {},
   "outputs": [],
   "source": [
    "with tf.device('/cpu:0'):\n",
    "    input_tensor = Input(input_shape)\n",
    "    x = Lambda(xception.preprocess_input)(input_tensor)\n",
    "\n",
    "    base_model = Xception(input_tensor=x, weights='imagenet', include_top=False)\n",
    "    m_out = base_model.output\n",
    "    p_out = GlobalAveragePooling2D()(m_out)\n",
    "    p_out = Dropout(0.5)(p_out)\n",
    "    predictions = Dense(nb_classes, activation='softmax', name=\"predictions\")(p_out)\n",
    "\n",
    "#     for layer in base_model.layers:\n",
    "#         layer.trainable = False\n",
    "\n",
    "    model = Model(inputs=base_model.input, outputs=predictions)\n",
    "    \n",
    "#     model.load_weights(\"Xception_first_train.h5\")\n",
    "\n",
    "if nb_gpus > 1:\n",
    "    parallel_model = multi_gpu_model(model, gpus=nb_gpus)\n",
    "else:\n",
    "    parallel_model = model\n",
    "    \n",
    "# optimizer = optimizers.SGD(lr=0.01, momentum=0.9, decay=0.0003)\n",
    "parallel_model.compile(optimizer=\"Adadelta\", \n",
    "                       loss='categorical_crossentropy', \n",
    "                       metrics=['accuracy'])\n",
    "\n",
    "# model.summary()"
   ]
  },
  {
   "cell_type": "code",
   "execution_count": 4,
   "metadata": {},
   "outputs": [],
   "source": [
    "batch_size = 32\n",
    "epochs = 1"
   ]
  },
  {
   "cell_type": "markdown",
   "metadata": {},
   "source": [
    "#### custom generator"
   ]
  },
  {
   "cell_type": "code",
   "execution_count": 5,
   "metadata": {
    "scrolled": true
   },
   "outputs": [
    {
     "name": "stdout",
     "output_type": "stream",
     "text": [
      "# files:  523012\n",
      "# files:  58112\n"
     ]
    }
   ],
   "source": [
    "from generator import DataGenerator\n",
    "\n",
    "train_gen = DataGenerator(train_path, workers=nb_cpus, target_size=image_size, batch_size=batch_size, shuffle=True)\n",
    "valid_gen = DataGenerator(valid_path, workers=nb_cpus, target_size=image_size, batch_size=batch_size, shuffle=True)"
   ]
  },
  {
   "cell_type": "code",
   "execution_count": null,
   "metadata": {},
   "outputs": [
    {
     "name": "stdout",
     "output_type": "stream",
     "text": [
      "Epoch 1/1\n",
      "  379/16345 [..............................] - ETA: 2:43:55 - loss: 0.6464 - acc: 0.6187"
     ]
    }
   ],
   "source": [
    "parallel_model.fit_generator(generator=train_gen, \n",
    "                             steps_per_epoch=len(train_gen), \n",
    "                             epochs=epochs, \n",
    "                             verbose=1,\n",
    "                             validation_data=valid_gen, \n",
    "                             validation_steps=len(valid_gen))"
   ]
  },
  {
   "cell_type": "markdown",
   "metadata": {},
   "source": [
    "#### keras generator"
   ]
  },
  {
   "cell_type": "code",
   "execution_count": 5,
   "metadata": {},
   "outputs": [
    {
     "name": "stdout",
     "output_type": "stream",
     "text": [
      "Found 523012 images belonging to 2 classes.\n",
      "Found 58112 images belonging to 2 classes.\n"
     ]
    }
   ],
   "source": [
    "img_gen_t = ImageDataGenerator()\n",
    "train_gen = img_gen_t.flow_from_directory(train_path, target_size=image_size, shuffle=True, batch_size=batch_size)\n",
    "\n",
    "img_gen_v = ImageDataGenerator()\n",
    "valid_gen = img_gen_v.flow_from_directory(valid_path, target_size=image_size, shuffle=True, batch_size=batch_size)"
   ]
  },
  {
   "cell_type": "code",
   "execution_count": null,
   "metadata": {},
   "outputs": [
    {
     "name": "stdout",
     "output_type": "stream",
     "text": [
      "Epoch 1/1\n",
      "  376/16345 [..............................] - ETA: 2:42:35 - loss: 0.6490 - acc: 0.6138"
     ]
    }
   ],
   "source": [
    "parallel_model.fit_generator(generator=train_gen, \n",
    "                             steps_per_epoch=len(train_gen), \n",
    "                             epochs=epochs, \n",
    "                             verbose=1,\n",
    "                             validation_data=valid_gen, \n",
    "                             validation_steps=len(valid_gen), \n",
    "                             workers=nb_cpus, \n",
    "                             use_multiprocessing=True, \n",
    "                             )"
   ]
  },
  {
   "cell_type": "code",
   "execution_count": null,
   "metadata": {},
   "outputs": [],
   "source": []
  }
 ],
 "metadata": {
  "kernelspec": {
   "display_name": "Python 3",
   "language": "python",
   "name": "python3"
  },
  "language_info": {
   "codemirror_mode": {
    "name": "ipython",
    "version": 3
   },
   "file_extension": ".py",
   "mimetype": "text/x-python",
   "name": "python",
   "nbconvert_exporter": "python",
   "pygments_lexer": "ipython3",
   "version": "3.5.6"
  }
 },
 "nbformat": 4,
 "nbformat_minor": 2
}
