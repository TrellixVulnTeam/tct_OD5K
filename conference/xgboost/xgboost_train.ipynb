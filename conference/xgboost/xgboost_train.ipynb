{
 "cells": [
  {
   "cell_type": "code",
   "execution_count": 1,
   "metadata": {},
   "outputs": [],
   "source": [
    "import os\n",
    "import numpy as np\n",
    "import pandas as pd\n",
    "import matplotlib.pyplot as plt\n",
    "from xgboost import XGBClassifier, plot_importance\n",
    "from sklearn.model_selection import train_test_split\n",
    "from sklearn.metrics import accuracy_score"
   ]
  },
  {
   "cell_type": "code",
   "execution_count": 2,
   "metadata": {},
   "outputs": [
    {
     "name": "stdout",
     "output_type": "stream",
     "text": [
      "<class 'numpy.ndarray'> (1782, 336)\n",
      "<class 'numpy.ndarray'> (1782,)\n"
     ]
    }
   ],
   "source": [
    "csv_name = \"features.csv\"\n",
    "dataset = np.loadtxt(csv_name, delimiter=',')\n",
    "\n",
    "# split data into X and y\n",
    "X = dataset[:, 1:337]  # 1-336 belongs to yolo/xcp class level count\n",
    "y = dataset[:, 0]\n",
    "\n",
    "print(type(X), X.shape)\n",
    "print(type(y), y.shape)"
   ]
  },
  {
   "cell_type": "code",
   "execution_count": 3,
   "metadata": {},
   "outputs": [],
   "source": [
    "seed = 2018\n",
    "test_size = 0.33\n",
    "X_train, X_test, y_train, y_test = train_test_split(X, y, test_size=test_size, random_state=seed)"
   ]
  },
  {
   "cell_type": "code",
   "execution_count": 4,
   "metadata": {
    "scrolled": true
   },
   "outputs": [
    {
     "name": "stdout",
     "output_type": "stream",
     "text": [
      "[0]\tvalidation_0-merror:0.371817\n",
      "Will train until validation_0-merror hasn't improved in 50 rounds.\n",
      "[1]\tvalidation_0-merror:0.334465\n",
      "[2]\tvalidation_0-merror:0.315789\n",
      "[3]\tvalidation_0-merror:0.317487\n",
      "[4]\tvalidation_0-merror:0.317487\n",
      "[5]\tvalidation_0-merror:0.315789\n",
      "[6]\tvalidation_0-merror:0.307301\n",
      "[7]\tvalidation_0-merror:0.308998\n",
      "[8]\tvalidation_0-merror:0.307301\n",
      "[9]\tvalidation_0-merror:0.303905\n",
      "[10]\tvalidation_0-merror:0.302207\n",
      "[11]\tvalidation_0-merror:0.298812\n",
      "[12]\tvalidation_0-merror:0.295416\n",
      "[13]\tvalidation_0-merror:0.298812\n",
      "[14]\tvalidation_0-merror:0.302207\n",
      "[15]\tvalidation_0-merror:0.300509\n",
      "[16]\tvalidation_0-merror:0.295416\n",
      "[17]\tvalidation_0-merror:0.293718\n",
      "[18]\tvalidation_0-merror:0.295416\n",
      "[19]\tvalidation_0-merror:0.300509\n",
      "[20]\tvalidation_0-merror:0.302207\n",
      "[21]\tvalidation_0-merror:0.302207\n",
      "[22]\tvalidation_0-merror:0.300509\n",
      "[23]\tvalidation_0-merror:0.297114\n",
      "[24]\tvalidation_0-merror:0.298812\n",
      "[25]\tvalidation_0-merror:0.297114\n",
      "[26]\tvalidation_0-merror:0.298812\n",
      "[27]\tvalidation_0-merror:0.295416\n",
      "[28]\tvalidation_0-merror:0.297114\n",
      "[29]\tvalidation_0-merror:0.298812\n",
      "[30]\tvalidation_0-merror:0.297114\n",
      "[31]\tvalidation_0-merror:0.295416\n",
      "[32]\tvalidation_0-merror:0.295416\n",
      "[33]\tvalidation_0-merror:0.298812\n",
      "[34]\tvalidation_0-merror:0.298812\n",
      "[35]\tvalidation_0-merror:0.298812\n",
      "[36]\tvalidation_0-merror:0.300509\n",
      "[37]\tvalidation_0-merror:0.300509\n",
      "[38]\tvalidation_0-merror:0.302207\n",
      "[39]\tvalidation_0-merror:0.305603\n",
      "[40]\tvalidation_0-merror:0.307301\n",
      "[41]\tvalidation_0-merror:0.307301\n",
      "[42]\tvalidation_0-merror:0.303905\n",
      "[43]\tvalidation_0-merror:0.305603\n",
      "[44]\tvalidation_0-merror:0.308998\n",
      "[45]\tvalidation_0-merror:0.305603\n",
      "[46]\tvalidation_0-merror:0.302207\n",
      "[47]\tvalidation_0-merror:0.303905\n",
      "[48]\tvalidation_0-merror:0.305603\n",
      "[49]\tvalidation_0-merror:0.298812\n",
      "[50]\tvalidation_0-merror:0.297114\n",
      "[51]\tvalidation_0-merror:0.298812\n",
      "[52]\tvalidation_0-merror:0.298812\n",
      "[53]\tvalidation_0-merror:0.297114\n",
      "[54]\tvalidation_0-merror:0.297114\n",
      "[55]\tvalidation_0-merror:0.295416\n",
      "[56]\tvalidation_0-merror:0.293718\n",
      "[57]\tvalidation_0-merror:0.295416\n",
      "[58]\tvalidation_0-merror:0.29202\n",
      "[59]\tvalidation_0-merror:0.29202\n",
      "[60]\tvalidation_0-merror:0.29202\n",
      "[61]\tvalidation_0-merror:0.293718\n",
      "[62]\tvalidation_0-merror:0.290323\n",
      "[63]\tvalidation_0-merror:0.29202\n",
      "[64]\tvalidation_0-merror:0.29202\n",
      "[65]\tvalidation_0-merror:0.293718\n",
      "[66]\tvalidation_0-merror:0.293718\n",
      "[67]\tvalidation_0-merror:0.29202\n",
      "[68]\tvalidation_0-merror:0.293718\n",
      "[69]\tvalidation_0-merror:0.295416\n",
      "[70]\tvalidation_0-merror:0.288625\n",
      "[71]\tvalidation_0-merror:0.293718\n",
      "[72]\tvalidation_0-merror:0.290323\n",
      "[73]\tvalidation_0-merror:0.295416\n",
      "[74]\tvalidation_0-merror:0.293718\n",
      "[75]\tvalidation_0-merror:0.29202\n",
      "[76]\tvalidation_0-merror:0.290323\n",
      "[77]\tvalidation_0-merror:0.29202\n",
      "[78]\tvalidation_0-merror:0.290323\n",
      "[79]\tvalidation_0-merror:0.290323\n",
      "[80]\tvalidation_0-merror:0.288625\n",
      "[81]\tvalidation_0-merror:0.290323\n",
      "[82]\tvalidation_0-merror:0.290323\n",
      "[83]\tvalidation_0-merror:0.290323\n",
      "[84]\tvalidation_0-merror:0.29202\n",
      "[85]\tvalidation_0-merror:0.29202\n",
      "[86]\tvalidation_0-merror:0.29202\n",
      "[87]\tvalidation_0-merror:0.29202\n",
      "[88]\tvalidation_0-merror:0.293718\n",
      "[89]\tvalidation_0-merror:0.293718\n",
      "[90]\tvalidation_0-merror:0.295416\n",
      "[91]\tvalidation_0-merror:0.293718\n",
      "[92]\tvalidation_0-merror:0.293718\n",
      "[93]\tvalidation_0-merror:0.295416\n",
      "[94]\tvalidation_0-merror:0.295416\n",
      "[95]\tvalidation_0-merror:0.297114\n",
      "[96]\tvalidation_0-merror:0.295416\n",
      "[97]\tvalidation_0-merror:0.295416\n",
      "[98]\tvalidation_0-merror:0.29202\n",
      "[99]\tvalidation_0-merror:0.29202\n"
     ]
    },
    {
     "data": {
      "text/plain": [
       "XGBClassifier(base_score=0.5, booster='gbtree', colsample_bylevel=1,\n",
       "       colsample_bytree=0.8, gamma=0, learning_rate=0.1, max_delta_step=0,\n",
       "       max_depth=5, min_child_weight=1, missing=None, n_estimators=100,\n",
       "       n_jobs=12, nthread=None, objective='multi:softprob', random_state=0,\n",
       "       reg_alpha=0, reg_lambda=1, scale_pos_weight=1, seed=None,\n",
       "       silent=True, subsample=0.8)"
      ]
     },
     "execution_count": 4,
     "metadata": {},
     "output_type": "execute_result"
    }
   ],
   "source": [
    "model = XGBClassifier(max_depth=5, n_jobs=12, subsample=0.8, colsample_bytree=0.8, scale_pos_weight=1)\n",
    "eval_set = [(X_test, y_test)]\n",
    "model.fit(X_train, y_train, early_stopping_rounds=50, eval_metric=\"merror\", eval_set=eval_set, verbose=True)"
   ]
  },
  {
   "cell_type": "code",
   "execution_count": 5,
   "metadata": {},
   "outputs": [
    {
     "name": "stdout",
     "output_type": "stream",
     "text": [
      "accuracy: 0.7113752122241087\n"
     ]
    }
   ],
   "source": [
    "y_pred = model.predict(X_test)\n",
    "accuracy = accuracy_score(y_test, y_pred)\n",
    "print(\"accuracy: {}\".format(accuracy))"
   ]
  },
  {
   "cell_type": "code",
   "execution_count": null,
   "metadata": {},
   "outputs": [],
   "source": [
    "plot_importance(model)\n",
    "plt.show()"
   ]
  },
  {
   "cell_type": "code",
   "execution_count": null,
   "metadata": {},
   "outputs": [],
   "source": []
  }
 ],
 "metadata": {
  "kernelspec": {
   "display_name": "Python 3",
   "language": "python",
   "name": "python3"
  },
  "language_info": {
   "codemirror_mode": {
    "name": "ipython",
    "version": 3
   },
   "file_extension": ".py",
   "mimetype": "text/x-python",
   "name": "python",
   "nbconvert_exporter": "python",
   "pygments_lexer": "ipython3",
   "version": "3.5.6"
  }
 },
 "nbformat": 4,
 "nbformat_minor": 2
}
