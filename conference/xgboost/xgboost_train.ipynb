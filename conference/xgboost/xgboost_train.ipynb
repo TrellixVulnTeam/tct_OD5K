{
 "cells": [
  {
   "cell_type": "code",
   "execution_count": 1,
   "metadata": {},
   "outputs": [],
   "source": [
    "import os\n",
    "import numpy as np\n",
    "import pandas as pd\n",
    "import matplotlib.pyplot as plt\n",
    "from xgboost import XGBClassifier, plot_importance\n",
    "from sklearn.model_selection import train_test_split\n",
    "from sklearn.metrics import accuracy_score"
   ]
  },
  {
   "cell_type": "code",
   "execution_count": 2,
   "metadata": {},
   "outputs": [
    {
     "name": "stdout",
     "output_type": "stream",
     "text": [
      "<class 'numpy.ndarray'> (1782, 15564)\n",
      "<class 'numpy.ndarray'> (1782,)\n"
     ]
    }
   ],
   "source": [
    "csv_name = \"features.csv\"\n",
    "dataset = np.loadtxt(csv_name, delimiter=',')\n",
    "\n",
    "# split data into X and y\n",
    "X = dataset[:, 1:]\n",
    "y = dataset[:, 0]\n",
    "\n",
    "print(type(X), X.shape)\n",
    "print(type(y), y.shape)"
   ]
  },
  {
   "cell_type": "code",
   "execution_count": 3,
   "metadata": {},
   "outputs": [],
   "source": [
    "seed = 2018\n",
    "test_size = 0.33\n",
    "X_train, X_test, y_train, y_test = train_test_split(X, y, test_size=test_size, random_state=seed)"
   ]
  },
  {
   "cell_type": "code",
   "execution_count": 4,
   "metadata": {},
   "outputs": [
    {
     "name": "stdout",
     "output_type": "stream",
     "text": [
      "[0]\tvalidation_0-merror:0.383701\n",
      "Will train until validation_0-merror hasn't improved in 10 rounds.\n",
      "[1]\tvalidation_0-merror:0.385399\n",
      "[2]\tvalidation_0-merror:0.356537\n",
      "[3]\tvalidation_0-merror:0.363328\n",
      "[4]\tvalidation_0-merror:0.354839\n",
      "[5]\tvalidation_0-merror:0.354839\n",
      "[6]\tvalidation_0-merror:0.353141\n",
      "[7]\tvalidation_0-merror:0.354839\n",
      "[8]\tvalidation_0-merror:0.351443\n",
      "[9]\tvalidation_0-merror:0.353141\n",
      "[10]\tvalidation_0-merror:0.354839\n",
      "[11]\tvalidation_0-merror:0.353141\n",
      "[12]\tvalidation_0-merror:0.353141\n",
      "[13]\tvalidation_0-merror:0.349745\n",
      "[14]\tvalidation_0-merror:0.354839\n",
      "[15]\tvalidation_0-merror:0.351443\n",
      "[16]\tvalidation_0-merror:0.353141\n",
      "[17]\tvalidation_0-merror:0.349745\n",
      "[18]\tvalidation_0-merror:0.354839\n",
      "[19]\tvalidation_0-merror:0.351443\n",
      "[20]\tvalidation_0-merror:0.351443\n",
      "[21]\tvalidation_0-merror:0.354839\n",
      "[22]\tvalidation_0-merror:0.354839\n",
      "[23]\tvalidation_0-merror:0.358234\n",
      "Stopping. Best iteration:\n",
      "[13]\tvalidation_0-merror:0.349745\n",
      "\n"
     ]
    },
    {
     "data": {
      "text/plain": [
       "XGBClassifier(base_score=0.5, booster='gbtree', colsample_bylevel=1,\n",
       "       colsample_bytree=1, gamma=0, learning_rate=0.1, max_delta_step=0,\n",
       "       max_depth=3, min_child_weight=1, missing=None, n_estimators=100,\n",
       "       n_jobs=1, nthread=None, objective='multi:softprob', random_state=0,\n",
       "       reg_alpha=0, reg_lambda=1, scale_pos_weight=1, seed=None,\n",
       "       silent=True, subsample=1)"
      ]
     },
     "execution_count": 4,
     "metadata": {},
     "output_type": "execute_result"
    }
   ],
   "source": [
    "model = XGBClassifier()\n",
    "eval_set = [(X_test, y_test)]\n",
    "model.fit(X_train, y_train, early_stopping_rounds=10, eval_metric=\"merror\", eval_set=eval_set, verbose=True)\n",
    "# model.fit(X_train, y_train)"
   ]
  },
  {
   "cell_type": "code",
   "execution_count": 5,
   "metadata": {},
   "outputs": [
    {
     "name": "stdout",
     "output_type": "stream",
     "text": [
      "accuracy: 0.6502546689303905\n"
     ]
    }
   ],
   "source": [
    "y_pred = model.predict(X_test)\n",
    "accuracy = accuracy_score(y_test, y_pred)\n",
    "print(\"accuracy: {}\".format(accuracy))"
   ]
  },
  {
   "cell_type": "code",
   "execution_count": null,
   "metadata": {},
   "outputs": [],
   "source": [
    "plot_importance(model)\n",
    "plt.show()"
   ]
  },
  {
   "cell_type": "code",
   "execution_count": null,
   "metadata": {},
   "outputs": [],
   "source": []
  }
 ],
 "metadata": {
  "kernelspec": {
   "display_name": "Python 3",
   "language": "python",
   "name": "python3"
  },
  "language_info": {
   "codemirror_mode": {
    "name": "ipython",
    "version": 3
   },
   "file_extension": ".py",
   "mimetype": "text/x-python",
   "name": "python",
   "nbconvert_exporter": "python",
   "pygments_lexer": "ipython3",
   "version": "3.5.6"
  }
 },
 "nbformat": 4,
 "nbformat_minor": 2
}
