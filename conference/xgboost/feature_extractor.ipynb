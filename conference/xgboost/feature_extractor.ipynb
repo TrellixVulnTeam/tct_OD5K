{
 "cells": [
  {
   "cell_type": "code",
   "execution_count": 1,
   "metadata": {},
   "outputs": [],
   "source": [
    "import os\n",
    "import numpy as np\n",
    "import pandas as pd"
   ]
  },
  {
   "cell_type": "code",
   "execution_count": 2,
   "metadata": {},
   "outputs": [],
   "source": [
    "csv_dir = \"./big_features\"\n",
    "csv_normal_dir = \"./big_features/csv_results_normal\"\n",
    "csv_abnormal_dir = \"./big_features/csv_results_abnormal/\""
   ]
  },
  {
   "cell_type": "code",
   "execution_count": 3,
   "metadata": {},
   "outputs": [
    {
     "data": {
      "text/html": [
       "<div>\n",
       "<style scoped>\n",
       "    .dataframe tbody tr th:only-of-type {\n",
       "        vertical-align: middle;\n",
       "    }\n",
       "\n",
       "    .dataframe tbody tr th {\n",
       "        vertical-align: top;\n",
       "    }\n",
       "\n",
       "    .dataframe thead th {\n",
       "        text-align: right;\n",
       "    }\n",
       "</style>\n",
       "<table border=\"1\" class=\"dataframe\">\n",
       "  <thead>\n",
       "    <tr style=\"text-align: right;\">\n",
       "      <th></th>\n",
       "      <th>yolo_cell_class</th>\n",
       "      <th>yolo_cell_class_det</th>\n",
       "      <th>xcp_cell_class</th>\n",
       "      <th>xcp_cell_class_det</th>\n",
       "      <th>x</th>\n",
       "      <th>y</th>\n",
       "      <th>w</th>\n",
       "      <th>h</th>\n",
       "      <th>ACTINO_det</th>\n",
       "      <th>AGC_det</th>\n",
       "      <th>...</th>\n",
       "      <th>HSIL_S_det</th>\n",
       "      <th>LSIL_E_det</th>\n",
       "      <th>LSIL_F_det</th>\n",
       "      <th>MC_det</th>\n",
       "      <th>RC_det</th>\n",
       "      <th>SC_det</th>\n",
       "      <th>SCC_G_det</th>\n",
       "      <th>SCC_R_det</th>\n",
       "      <th>TRI_det</th>\n",
       "      <th>VIRUS_det</th>\n",
       "    </tr>\n",
       "  </thead>\n",
       "  <tbody>\n",
       "    <tr>\n",
       "      <th>716</th>\n",
       "      <td>HSIL</td>\n",
       "      <td>0.100491</td>\n",
       "      <td>HSIL_S</td>\n",
       "      <td>0.999872</td>\n",
       "      <td>45967</td>\n",
       "      <td>24869</td>\n",
       "      <td>45</td>\n",
       "      <td>81</td>\n",
       "      <td>-12.172092</td>\n",
       "      <td>-12.935913</td>\n",
       "      <td>...</td>\n",
       "      <td>0.744319</td>\n",
       "      <td>-13.208662</td>\n",
       "      <td>-11.641032</td>\n",
       "      <td>-12.893228</td>\n",
       "      <td>-12.544904</td>\n",
       "      <td>-8.825705</td>\n",
       "      <td>-10.998619</td>\n",
       "      <td>-11.800670</td>\n",
       "      <td>-12.284462</td>\n",
       "      <td>-11.353158</td>\n",
       "    </tr>\n",
       "    <tr>\n",
       "      <th>215</th>\n",
       "      <td>HSIL</td>\n",
       "      <td>0.245512</td>\n",
       "      <td>HSIL_B</td>\n",
       "      <td>0.998359</td>\n",
       "      <td>19040</td>\n",
       "      <td>34234</td>\n",
       "      <td>486</td>\n",
       "      <td>203</td>\n",
       "      <td>-21.917503</td>\n",
       "      <td>-23.522367</td>\n",
       "      <td>...</td>\n",
       "      <td>-25.943610</td>\n",
       "      <td>-23.482128</td>\n",
       "      <td>-19.353401</td>\n",
       "      <td>-21.722467</td>\n",
       "      <td>-13.834375</td>\n",
       "      <td>-25.776240</td>\n",
       "      <td>-23.303097</td>\n",
       "      <td>-22.163345</td>\n",
       "      <td>-20.414476</td>\n",
       "      <td>-21.425814</td>\n",
       "    </tr>\n",
       "    <tr>\n",
       "      <th>351</th>\n",
       "      <td>HSIL</td>\n",
       "      <td>0.199385</td>\n",
       "      <td>HSIL_S</td>\n",
       "      <td>0.999344</td>\n",
       "      <td>22219</td>\n",
       "      <td>21469</td>\n",
       "      <td>83</td>\n",
       "      <td>43</td>\n",
       "      <td>-11.259159</td>\n",
       "      <td>-11.913942</td>\n",
       "      <td>...</td>\n",
       "      <td>1.428252</td>\n",
       "      <td>-11.803639</td>\n",
       "      <td>-11.716726</td>\n",
       "      <td>-11.290977</td>\n",
       "      <td>-10.876109</td>\n",
       "      <td>-5.997751</td>\n",
       "      <td>-11.131621</td>\n",
       "      <td>-11.181571</td>\n",
       "      <td>-11.453989</td>\n",
       "      <td>-10.108679</td>\n",
       "    </tr>\n",
       "  </tbody>\n",
       "</table>\n",
       "<p>3 rows × 26 columns</p>\n",
       "</div>"
      ],
      "text/plain": [
       "    yolo_cell_class  yolo_cell_class_det xcp_cell_class  xcp_cell_class_det  \\\n",
       "716            HSIL             0.100491         HSIL_S            0.999872   \n",
       "215            HSIL             0.245512         HSIL_B            0.998359   \n",
       "351            HSIL             0.199385         HSIL_S            0.999344   \n",
       "\n",
       "         x      y    w    h  ACTINO_det    AGC_det    ...      HSIL_S_det  \\\n",
       "716  45967  24869   45   81  -12.172092 -12.935913    ...        0.744319   \n",
       "215  19040  34234  486  203  -21.917503 -23.522367    ...      -25.943610   \n",
       "351  22219  21469   83   43  -11.259159 -11.913942    ...        1.428252   \n",
       "\n",
       "     LSIL_E_det  LSIL_F_det     MC_det     RC_det     SC_det  SCC_G_det  \\\n",
       "716  -13.208662  -11.641032 -12.893228 -12.544904  -8.825705 -10.998619   \n",
       "215  -23.482128  -19.353401 -21.722467 -13.834375 -25.776240 -23.303097   \n",
       "351  -11.803639  -11.716726 -11.290977 -10.876109  -5.997751 -11.131621   \n",
       "\n",
       "     SCC_R_det    TRI_det  VIRUS_det  \n",
       "716 -11.800670 -12.284462 -11.353158  \n",
       "215 -22.163345 -20.414476 -21.425814  \n",
       "351 -11.181571 -11.453989 -10.108679  \n",
       "\n",
       "[3 rows x 26 columns]"
      ]
     },
     "execution_count": 3,
     "metadata": {},
     "output_type": "execute_result"
    }
   ],
   "source": [
    "csv_file = \"./big_features/csv_results_normal/2017-09-15-10_48_41.csv\"\n",
    "df = pd.read_csv(csv_file)\n",
    "df.sample(3)"
   ]
  },
  {
   "cell_type": "code",
   "execution_count": 4,
   "metadata": {},
   "outputs": [],
   "source": [
    "# # features dataframe\n",
    "# ff = pd.DataFrame()"
   ]
  },
  {
   "cell_type": "markdown",
   "metadata": {},
   "source": [
    "#### yolo, count by class and det"
   ]
  },
  {
   "cell_type": "code",
   "execution_count": 5,
   "metadata": {},
   "outputs": [
    {
     "name": "stdout",
     "output_type": "stream",
     "text": [
      "{'LSIL_yolo': 102, 'VIRUS_yolo': 20, 'HSIL_yolo': 553, 'CC_yolo': 0, 'ACTINO_yolo': 6, 'TRI_yolo': 0, 'FUNGI_yolo': 1, 'AGC_yolo': 18, 'EC_yolo': 10, 'SCC_yolo': 15}\n",
      "{'TRI_yolo_0.4': 0, 'FUNGI_yolo_0.6': 0, 'CC_yolo_0.8': 0, 'EC_yolo_0.5': 2, 'TRI_yolo_0.2': 0, 'LSIL_yolo_0.6': 22, 'TRI_yolo_0.999': 0, 'FUNGI_yolo_0.1': 1, 'VIRUS_yolo_0.99': 0, 'SCC_yolo_0.4': 2, 'SCC_yolo_0.5': 2, 'EC_yolo_0.4': 2, 'EC_yolo_0.99': 0, 'SCC_yolo_0.3': 4, 'VIRUS_yolo_0.8': 4, 'CC_yolo_0.1': 0, 'LSIL_yolo_0.9': 8, 'ACTINO_yolo_0.4': 2, 'SCC_yolo_0.6': 1, 'EC_yolo_0.9': 0, 'HSIL_yolo_0.99': 1, 'ACTINO_yolo_0.99': 0, 'LSIL_yolo_0.4': 44, 'CC_yolo_0.5': 0, 'SCC_yolo_0.999': 0, 'AGC_yolo_0.99': 0, 'LSIL_yolo_0.1': 102, 'LSIL_yolo_0.99': 0, 'EC_yolo_0.3': 3, 'HSIL_yolo_0.1': 553, 'FUNGI_yolo_0.9': 0, 'CC_yolo_0.6': 0, 'VIRUS_yolo_0.999': 0, 'AGC_yolo_0.2': 11, 'VIRUS_yolo_0.6': 6, 'VIRUS_yolo_0.7': 4, 'HSIL_yolo_0.4': 135, 'TRI_yolo_0.5': 0, 'AGC_yolo_0.999': 0, 'TRI_yolo_0.8': 0, 'FUNGI_yolo_0.8': 0, 'FUNGI_yolo_0.7': 0, 'EC_yolo_0.1': 10, 'EC_yolo_0.8': 0, 'HSIL_yolo_0.3': 193, 'ACTINO_yolo_0.1': 6, 'CC_yolo_0.99': 0, 'EC_yolo_0.999': 0, 'LSIL_yolo_0.8': 13, 'ACTINO_yolo_0.8': 0, 'AGC_yolo_0.7': 0, 'ACTINO_yolo_0.9': 0, 'HSIL_yolo_0.5': 107, 'AGC_yolo_0.8': 0, 'TRI_yolo_0.99': 0, 'VIRUS_yolo_0.2': 12, 'AGC_yolo_0.5': 1, 'VIRUS_yolo_0.3': 7, 'SCC_yolo_0.2': 5, 'CC_yolo_0.2': 0, 'FUNGI_yolo_0.2': 1, 'ACTINO_yolo_0.3': 3, 'SCC_yolo_0.9': 0, 'SCC_yolo_0.1': 15, 'VIRUS_yolo_0.4': 6, 'CC_yolo_0.4': 0, 'AGC_yolo_0.9': 0, 'EC_yolo_0.2': 8, 'FUNGI_yolo_0.5': 0, 'CC_yolo_0.9': 0, 'CC_yolo_0.3': 0, 'HSIL_yolo_0.6': 75, 'EC_yolo_0.7': 1, 'ACTINO_yolo_0.2': 4, 'CC_yolo_0.999': 0, 'AGC_yolo_0.4': 2, 'FUNGI_yolo_0.999': 0, 'ACTINO_yolo_0.7': 2, 'LSIL_yolo_0.2': 70, 'AGC_yolo_0.3': 3, 'AGC_yolo_0.6': 1, 'TRI_yolo_0.3': 0, 'ACTINO_yolo_0.5': 2, 'FUNGI_yolo_0.99': 0, 'EC_yolo_0.6': 2, 'FUNGI_yolo_0.3': 0, 'VIRUS_yolo_0.5': 6, 'HSIL_yolo_0.999': 0, 'SCC_yolo_0.99': 0, 'HSIL_yolo_0.2': 296, 'TRI_yolo_0.1': 0, 'AGC_yolo_0.1': 18, 'TRI_yolo_0.6': 0, 'TRI_yolo_0.7': 0, 'CC_yolo_0.7': 0, 'TRI_yolo_0.9': 0, 'HSIL_yolo_0.8': 39, 'ACTINO_yolo_0.999': 0, 'LSIL_yolo_0.7': 18, 'SCC_yolo_0.8': 0, 'LSIL_yolo_0.3': 57, 'LSIL_yolo_0.999': 0, 'LSIL_yolo_0.5': 33, 'ACTINO_yolo_0.6': 2, 'VIRUS_yolo_0.1': 20, 'FUNGI_yolo_0.4': 0, 'SCC_yolo_0.7': 1, 'HSIL_yolo_0.7': 53, 'HSIL_yolo_0.9': 27, 'VIRUS_yolo_0.9': 1}\n"
     ]
    }
   ],
   "source": [
    "# yolo_cell_class count\n",
    "yolo_classes = [\"LSIL\", \"HSIL\", \"SCC\", \"AGC\", \"EC\", \"FUNGI\", \"TRI\", \"CC\", \"ACTINO\", \"VIRUS\"]\n",
    "yolo_classes_dict = {key+\"_yolo\":df[df[\"yolo_cell_class\"] == key].shape[0] for key in yolo_classes}\n",
    "print(yolo_classes_dict)\n",
    "\n",
    "# yolo_cell_class_det count\n",
    "yolo_det_p = [0.1, 0.2, 0.3, 0.4, 0.5, 0.6, 0.7, 0.8, 0.9, 0.99, 0.999]\n",
    "yolo_classes_det_dict = {}\n",
    "for c in yolo_classes:\n",
    "    for p in yolo_det_p:\n",
    "        yolo_classes_det_dict[c+'_yolo_'+str(p)] = df[(df[\"yolo_cell_class\"] == c) & (df[\"yolo_cell_class_det\"] > p)].shape[0]\n",
    "print(yolo_classes_det_dict)"
   ]
  },
  {
   "cell_type": "markdown",
   "metadata": {},
   "source": [
    "#### xcp, count by class and det"
   ]
  },
  {
   "cell_type": "code",
   "execution_count": 6,
   "metadata": {},
   "outputs": [
    {
     "name": "stdout",
     "output_type": "stream",
     "text": [
      "{'TRI_xcp': 0, 'HSIL_S_xcp': 324, 'SC_xcp': 53, 'EC_xcp': 1, 'LSIL_E_xcp': 2, 'MC_xcp': 0, 'HSIL_M_xcp': 54, 'GEC_xcp': 47, 'LSIL_F_xcp': 67, 'RC_xcp': 35, 'SCC_R_xcp': 2, 'VIRUS_xcp': 5, 'CC_xcp': 1, 'AGC_xcp': 1, 'FUNGI_xcp': 2, 'ACTINO_xcp': 2, 'HSIL_B_xcp': 120, 'SCC_G_xcp': 9}\n",
      "{'AGC_xcp_0.1': 1, 'GEC_xcp_0.8': 25, 'MC_xcp_0.8': 0, 'GEC_xcp_0.9': 20, 'RC_xcp_0.9': 19, 'SCC_R_xcp_0.9': 2, 'FUNGI_xcp_0.5': 2, 'CC_xcp_0.3': 1, 'SC_xcp_0.99': 12, 'LSIL_E_xcp_0.8': 1, 'ACTINO_xcp_0.999': 0, 'TRI_xcp_0.8': 0, 'EC_xcp_0.5': 1, 'VIRUS_xcp_0.7': 5, 'RC_xcp_0.8': 21, 'MC_xcp_0.1': 0, 'VIRUS_xcp_0.5': 5, 'EC_xcp_0.9': 1, 'HSIL_S_xcp_0.7': 306, 'LSIL_E_xcp_0.9': 1, 'AGC_xcp_0.99': 0, 'VIRUS_xcp_0.1': 5, 'HSIL_B_xcp_0.999': 48, 'SC_xcp_0.2': 53, 'SCC_G_xcp_0.6': 8, 'LSIL_E_xcp_0.1': 2, 'RC_xcp_0.2': 35, 'GEC_xcp_0.1': 47, 'SCC_R_xcp_0.99': 1, 'SCC_G_xcp_0.7': 7, 'FUNGI_xcp_0.3': 2, 'RC_xcp_0.4': 35, 'HSIL_M_xcp_0.7': 53, 'FUNGI_xcp_0.9': 1, 'ACTINO_xcp_0.9': 2, 'TRI_xcp_0.2': 0, 'EC_xcp_0.2': 1, 'AGC_xcp_0.5': 1, 'HSIL_M_xcp_0.5': 53, 'SCC_G_xcp_0.4': 9, 'SCC_G_xcp_0.9': 5, 'TRI_xcp_0.6': 0, 'AGC_xcp_0.999': 0, 'TRI_xcp_0.4': 0, 'HSIL_B_xcp_0.2': 120, 'CC_xcp_0.4': 1, 'LSIL_F_xcp_0.4': 67, 'SCC_R_xcp_0.6': 2, 'TRI_xcp_0.999': 0, 'SC_xcp_0.8': 34, 'HSIL_S_xcp_0.9': 272, 'HSIL_M_xcp_0.1': 54, 'AGC_xcp_0.3': 1, 'RC_xcp_0.999': 9, 'VIRUS_xcp_0.4': 5, 'TRI_xcp_0.99': 0, 'VIRUS_xcp_0.2': 5, 'GEC_xcp_0.5': 42, 'HSIL_S_xcp_0.1': 324, 'SCC_R_xcp_0.4': 2, 'ACTINO_xcp_0.3': 2, 'CC_xcp_0.2': 1, 'RC_xcp_0.99': 15, 'SC_xcp_0.6': 48, 'VIRUS_xcp_0.6': 5, 'SC_xcp_0.4': 53, 'GEC_xcp_0.999': 2, 'LSIL_E_xcp_0.4': 2, 'SCC_G_xcp_0.5': 9, 'SCC_G_xcp_0.8': 6, 'AGC_xcp_0.9': 0, 'GEC_xcp_0.7': 30, 'TRI_xcp_0.3': 0, 'FUNGI_xcp_0.7': 2, 'ACTINO_xcp_0.7': 2, 'HSIL_M_xcp_0.9': 43, 'MC_xcp_0.7': 0, 'LSIL_E_xcp_0.6': 1, 'HSIL_S_xcp_0.2': 324, 'AGC_xcp_0.2': 1, 'HSIL_B_xcp_0.8': 106, 'LSIL_E_xcp_0.3': 2, 'MC_xcp_0.2': 0, 'EC_xcp_0.4': 1, 'HSIL_S_xcp_0.4': 324, 'CC_xcp_0.999': 0, 'RC_xcp_0.7': 25, 'SCC_G_xcp_0.3': 9, 'LSIL_E_xcp_0.7': 1, 'AGC_xcp_0.6': 1, 'LSIL_F_xcp_0.7': 64, 'TRI_xcp_0.7': 0, 'RC_xcp_0.6': 29, 'FUNGI_xcp_0.2': 2, 'MC_xcp_0.9': 0, 'SCC_R_xcp_0.7': 2, 'ACTINO_xcp_0.2': 2, 'SC_xcp_0.999': 5, 'LSIL_F_xcp_0.1': 67, 'AGC_xcp_0.4': 1, 'AGC_xcp_0.7': 1, 'LSIL_E_xcp_0.99': 1, 'EC_xcp_0.1': 1, 'ACTINO_xcp_0.99': 0, 'VIRUS_xcp_0.9': 4, 'GEC_xcp_0.6': 35, 'FUNGI_xcp_0.99': 1, 'VIRUS_xcp_0.999': 1, 'RC_xcp_0.1': 35, 'FUNGI_xcp_0.4': 2, 'LSIL_E_xcp_0.999': 0, 'GEC_xcp_0.3': 43, 'LSIL_E_xcp_0.2': 2, 'FUNGI_xcp_0.999': 1, 'HSIL_M_xcp_0.8': 48, 'HSIL_M_xcp_0.999': 25, 'CC_xcp_0.6': 1, 'SC_xcp_0.7': 39, 'VIRUS_xcp_0.3': 5, 'GEC_xcp_0.2': 47, 'LSIL_F_xcp_0.8': 63, 'TRI_xcp_0.9': 0, 'CC_xcp_0.9': 0, 'EC_xcp_0.3': 1, 'GEC_xcp_0.4': 43, 'SC_xcp_0.3': 53, 'HSIL_B_xcp_0.7': 114, 'CC_xcp_0.99': 0, 'CC_xcp_0.8': 1, 'HSIL_B_xcp_0.1': 120, 'MC_xcp_0.4': 0, 'ACTINO_xcp_0.6': 2, 'HSIL_B_xcp_0.3': 120, 'SCC_R_xcp_0.1': 2, 'MC_xcp_0.999': 0, 'RC_xcp_0.5': 34, 'ACTINO_xcp_0.4': 2, 'SC_xcp_0.5': 52, 'CC_xcp_0.1': 1, 'SCC_R_xcp_0.3': 2, 'MC_xcp_0.3': 0, 'EC_xcp_0.999': 0, 'HSIL_S_xcp_0.6': 315, 'SC_xcp_0.1': 53, 'HSIL_S_xcp_0.8': 292, 'HSIL_B_xcp_0.5': 118, 'LSIL_F_xcp_0.5': 66, 'TRI_xcp_0.5': 0, 'LSIL_E_xcp_0.5': 1, 'HSIL_M_xcp_0.3': 54, 'HSIL_M_xcp_0.6': 53, 'HSIL_B_xcp_0.99': 75, 'LSIL_F_xcp_0.9': 60, 'VIRUS_xcp_0.8': 4, 'GEC_xcp_0.99': 8, 'ACTINO_xcp_0.8': 2, 'HSIL_S_xcp_0.999': 112, 'HSIL_B_xcp_0.6': 118, 'FUNGI_xcp_0.1': 2, 'HSIL_M_xcp_0.99': 36, 'HSIL_M_xcp_0.4': 54, 'HSIL_M_xcp_0.2': 54, 'LSIL_F_xcp_0.3': 67, 'ACTINO_xcp_0.1': 2, 'SCC_G_xcp_0.999': 2, 'LSIL_F_xcp_0.999': 49, 'AGC_xcp_0.8': 0, 'CC_xcp_0.5': 1, 'EC_xcp_0.99': 0, 'CC_xcp_0.7': 1, 'LSIL_F_xcp_0.2': 67, 'EC_xcp_0.6': 1, 'SCC_R_xcp_0.999': 1, 'FUNGI_xcp_0.8': 1, 'EC_xcp_0.8': 1, 'SCC_G_xcp_0.1': 9, 'LSIL_F_xcp_0.6': 64, 'VIRUS_xcp_0.99': 3, 'MC_xcp_0.5': 0, 'SCC_G_xcp_0.2': 9, 'LSIL_F_xcp_0.99': 55, 'HSIL_S_xcp_0.3': 324, 'FUNGI_xcp_0.6': 2, 'MC_xcp_0.6': 0, 'SC_xcp_0.9': 26, 'SCC_R_xcp_0.2': 2, 'EC_xcp_0.7': 1, 'TRI_xcp_0.1': 0, 'ACTINO_xcp_0.5': 2, 'HSIL_B_xcp_0.9': 97, 'SCC_R_xcp_0.5': 2, 'SCC_R_xcp_0.8': 2, 'RC_xcp_0.3': 35, 'HSIL_S_xcp_0.99': 184, 'HSIL_B_xcp_0.4': 119, 'SCC_G_xcp_0.99': 3, 'MC_xcp_0.99': 0, 'HSIL_S_xcp_0.5': 323}\n"
     ]
    }
   ],
   "source": [
    "# xcp_cell_class count\n",
    "xcp_classes = [\"ACTINO\", \"AGC\", \"CC\", \"EC\", \"FUNGI\", \"GEC\", \"HSIL_B\", \"HSIL_M\", \"HSIL_S\", \n",
    "               \"LSIL_E\", \"LSIL_F\", \"MC\", \"RC\", \"SC\", \"SCC_G\", \"SCC_R\", \"TRI\", \"VIRUS\"]\n",
    "xcp_classes_dict = {key+\"_xcp\":df[df[\"xcp_cell_class\"] == key].shape[0] for key in xcp_classes}\n",
    "print(xcp_classes_dict)\n",
    "\n",
    "# xcp_cell_class_det count\n",
    "xcp_det_p = [0.1, 0.2, 0.3, 0.4, 0.5, 0.6, 0.7, 0.8, 0.9, 0.99, 0.999]\n",
    "xcp_classes_det_dict = {}\n",
    "for c in xcp_classes:\n",
    "    for p in xcp_det_p:\n",
    "        xcp_classes_det_dict[c+'_xcp_'+str(p)] = df[(df[\"xcp_cell_class\"] == c) & (df[\"xcp_cell_class_det\"] > p)].shape[0]\n",
    "print(xcp_classes_det_dict)"
   ]
  },
  {
   "cell_type": "markdown",
   "metadata": {},
   "source": [
    "#### xcp, for each cell, count by class and det"
   ]
  },
  {
   "cell_type": "code",
   "execution_count": 7,
   "metadata": {},
   "outputs": [
    {
     "name": "stdout",
     "output_type": "stream",
     "text": [
      "15228\n"
     ]
    }
   ],
   "source": [
    "xcp_cell_det_p = list(range(-1000, -200, 100)) + list(range(-200, -100, 20)) + list(range(-100, 100, 10)) + list(range(100, 200, 20)) + list(range(200, 1100, 100))\n",
    "xcp_cell_classes_det_dict = {}\n",
    "for c_row in xcp_classes:\n",
    "    for c_col in xcp_classes:\n",
    "        for p in xcp_cell_det_p:\n",
    "            if not c_row+'_'+c_col+'_'+str(p) in xcp_cell_classes_det_dict:\n",
    "                xcp_cell_classes_det_dict[c_row+'_'+c_col+'_'+str(p)] = 0\n",
    "            xcp_cell_classes_det_dict[c_row+'_'+c_col+'_'+str(p)] += df[(df[\"xcp_cell_class\"] == c_row) & (df[c_col+\"_det\"] > p)].shape[0]\n",
    "print(len(xcp_cell_classes_det_dict))"
   ]
  },
  {
   "cell_type": "code",
   "execution_count": 8,
   "metadata": {},
   "outputs": [
    {
     "name": "stdout",
     "output_type": "stream",
     "text": [
      "<class 'list'> 15564\n"
     ]
    }
   ],
   "source": [
    "all_dict = xcp_cell_classes_det_dict\n",
    "all_dict.update(yolo_classes_dict)\n",
    "all_dict.update(yolo_classes_det_dict)\n",
    "all_dict.update(xcp_classes_dict)\n",
    "all_dict.update(xcp_classes_det_dict)\n",
    "\n",
    "header = list(all_dict.keys())\n",
    "print(type(header), len(header))"
   ]
  },
  {
   "cell_type": "code",
   "execution_count": null,
   "metadata": {},
   "outputs": [],
   "source": [
    "# import csv\n",
    "\n",
    "# # write to csv\n",
    "# def write_to_csv(csv_name, header, all_dict):\n",
    "#     with open(csv_name, 'a', newline='') as csv_file:\n",
    "#         writer = csv.writer(csv_file)\n",
    "#         line = [all_dict[key] for key in header]\n",
    "#         writer.writerow(header)\n",
    "#         writer.writerow(line)\n",
    "\n",
    "# write_to_csv(\"test.csv\", header, all_dict)"
   ]
  },
  {
   "cell_type": "code",
   "execution_count": 9,
   "metadata": {},
   "outputs": [],
   "source": [
    "# write header to txt\n",
    "with open(\"header.txt\", 'w') as f:\n",
    "    for key in header:\n",
    "        f.write(key+'\\n')"
   ]
  },
  {
   "cell_type": "code",
   "execution_count": null,
   "metadata": {},
   "outputs": [],
   "source": []
  }
 ],
 "metadata": {
  "kernelspec": {
   "display_name": "Python 3",
   "language": "python",
   "name": "python3"
  },
  "language_info": {
   "codemirror_mode": {
    "name": "ipython",
    "version": 3
   },
   "file_extension": ".py",
   "mimetype": "text/x-python",
   "name": "python",
   "nbconvert_exporter": "python",
   "pygments_lexer": "ipython3",
   "version": "3.5.6"
  }
 },
 "nbformat": 4,
 "nbformat_minor": 2
}
