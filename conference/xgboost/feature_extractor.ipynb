{
 "cells": [
  {
   "cell_type": "code",
   "execution_count": 1,
   "metadata": {},
   "outputs": [],
   "source": [
    "import os\n",
    "import numpy as np\n",
    "import pandas as pd"
   ]
  },
  {
   "cell_type": "code",
   "execution_count": 2,
   "metadata": {},
   "outputs": [],
   "source": [
    "csv_dir = \"./big_features\"\n",
    "csv_normal_dir = \"./big_features/csv_results_normal\"\n",
    "csv_abnormal_dir = \"./big_features/csv_results_abnormal/\""
   ]
  },
  {
   "cell_type": "code",
   "execution_count": 3,
   "metadata": {},
   "outputs": [
    {
     "data": {
      "text/html": [
       "<div>\n",
       "<style scoped>\n",
       "    .dataframe tbody tr th:only-of-type {\n",
       "        vertical-align: middle;\n",
       "    }\n",
       "\n",
       "    .dataframe tbody tr th {\n",
       "        vertical-align: top;\n",
       "    }\n",
       "\n",
       "    .dataframe thead th {\n",
       "        text-align: right;\n",
       "    }\n",
       "</style>\n",
       "<table border=\"1\" class=\"dataframe\">\n",
       "  <thead>\n",
       "    <tr style=\"text-align: right;\">\n",
       "      <th></th>\n",
       "      <th>yolo_cell_class</th>\n",
       "      <th>yolo_cell_class_det</th>\n",
       "      <th>xcp_cell_class</th>\n",
       "      <th>xcp_cell_class_det</th>\n",
       "      <th>x</th>\n",
       "      <th>y</th>\n",
       "      <th>w</th>\n",
       "      <th>h</th>\n",
       "      <th>ACTINO_det</th>\n",
       "      <th>AGC_det</th>\n",
       "      <th>...</th>\n",
       "      <th>HSIL_S_det</th>\n",
       "      <th>LSIL_E_det</th>\n",
       "      <th>LSIL_F_det</th>\n",
       "      <th>MC_det</th>\n",
       "      <th>RC_det</th>\n",
       "      <th>SC_det</th>\n",
       "      <th>SCC_G_det</th>\n",
       "      <th>SCC_R_det</th>\n",
       "      <th>TRI_det</th>\n",
       "      <th>VIRUS_det</th>\n",
       "    </tr>\n",
       "  </thead>\n",
       "  <tbody>\n",
       "    <tr>\n",
       "      <th>640</th>\n",
       "      <td>HSIL</td>\n",
       "      <td>0.148982</td>\n",
       "      <td>HSIL_S</td>\n",
       "      <td>0.996335</td>\n",
       "      <td>49187</td>\n",
       "      <td>21123</td>\n",
       "      <td>84</td>\n",
       "      <td>73</td>\n",
       "      <td>-10.736837</td>\n",
       "      <td>-11.597455</td>\n",
       "      <td>...</td>\n",
       "      <td>0.806970</td>\n",
       "      <td>-11.349565</td>\n",
       "      <td>-8.550947</td>\n",
       "      <td>-10.865404</td>\n",
       "      <td>-10.291647</td>\n",
       "      <td>-4.869848</td>\n",
       "      <td>-12.110397</td>\n",
       "      <td>-10.390147</td>\n",
       "      <td>-11.016384</td>\n",
       "      <td>-9.913827</td>\n",
       "    </tr>\n",
       "    <tr>\n",
       "      <th>155</th>\n",
       "      <td>HSIL</td>\n",
       "      <td>0.146805</td>\n",
       "      <td>SC</td>\n",
       "      <td>0.627078</td>\n",
       "      <td>33744</td>\n",
       "      <td>5662</td>\n",
       "      <td>36</td>\n",
       "      <td>56</td>\n",
       "      <td>-8.743547</td>\n",
       "      <td>-8.419388</td>\n",
       "      <td>...</td>\n",
       "      <td>-0.441093</td>\n",
       "      <td>-7.968446</td>\n",
       "      <td>-8.118663</td>\n",
       "      <td>-7.876126</td>\n",
       "      <td>-7.901500</td>\n",
       "      <td>0.085777</td>\n",
       "      <td>-8.592776</td>\n",
       "      <td>-7.864475</td>\n",
       "      <td>-9.118135</td>\n",
       "      <td>-7.590338</td>\n",
       "    </tr>\n",
       "    <tr>\n",
       "      <th>252</th>\n",
       "      <td>HSIL</td>\n",
       "      <td>0.429803</td>\n",
       "      <td>HSIL_M</td>\n",
       "      <td>0.999942</td>\n",
       "      <td>36873</td>\n",
       "      <td>27355</td>\n",
       "      <td>86</td>\n",
       "      <td>152</td>\n",
       "      <td>-16.763596</td>\n",
       "      <td>-16.449747</td>\n",
       "      <td>...</td>\n",
       "      <td>-16.085058</td>\n",
       "      <td>-16.918213</td>\n",
       "      <td>-15.261875</td>\n",
       "      <td>-17.704084</td>\n",
       "      <td>-13.040309</td>\n",
       "      <td>-18.436954</td>\n",
       "      <td>-15.167096</td>\n",
       "      <td>-16.684729</td>\n",
       "      <td>-16.341005</td>\n",
       "      <td>-16.769060</td>\n",
       "    </tr>\n",
       "  </tbody>\n",
       "</table>\n",
       "<p>3 rows × 26 columns</p>\n",
       "</div>"
      ],
      "text/plain": [
       "    yolo_cell_class  yolo_cell_class_det xcp_cell_class  xcp_cell_class_det  \\\n",
       "640            HSIL             0.148982         HSIL_S            0.996335   \n",
       "155            HSIL             0.146805             SC            0.627078   \n",
       "252            HSIL             0.429803         HSIL_M            0.999942   \n",
       "\n",
       "         x      y   w    h  ACTINO_det    AGC_det    ...      HSIL_S_det  \\\n",
       "640  49187  21123  84   73  -10.736837 -11.597455    ...        0.806970   \n",
       "155  33744   5662  36   56   -8.743547  -8.419388    ...       -0.441093   \n",
       "252  36873  27355  86  152  -16.763596 -16.449747    ...      -16.085058   \n",
       "\n",
       "     LSIL_E_det  LSIL_F_det     MC_det     RC_det     SC_det  SCC_G_det  \\\n",
       "640  -11.349565   -8.550947 -10.865404 -10.291647  -4.869848 -12.110397   \n",
       "155   -7.968446   -8.118663  -7.876126  -7.901500   0.085777  -8.592776   \n",
       "252  -16.918213  -15.261875 -17.704084 -13.040309 -18.436954 -15.167096   \n",
       "\n",
       "     SCC_R_det    TRI_det  VIRUS_det  \n",
       "640 -10.390147 -11.016384  -9.913827  \n",
       "155  -7.864475  -9.118135  -7.590338  \n",
       "252 -16.684729 -16.341005 -16.769060  \n",
       "\n",
       "[3 rows x 26 columns]"
      ]
     },
     "execution_count": 3,
     "metadata": {},
     "output_type": "execute_result"
    }
   ],
   "source": [
    "csv_file = \"./big_features/csv_results_normal/2017-09-15-10_48_41.csv\"\n",
    "df = pd.read_csv(csv_file)\n",
    "df.sample(3)"
   ]
  },
  {
   "cell_type": "code",
   "execution_count": 4,
   "metadata": {},
   "outputs": [],
   "source": [
    "# # features dataframe\n",
    "# ff = pd.DataFrame()"
   ]
  },
  {
   "cell_type": "markdown",
   "metadata": {},
   "source": [
    "#### yolo, count by class and det"
   ]
  },
  {
   "cell_type": "code",
   "execution_count": 5,
   "metadata": {},
   "outputs": [],
   "source": [
    "# collect keys as header, maintaining an orgnized, ordered heasder list\n",
    "header = []"
   ]
  },
  {
   "cell_type": "code",
   "execution_count": 6,
   "metadata": {},
   "outputs": [
    {
     "name": "stdout",
     "output_type": "stream",
     "text": [
      "{'LSIL_yolo': 102, 'ACTINO_yolo': 6, 'CC_yolo': 0, 'TRI_yolo': 0, 'VIRUS_yolo': 20, 'FUNGI_yolo': 1, 'HSIL_yolo': 553, 'AGC_yolo': 18, 'SCC_yolo': 15, 'EC_yolo': 10}\n",
      "{'TRI_yolo_0.3': 0, 'LSIL_yolo_0.8': 13, 'LSIL_yolo_0.1': 102, 'LSIL_yolo_0.5': 33, 'TRI_yolo_0.8': 0, 'ACTINO_yolo_0.9': 0, 'FUNGI_yolo_0.7': 0, 'CC_yolo_0.2': 0, 'TRI_yolo_0.7': 0, 'SCC_yolo_0.4': 2, 'CC_yolo_0.9': 0, 'FUNGI_yolo_0.9': 0, 'ACTINO_yolo_0.8': 0, 'ACTINO_yolo_0.7': 2, 'FUNGI_yolo_0.999': 0, 'ACTINO_yolo_0.4': 2, 'VIRUS_yolo_0.9': 1, 'HSIL_yolo_0.3': 193, 'SCC_yolo_0.8': 0, 'AGC_yolo_0.4': 2, 'ACTINO_yolo_0.99': 0, 'TRI_yolo_0.4': 0, 'EC_yolo_0.3': 3, 'ACTINO_yolo_0.6': 2, 'VIRUS_yolo_0.3': 7, 'AGC_yolo_0.5': 1, 'CC_yolo_0.1': 0, 'EC_yolo_0.5': 2, 'SCC_yolo_0.3': 4, 'LSIL_yolo_0.7': 18, 'LSIL_yolo_0.99': 0, 'SCC_yolo_0.1': 15, 'TRI_yolo_0.9': 0, 'HSIL_yolo_0.5': 107, 'LSIL_yolo_0.9': 8, 'ACTINO_yolo_0.2': 4, 'AGC_yolo_0.8': 0, 'ACTINO_yolo_0.3': 3, 'EC_yolo_0.6': 2, 'CC_yolo_0.4': 0, 'FUNGI_yolo_0.99': 0, 'HSIL_yolo_0.2': 296, 'SCC_yolo_0.7': 1, 'AGC_yolo_0.9': 0, 'HSIL_yolo_0.6': 75, 'HSIL_yolo_0.4': 135, 'VIRUS_yolo_0.4': 6, 'SCC_yolo_0.9': 0, 'SCC_yolo_0.2': 5, 'SCC_yolo_0.999': 0, 'TRI_yolo_0.2': 0, 'CC_yolo_0.6': 0, 'EC_yolo_0.999': 0, 'ACTINO_yolo_0.1': 6, 'AGC_yolo_0.99': 0, 'VIRUS_yolo_0.999': 0, 'CC_yolo_0.999': 0, 'CC_yolo_0.5': 0, 'CC_yolo_0.3': 0, 'LSIL_yolo_0.2': 70, 'LSIL_yolo_0.4': 44, 'EC_yolo_0.2': 8, 'VIRUS_yolo_0.5': 6, 'EC_yolo_0.7': 1, 'FUNGI_yolo_0.8': 0, 'AGC_yolo_0.2': 11, 'HSIL_yolo_0.7': 53, 'TRI_yolo_0.999': 0, 'EC_yolo_0.99': 0, 'TRI_yolo_0.6': 0, 'FUNGI_yolo_0.2': 1, 'AGC_yolo_0.6': 1, 'CC_yolo_0.8': 0, 'HSIL_yolo_0.99': 1, 'VIRUS_yolo_0.2': 12, 'EC_yolo_0.1': 10, 'HSIL_yolo_0.1': 553, 'LSIL_yolo_0.3': 57, 'ACTINO_yolo_0.999': 0, 'CC_yolo_0.99': 0, 'FUNGI_yolo_0.3': 0, 'HSIL_yolo_0.999': 0, 'SCC_yolo_0.6': 1, 'AGC_yolo_0.999': 0, 'VIRUS_yolo_0.99': 0, 'AGC_yolo_0.1': 18, 'TRI_yolo_0.5': 0, 'AGC_yolo_0.3': 3, 'CC_yolo_0.7': 0, 'VIRUS_yolo_0.8': 4, 'VIRUS_yolo_0.6': 6, 'VIRUS_yolo_0.1': 20, 'AGC_yolo_0.7': 0, 'FUNGI_yolo_0.6': 0, 'TRI_yolo_0.1': 0, 'FUNGI_yolo_0.4': 0, 'TRI_yolo_0.99': 0, 'HSIL_yolo_0.8': 39, 'FUNGI_yolo_0.5': 0, 'LSIL_yolo_0.999': 0, 'SCC_yolo_0.99': 0, 'SCC_yolo_0.5': 2, 'FUNGI_yolo_0.1': 1, 'ACTINO_yolo_0.5': 2, 'EC_yolo_0.9': 0, 'HSIL_yolo_0.9': 27, 'VIRUS_yolo_0.7': 4, 'EC_yolo_0.4': 2, 'LSIL_yolo_0.6': 22, 'EC_yolo_0.8': 0}\n"
     ]
    }
   ],
   "source": [
    "# yolo_cell_class count\n",
    "yolo_classes = [\"LSIL\", \"HSIL\", \"SCC\", \"AGC\", \"EC\", \"FUNGI\", \"TRI\", \"CC\", \"ACTINO\", \"VIRUS\"]\n",
    "yolo_classes_dict = {key+\"_yolo\":df[df[\"yolo_cell_class\"] == key].shape[0] for key in yolo_classes}\n",
    "print(yolo_classes_dict)\n",
    "header += [key+\"_yolo\" for key in yolo_classes]\n",
    "\n",
    "# yolo_cell_class_det count\n",
    "yolo_det_p = [0.1, 0.2, 0.3, 0.4, 0.5, 0.6, 0.7, 0.8, 0.9, 0.99, 0.999]\n",
    "yolo_classes_det_dict = {}\n",
    "for c in yolo_classes:\n",
    "    for p in yolo_det_p:\n",
    "        yolo_classes_det_dict[c+'_yolo_'+str(p)] = df[(df[\"yolo_cell_class\"] == c) & (df[\"yolo_cell_class_det\"] > p)].shape[0]\n",
    "        header.append(c+'_yolo_'+str(p))\n",
    "print(yolo_classes_det_dict)"
   ]
  },
  {
   "cell_type": "markdown",
   "metadata": {},
   "source": [
    "#### xcp, count by class and det"
   ]
  },
  {
   "cell_type": "code",
   "execution_count": 7,
   "metadata": {},
   "outputs": [
    {
     "name": "stdout",
     "output_type": "stream",
     "text": [
      "{'ACTINO_xcp': 2, 'HSIL_B_xcp': 120, 'HSIL_M_xcp': 54, 'CC_xcp': 1, 'VIRUS_xcp': 5, 'GEC_xcp': 47, 'SC_xcp': 53, 'AGC_xcp': 1, 'HSIL_S_xcp': 324, 'MC_xcp': 0, 'SCC_G_xcp': 9, 'TRI_xcp': 0, 'LSIL_E_xcp': 2, 'SCC_R_xcp': 2, 'RC_xcp': 35, 'LSIL_F_xcp': 67, 'EC_xcp': 1, 'FUNGI_xcp': 2}\n",
      "{'SCC_G_xcp_0.8': 6, 'HSIL_B_xcp_0.6': 118, 'SCC_R_xcp_0.7': 2, 'CC_xcp_0.9': 0, 'TRI_xcp_0.2': 0, 'SCC_R_xcp_0.6': 2, 'HSIL_B_xcp_0.9': 97, 'HSIL_S_xcp_0.3': 324, 'RC_xcp_0.1': 35, 'SCC_R_xcp_0.5': 2, 'EC_xcp_0.3': 1, 'RC_xcp_0.9': 19, 'ACTINO_xcp_0.99': 0, 'MC_xcp_0.7': 0, 'MC_xcp_0.5': 0, 'GEC_xcp_0.999': 2, 'VIRUS_xcp_0.9': 4, 'CC_xcp_0.5': 1, 'SC_xcp_0.9': 26, 'VIRUS_xcp_0.3': 5, 'LSIL_E_xcp_0.6': 1, 'FUNGI_xcp_0.99': 1, 'TRI_xcp_0.99': 0, 'RC_xcp_0.6': 29, 'EC_xcp_0.1': 1, 'FUNGI_xcp_0.999': 1, 'CC_xcp_0.6': 1, 'LSIL_E_xcp_0.8': 1, 'SC_xcp_0.7': 39, 'ACTINO_xcp_0.1': 2, 'SCC_R_xcp_0.9': 2, 'MC_xcp_0.3': 0, 'EC_xcp_0.2': 1, 'HSIL_B_xcp_0.2': 120, 'GEC_xcp_0.6': 35, 'FUNGI_xcp_0.6': 2, 'VIRUS_xcp_0.999': 1, 'VIRUS_xcp_0.8': 4, 'TRI_xcp_0.8': 0, 'HSIL_S_xcp_0.99': 184, 'AGC_xcp_0.1': 1, 'VIRUS_xcp_0.6': 5, 'LSIL_F_xcp_0.99': 55, 'ACTINO_xcp_0.5': 2, 'LSIL_F_xcp_0.999': 49, 'CC_xcp_0.999': 0, 'HSIL_M_xcp_0.3': 54, 'LSIL_F_xcp_0.9': 60, 'SCC_R_xcp_0.999': 1, 'AGC_xcp_0.9': 0, 'HSIL_M_xcp_0.7': 53, 'LSIL_E_xcp_0.99': 1, 'LSIL_F_xcp_0.5': 66, 'VIRUS_xcp_0.5': 5, 'HSIL_B_xcp_0.1': 120, 'FUNGI_xcp_0.1': 2, 'RC_xcp_0.4': 35, 'SC_xcp_0.5': 52, 'TRI_xcp_0.9': 0, 'HSIL_S_xcp_0.5': 323, 'SCC_G_xcp_0.6': 8, 'RC_xcp_0.2': 35, 'HSIL_S_xcp_0.1': 324, 'SCC_R_xcp_0.3': 2, 'SCC_G_xcp_0.5': 9, 'GEC_xcp_0.2': 47, 'HSIL_M_xcp_0.2': 54, 'SC_xcp_0.99': 12, 'HSIL_S_xcp_0.9': 272, 'MC_xcp_0.999': 0, 'AGC_xcp_0.99': 0, 'EC_xcp_0.9': 1, 'FUNGI_xcp_0.4': 2, 'HSIL_S_xcp_0.4': 324, 'FUNGI_xcp_0.7': 2, 'HSIL_M_xcp_0.8': 48, 'MC_xcp_0.6': 0, 'LSIL_F_xcp_0.7': 64, 'CC_xcp_0.99': 0, 'SCC_R_xcp_0.4': 2, 'SC_xcp_0.2': 53, 'VIRUS_xcp_0.99': 3, 'RC_xcp_0.99': 15, 'HSIL_B_xcp_0.8': 106, 'ACTINO_xcp_0.2': 2, 'GEC_xcp_0.99': 8, 'MC_xcp_0.4': 0, 'SCC_G_xcp_0.2': 9, 'AGC_xcp_0.3': 1, 'LSIL_F_xcp_0.6': 64, 'AGC_xcp_0.8': 0, 'GEC_xcp_0.3': 43, 'SC_xcp_0.6': 48, 'HSIL_M_xcp_0.9': 43, 'AGC_xcp_0.4': 1, 'CC_xcp_0.2': 1, 'AGC_xcp_0.999': 0, 'HSIL_S_xcp_0.6': 315, 'TRI_xcp_0.4': 0, 'LSIL_E_xcp_0.4': 2, 'FUNGI_xcp_0.8': 1, 'HSIL_B_xcp_0.7': 114, 'SCC_R_xcp_0.8': 2, 'LSIL_F_xcp_0.3': 67, 'LSIL_E_xcp_0.2': 2, 'SC_xcp_0.4': 53, 'GEC_xcp_0.9': 20, 'HSIL_M_xcp_0.1': 54, 'TRI_xcp_0.6': 0, 'ACTINO_xcp_0.3': 2, 'AGC_xcp_0.5': 1, 'SCC_G_xcp_0.4': 9, 'TRI_xcp_0.3': 0, 'HSIL_M_xcp_0.5': 53, 'LSIL_F_xcp_0.2': 67, 'TRI_xcp_0.999': 0, 'SCC_G_xcp_0.9': 5, 'SCC_G_xcp_0.99': 3, 'RC_xcp_0.7': 25, 'EC_xcp_0.6': 1, 'SCC_R_xcp_0.2': 2, 'HSIL_M_xcp_0.6': 53, 'GEC_xcp_0.5': 42, 'TRI_xcp_0.5': 0, 'GEC_xcp_0.1': 47, 'CC_xcp_0.4': 1, 'EC_xcp_0.7': 1, 'FUNGI_xcp_0.2': 2, 'RC_xcp_0.5': 34, 'HSIL_M_xcp_0.4': 54, 'HSIL_B_xcp_0.99': 75, 'LSIL_F_xcp_0.1': 67, 'TRI_xcp_0.1': 0, 'HSIL_M_xcp_0.99': 36, 'LSIL_E_xcp_0.9': 1, 'CC_xcp_0.7': 1, 'GEC_xcp_0.8': 25, 'VIRUS_xcp_0.7': 5, 'HSIL_S_xcp_0.7': 306, 'SC_xcp_0.3': 53, 'LSIL_E_xcp_0.7': 1, 'HSIL_B_xcp_0.4': 119, 'MC_xcp_0.99': 0, 'RC_xcp_0.8': 21, 'EC_xcp_0.99': 0, 'RC_xcp_0.999': 9, 'FUNGI_xcp_0.9': 1, 'GEC_xcp_0.7': 30, 'FUNGI_xcp_0.3': 2, 'ACTINO_xcp_0.6': 2, 'EC_xcp_0.5': 1, 'LSIL_E_xcp_0.5': 1, 'HSIL_B_xcp_0.999': 48, 'LSIL_F_xcp_0.8': 63, 'AGC_xcp_0.6': 1, 'HSIL_S_xcp_0.8': 292, 'EC_xcp_0.4': 1, 'MC_xcp_0.9': 0, 'SCC_G_xcp_0.3': 9, 'HSIL_B_xcp_0.5': 118, 'TRI_xcp_0.7': 0, 'SC_xcp_0.1': 53, 'EC_xcp_0.8': 1, 'EC_xcp_0.999': 0, 'HSIL_B_xcp_0.3': 120, 'SCC_G_xcp_0.7': 7, 'ACTINO_xcp_0.999': 0, 'SC_xcp_0.8': 34, 'SCC_R_xcp_0.99': 1, 'AGC_xcp_0.2': 1, 'FUNGI_xcp_0.5': 2, 'VIRUS_xcp_0.4': 5, 'SCC_G_xcp_0.999': 2, 'HSIL_S_xcp_0.2': 324, 'SCC_G_xcp_0.1': 9, 'ACTINO_xcp_0.9': 2, 'ACTINO_xcp_0.4': 2, 'MC_xcp_0.2': 0, 'LSIL_E_xcp_0.999': 0, 'HSIL_S_xcp_0.999': 112, 'VIRUS_xcp_0.1': 5, 'SCC_R_xcp_0.1': 2, 'CC_xcp_0.1': 1, 'HSIL_M_xcp_0.999': 25, 'ACTINO_xcp_0.8': 2, 'LSIL_F_xcp_0.4': 67, 'SC_xcp_0.999': 5, 'LSIL_E_xcp_0.1': 2, 'CC_xcp_0.8': 1, 'ACTINO_xcp_0.7': 2, 'CC_xcp_0.3': 1, 'MC_xcp_0.8': 0, 'MC_xcp_0.1': 0, 'GEC_xcp_0.4': 43, 'LSIL_E_xcp_0.3': 2, 'RC_xcp_0.3': 35, 'AGC_xcp_0.7': 1, 'VIRUS_xcp_0.2': 5}\n",
      "length of header 336\n"
     ]
    }
   ],
   "source": [
    "# xcp_cell_class count\n",
    "xcp_classes = [\"ACTINO\", \"AGC\", \"CC\", \"EC\", \"FUNGI\", \"GEC\", \"HSIL_B\", \"HSIL_M\", \"HSIL_S\", \n",
    "               \"LSIL_E\", \"LSIL_F\", \"MC\", \"RC\", \"SC\", \"SCC_G\", \"SCC_R\", \"TRI\", \"VIRUS\"]\n",
    "xcp_classes_dict = {key+\"_xcp\":df[df[\"xcp_cell_class\"] == key].shape[0] for key in xcp_classes}\n",
    "print(xcp_classes_dict)\n",
    "header += [key+\"_xcp\" for key in xcp_classes]\n",
    "\n",
    "# xcp_cell_class_det count\n",
    "xcp_det_p = [0.1, 0.2, 0.3, 0.4, 0.5, 0.6, 0.7, 0.8, 0.9, 0.99, 0.999]\n",
    "xcp_classes_det_dict = {}\n",
    "for c in xcp_classes:\n",
    "    for p in xcp_det_p:\n",
    "        xcp_classes_det_dict[c+'_xcp_'+str(p)] = df[(df[\"xcp_cell_class\"] == c) & (df[\"xcp_cell_class_det\"] > p)].shape[0]\n",
    "        header.append(c+'_xcp_'+str(p))\n",
    "print(xcp_classes_det_dict)\n",
    "print(\"length of header\", len(header))"
   ]
  },
  {
   "cell_type": "markdown",
   "metadata": {},
   "source": [
    "#### xcp, for each cell, count by class and det"
   ]
  },
  {
   "cell_type": "code",
   "execution_count": 8,
   "metadata": {},
   "outputs": [
    {
     "name": "stdout",
     "output_type": "stream",
     "text": [
      "15228\n"
     ]
    }
   ],
   "source": [
    "xcp_cell_det_p = list(range(-1000, -200, 100)) + list(range(-200, -100, 20)) + list(range(-100, 100, 10)) + list(range(100, 200, 20)) + list(range(200, 1100, 100))\n",
    "xcp_cell_classes_det_dict = {}\n",
    "for c_row in xcp_classes:\n",
    "    for c_col in xcp_classes:\n",
    "        for p in xcp_cell_det_p:\n",
    "            if not c_row+'_'+c_col+'_'+str(p) in xcp_cell_classes_det_dict:\n",
    "                xcp_cell_classes_det_dict[c_row+'_'+c_col+'_'+str(p)] = 0\n",
    "                header.append(c_row+'_'+c_col+'_'+str(p))\n",
    "            xcp_cell_classes_det_dict[c_row+'_'+c_col+'_'+str(p)] += df[(df[\"xcp_cell_class\"] == c_row) & (df[c_col+\"_det\"] > p)].shape[0]\n",
    "print(len(xcp_cell_classes_det_dict))"
   ]
  },
  {
   "cell_type": "code",
   "execution_count": 9,
   "metadata": {},
   "outputs": [
    {
     "name": "stdout",
     "output_type": "stream",
     "text": [
      "<class 'list'> 15564\n"
     ]
    }
   ],
   "source": [
    "all_dict = xcp_cell_classes_det_dict\n",
    "all_dict.update(yolo_classes_dict)\n",
    "all_dict.update(yolo_classes_det_dict)\n",
    "all_dict.update(xcp_classes_dict)\n",
    "all_dict.update(xcp_classes_det_dict)\n",
    "\n",
    "# header = list(all_dict.keys())\n",
    "print(type(header), len(header))"
   ]
  },
  {
   "cell_type": "code",
   "execution_count": null,
   "metadata": {},
   "outputs": [],
   "source": [
    "# import csv\n",
    "\n",
    "# # write to csv\n",
    "# def write_to_csv(csv_name, header, all_dict):\n",
    "#     with open(csv_name, 'a', newline='') as csv_file:\n",
    "#         writer = csv.writer(csv_file)\n",
    "#         line = [all_dict[key] for key in header]\n",
    "#         writer.writerow(header)\n",
    "#         writer.writerow(line)\n",
    "\n",
    "# write_to_csv(\"test.csv\", header, all_dict)"
   ]
  },
  {
   "cell_type": "code",
   "execution_count": 10,
   "metadata": {},
   "outputs": [],
   "source": [
    "# write header to txt\n",
    "with open(\"header.txt\", 'w') as f:\n",
    "    for key in header:\n",
    "        f.write(key+'\\n')"
   ]
  },
  {
   "cell_type": "code",
   "execution_count": null,
   "metadata": {},
   "outputs": [],
   "source": []
  }
 ],
 "metadata": {
  "kernelspec": {
   "display_name": "Python 3",
   "language": "python",
   "name": "python3"
  },
  "language_info": {
   "codemirror_mode": {
    "name": "ipython",
    "version": 3
   },
   "file_extension": ".py",
   "mimetype": "text/x-python",
   "name": "python",
   "nbconvert_exporter": "python",
   "pygments_lexer": "ipython3",
   "version": "3.5.6"
  }
 },
 "nbformat": 4,
 "nbformat_minor": 2
}
