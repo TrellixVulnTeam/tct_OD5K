{
 "cells": [
  {
   "cell_type": "code",
   "execution_count": 1,
   "metadata": {},
   "outputs": [
    {
     "name": "stderr",
     "output_type": "stream",
     "text": [
      "Using TensorFlow backend.\n"
     ]
    }
   ],
   "source": [
    "import os\n",
    "from keras.models import * \n",
    "from keras.layers import *\n",
    "from keras.applications import *\n",
    "from keras.preprocessing.image import *\n",
    "from keras.utils.training_utils import multi_gpu_model\n",
    "from multiprocessing import cpu_count\n",
    "import tensorflow as tf"
   ]
  },
  {
   "cell_type": "code",
   "execution_count": 2,
   "metadata": {},
   "outputs": [],
   "source": [
    "nb_classes = 21\n",
    "nb_cpus = 8\n",
    "nb_gpus = 4\n",
    "os.environ[\"CUDA_VISIBLE_DEVICES\"] = '0,1,2,3'\n",
    "\n",
    "image_size = (299, 299)\n",
    "input_shape= (299, 299, 3)"
   ]
  },
  {
   "cell_type": "code",
   "execution_count": 3,
   "metadata": {},
   "outputs": [
    {
     "name": "stdout",
     "output_type": "stream",
     "text": [
      "__________________________________________________________________________________________________\n",
      "Layer (type)                    Output Shape         Param #     Connected to                     \n",
      "==================================================================================================\n",
      "input_1 (InputLayer)            (None, 299, 299, 3)  0                                            \n",
      "__________________________________________________________________________________________________\n",
      "lambda_2 (Lambda)               (None, 299, 299, 3)  0           input_1[0][0]                    \n",
      "__________________________________________________________________________________________________\n",
      "lambda_3 (Lambda)               (None, 299, 299, 3)  0           input_1[0][0]                    \n",
      "__________________________________________________________________________________________________\n",
      "lambda_4 (Lambda)               (None, 299, 299, 3)  0           input_1[0][0]                    \n",
      "__________________________________________________________________________________________________\n",
      "lambda_5 (Lambda)               (None, 299, 299, 3)  0           input_1[0][0]                    \n",
      "__________________________________________________________________________________________________\n",
      "model_1 (Model)                 (None, 21)           20904509    lambda_2[0][0]                   \n",
      "                                                                 lambda_3[0][0]                   \n",
      "                                                                 lambda_4[0][0]                   \n",
      "                                                                 lambda_5[0][0]                   \n",
      "__________________________________________________________________________________________________\n",
      "dense_1 (Concatenate)           (None, 21)           0           model_1[1][0]                    \n",
      "                                                                 model_1[2][0]                    \n",
      "                                                                 model_1[3][0]                    \n",
      "                                                                 model_1[4][0]                    \n",
      "==================================================================================================\n",
      "Total params: 20,904,509\n",
      "Trainable params: 20,849,981\n",
      "Non-trainable params: 54,528\n",
      "__________________________________________________________________________________________________\n"
     ]
    }
   ],
   "source": [
    "with tf.device('/cpu:0'):\n",
    "    input_tensor = Input(input_shape)\n",
    "    x = Lambda(xception.preprocess_input)(input_tensor)\n",
    "\n",
    "    base_model = Xception(input_tensor=x, weights=None, include_top=False)\n",
    "    m_out = base_model.output\n",
    "    p_out = GlobalAveragePooling2D()(m_out)\n",
    "    p_out = Dropout(1.0)(p_out)\n",
    "    predictions = Dense(nb_classes, activation='softmax')(p_out)\n",
    "    model = Model(inputs=base_model.input, outputs=predictions)\n",
    "    \n",
    "model = multi_gpu_model(model, gpus=nb_gpus)\n",
    "model.summary()"
   ]
  },
  {
   "cell_type": "code",
   "execution_count": 4,
   "metadata": {},
   "outputs": [],
   "source": [
    "model.load_weights('batch6.4_007_0.0655.hdf5')"
   ]
  },
  {
   "cell_type": "code",
   "execution_count": 5,
   "metadata": {},
   "outputs": [
    {
     "name": "stdout",
     "output_type": "stream",
     "text": [
      "Found 43605 images belonging to 21 classes.\n",
      "682/682 [==============================] - 132s 193ms/step\n"
     ]
    }
   ],
   "source": [
    "batch_size = 64\n",
    "test_path = \"/home/nvme/liyu/xcp-batch6.4/CELLS-half/valid\"\n",
    "\n",
    "gen = ImageDataGenerator()\n",
    "test_generator = gen.flow_from_directory(test_path, \n",
    "                                         target_size=image_size, \n",
    "                                         shuffle=False,\n",
    "                                         batch_size=batch_size)\n",
    "test_img_nums = test_generator.samples\n",
    "all_test_results = model.predict_generator(test_generator, \n",
    "                                           len(test_generator), \n",
    "                                           workers=nb_cpus, \n",
    "                                           use_multiprocessing=True,\n",
    "                                           verbose=1)\n",
    "all_labels = test_generator.classes"
   ]
  },
  {
   "cell_type": "code",
   "execution_count": 6,
   "metadata": {},
   "outputs": [
    {
     "name": "stdout",
     "output_type": "stream",
     "text": [
      "{'LSIL_E': 11, 'ACTINO': 0, 'SCC_R': 18, 'PH': 14, 'ASCUS': 3, 'HSIL_M': 9, 'EC': 5, 'VIRUS': 20, 'HSIL_S': 10, 'AGC_B': 2, 'GEC': 7, 'HSIL_B': 8, 'AGC_A': 1, 'TRI': 19, 'FUNGI': 6, 'SC': 16, 'MC': 13, 'CC': 4, 'SCC_G': 17, 'RC': 15, 'LSIL_F': 12}\n"
     ]
    }
   ],
   "source": [
    "class_label_dict = test_generator.class_indices\n",
    "print(test_generator.class_indices)\n",
    "def get_key(dict_, value):\n",
    "    return [k for k, v in dict_.items() if v == value]\n",
    "\n",
    "# create class num lens dict, every dict store current class predict num\n",
    "total_predictions_dict = {}\n",
    "for row_class_name, label in class_label_dict.items():\n",
    "    total_predictions_dict[row_class_name] = {}\n",
    "    for column_class_name, label in class_label_dict.items():\n",
    "        total_predictions_dict[row_class_name][column_class_name] = 0"
   ]
  },
  {
   "cell_type": "code",
   "execution_count": 16,
   "metadata": {},
   "outputs": [],
   "source": [
    "thresh = 0.95\n",
    "\n",
    "for i, label in enumerate(all_labels):\n",
    "    predict_index = np.argmax(all_test_results[i])\n",
    "    predict_det = all_test_results[i][predict_index]\n",
    "    if (predict_det > thresh):\n",
    "        # get the first result\n",
    "        label_class_name = get_key(class_label_dict, label)[0]\n",
    "        test_class_name = get_key(class_label_dict, np.argmax(all_test_results[i]))[0]\n",
    "#     print(label_class_name)\n",
    "#     print(total_predictions_dict[label_class_name].keys())\n",
    "        total_predictions_dict[label_class_name][test_class_name] += 1"
   ]
  },
  {
   "cell_type": "code",
   "execution_count": 17,
   "metadata": {},
   "outputs": [
    {
     "name": "stdout",
     "output_type": "stream",
     "text": [
      "{'LSIL_E': 0, 'ACTINO': 0, 'VIRUS': 0, 'ASCUS': 0, 'PH': 0, 'HSIL_M': 0, 'EC': 1, 'HSIL_S': 0, 'LSIL_F': 0, 'GEC': 11, 'AGC_B': 0, 'SCC_R': 0, 'HSIL_B': 0, 'AGC_A': 0, 'TRI': 0, 'FUNGI': 0, 'RC': 3411, 'MC': 0, 'CC': 0, 'SCC_G': 0, 'SC': 0}\n"
     ]
    }
   ],
   "source": [
    "print(total_predictions_dict['RC'])"
   ]
  },
  {
   "cell_type": "code",
   "execution_count": 18,
   "metadata": {
    "scrolled": true
   },
   "outputs": [
    {
     "name": "stdout",
     "output_type": "stream",
     "text": [
      "5045\n",
      "5045\n",
      "['LSIL_E', 4993, 0, 0, 1, 14, 0, 0, 0, 0, 0, 0, 0, 0, 0, 0, 0, 4, 0, 0, 0, 33, '5045', 0.9897]\n",
      "11259\n",
      "11259\n",
      "['ACTINO', 0, 11259, 0, 0, 0, 0, 0, 0, 0, 0, 0, 0, 0, 0, 0, 0, 0, 0, 0, 0, 0, '11259', 1.0]\n",
      "5305\n",
      "5305\n",
      "['SCC_R', 0, 0, 5296, 0, 0, 0, 0, 0, 8, 0, 0, 0, 0, 0, 0, 0, 0, 0, 1, 0, 0, '5305', 0.9983]\n",
      "6002\n",
      "6002\n",
      "['PH', 0, 0, 0, 5931, 26, 0, 0, 0, 0, 0, 0, 0, 0, 0, 0, 0, 22, 23, 0, 0, 0, '6002', 0.9882]\n",
      "4707\n",
      "4707\n",
      "['ASCUS', 16, 0, 0, 12, 4560, 0, 0, 0, 0, 0, 0, 0, 0, 0, 0, 0, 0, 1, 0, 1, 117, '4707', 0.9688]\n",
      "5587\n",
      "5587\n",
      "['HSIL_M', 0, 0, 0, 0, 0, 5531, 0, 1, 0, 15, 5, 29, 0, 0, 0, 0, 0, 0, 6, 0, 0, '5587', 0.99]\n",
      "1403\n",
      "1403\n",
      "['EC', 0, 0, 0, 0, 0, 20, 1316, 0, 0, 34, 18, 0, 0, 0, 0, 0, 0, 0, 0, 15, 0, '1403', 0.938]\n",
      "5537\n",
      "5537\n",
      "['VIRUS', 0, 0, 0, 0, 0, 0, 0, 5470, 50, 0, 0, 0, 0, 0, 0, 16, 0, 0, 0, 0, 1, '5537', 0.9879]\n",
      "22202\n",
      "22202\n",
      "['HSIL_S', 0, 0, 10, 0, 2, 6, 0, 11, 21971, 0, 2, 0, 0, 0, 0, 105, 0, 0, 95, 0, 0, '22202', 0.9896]\n",
      "1402\n",
      "1402\n",
      "['AGC_B', 0, 0, 0, 0, 0, 10, 29, 0, 0, 1346, 13, 4, 0, 0, 0, 0, 0, 0, 0, 0, 0, '1402', 0.9601]\n",
      "11633\n",
      "11633\n",
      "['GEC', 0, 0, 0, 0, 0, 2, 24, 2, 9, 3, 11508, 3, 8, 0, 2, 8, 6, 3, 0, 53, 2, '11633', 0.9893]\n",
      "3775\n",
      "3775\n",
      "['HSIL_B', 0, 0, 0, 0, 0, 29, 21, 0, 0, 6, 2, 3713, 0, 0, 0, 0, 0, 0, 0, 0, 4, '3775', 0.9836]\n",
      "3047\n",
      "3047\n",
      "['AGC_A', 0, 0, 0, 0, 0, 32, 0, 0, 0, 6, 5, 0, 3003, 0, 0, 0, 0, 0, 1, 0, 0, '3047', 0.9856]\n",
      "33661\n",
      "33661\n",
      "['TRI', 0, 0, 0, 0, 0, 0, 0, 0, 0, 0, 0, 0, 0, 33658, 0, 3, 0, 0, 0, 0, 0, '33661', 0.9999]\n",
      "7403\n",
      "7403\n",
      "['FUNGI', 0, 0, 0, 0, 1, 0, 0, 0, 0, 0, 0, 0, 0, 0, 7402, 0, 0, 0, 0, 0, 0, '7403', 0.9999]\n",
      "7449\n",
      "7449\n",
      "['SC', 0, 0, 0, 0, 0, 0, 0, 6, 500, 0, 0, 0, 0, 0, 0, 6933, 0, 0, 10, 0, 0, '7449', 0.9307]\n",
      "8099\n",
      "8099\n",
      "['MC', 2, 0, 0, 31, 0, 0, 0, 0, 0, 0, 0, 0, 0, 0, 0, 0, 8064, 2, 0, 0, 0, '8099', 0.9957]\n",
      "14856\n",
      "14856\n",
      "['CC', 0, 0, 0, 12, 0, 0, 0, 0, 0, 0, 0, 0, 0, 0, 1, 0, 7, 14836, 0, 0, 0, '14856', 0.9987]\n",
      "2809\n",
      "2809\n",
      "['SCC_G', 0, 0, 1, 0, 0, 10, 0, 0, 102, 0, 7, 0, 3, 0, 0, 0, 0, 0, 2686, 0, 0, '2809', 0.9562]\n",
      "3423\n",
      "3423\n",
      "['RC', 0, 0, 0, 0, 0, 0, 1, 0, 0, 0, 11, 0, 0, 0, 0, 0, 0, 0, 0, 3411, 0, '3423', 0.9965]\n",
      "3015\n",
      "3015\n",
      "['LSIL_F', 16, 0, 0, 0, 218, 0, 0, 0, 0, 0, 0, 0, 0, 0, 0, 0, 3, 0, 0, 0, 2778, '3015', 0.9214]\n"
     ]
    }
   ],
   "source": [
    "import csv\n",
    "out = open('confusion_matrix_95.csv','a', newline='')\n",
    "csv_write = csv.writer(out,dialect='excel')\n",
    "\n",
    "# write the title\n",
    "line = [class_name for class_name, label in class_label_dict.items()]\n",
    "line = [\" \"] + line + [\"TOTAL\"] + [\"ACC\"]\n",
    "csv_write.writerow(line)\n",
    "\n",
    "# write rows\n",
    "\n",
    "true_num = 0\n",
    "all_num = 0\n",
    "\n",
    "for row_class_name, label in class_label_dict.items():\n",
    "    one_class_total_predict = 0\n",
    "    line = [row_class_name]\n",
    "    for column_class_name, label in class_label_dict.items():\n",
    "        one_class_total_predict += total_predictions_dict[row_class_name][column_class_name]\n",
    "    \n",
    "    for column_class_name, label in class_label_dict.items():\n",
    "        one_class_cur_predict = total_predictions_dict[row_class_name][column_class_name]\n",
    "        # acc\n",
    "        #acc = round((one_class_cur_predict / one_class_total_predict), 4)\n",
    "        #line.append(str(acc))\n",
    "        # num\n",
    "        line.append(one_class_cur_predict)\n",
    "    print(one_class_total_predict)\n",
    "    print(str(one_class_total_predict))\n",
    "    line.append(str(one_class_total_predict))\n",
    "    line.append(round((total_predictions_dict[row_class_name][row_class_name] / one_class_total_predict), 4))       \n",
    "    print(line)\n",
    "    csv_write.writerow(line)\n",
    "    \n",
    "    true_num += total_predictions_dict[row_class_name][row_class_name]\n",
    "    all_num += one_class_total_predict\n",
    "    \n",
    "csv_write.writerow([\"ALL_ACC\"] + [round((true_num / all_num), 4)])\n",
    "    \n",
    "out.close()"
   ]
  },
  {
   "cell_type": "code",
   "execution_count": null,
   "metadata": {
    "collapsed": true
   },
   "outputs": [],
   "source": []
  }
 ],
 "metadata": {
  "kernelspec": {
   "display_name": "Python 3",
   "language": "python",
   "name": "python3"
  },
  "language_info": {
   "codemirror_mode": {
    "name": "ipython",
    "version": 3
   },
   "file_extension": ".py",
   "mimetype": "text/x-python",
   "name": "python",
   "nbconvert_exporter": "python",
   "pygments_lexer": "ipython3",
   "version": "3.5.6"
  }
 },
 "nbformat": 4,
 "nbformat_minor": 2
}
