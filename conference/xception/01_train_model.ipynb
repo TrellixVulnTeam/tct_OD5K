{
 "cells": [
  {
   "cell_type": "markdown",
   "metadata": {},
   "source": [
    "## Xception model training"
   ]
  },
  {
   "cell_type": "markdown",
   "metadata": {},
   "source": [
    "### import libs"
   ]
  },
  {
   "cell_type": "code",
   "execution_count": null,
   "metadata": {},
   "outputs": [],
   "source": [
    "from keras.models import * \n",
    "from keras.layers import *\n",
    "from keras.applications import *\n",
    "from keras.preprocessing.image import *\n",
    "from keras.utils.training_utils import multi_gpu_model\n",
    "import tensorflow as tf"
   ]
  },
  {
   "cell_type": "code",
   "execution_count": null,
   "metadata": {},
   "outputs": [],
   "source": [
    "nb_classes = 20\n",
    "nb_gpus = 4\n",
    "image_size = (299, 299)\n",
    "input_shape= (299,299,3)\n",
    "\n",
    "train_path = \"/home/cnn/Documents/tct/conference/xception/batch6_cells_half299/train/\"\n",
    "valid_path = \"/home/cnn/Documents/tct/conference/xception/batch6_cells_half299/valid/\""
   ]
  },
  {
   "cell_type": "markdown",
   "metadata": {},
   "source": [
    "### pretrain model"
   ]
  },
  {
   "cell_type": "code",
   "execution_count": null,
   "metadata": {
    "scrolled": true
   },
   "outputs": [],
   "source": [
    "with tf.device('/cpu:0'):\n",
    "    input_tensor = Input(input_shape)\n",
    "    x = Lambda(xception.preprocess_input)(input_tensor)\n",
    "\n",
    "    base_model = Xception(input_tensor=x, weights='imagenet', include_top=False)\n",
    "    m_out = base_model.output\n",
    "    p_out = GlobalAveragePooling2D()(m_out)\n",
    "    p_out = Dropout(0.5)(p_out)\n",
    "    predictions = Dense(nb_classes, activation='softmax', name=\"predictions\")(p_out)\n",
    "\n",
    "    for layer in base_model.layers:\n",
    "        layer.trainable = False\n",
    "\n",
    "    model = Model(inputs=base_model.input, outputs=predictions)\n",
    "\n",
    "if nb_gpus > 1:\n",
    "    parallel_model = multi_gpu_model(model, gpus=nb_gpus)\n",
    "parallel_model.compile(optimizer='Adadelta', \n",
    "              loss='categorical_crossentropy', \n",
    "              metrics=['accuracy'])\n",
    "model.summary()"
   ]
  },
  {
   "cell_type": "code",
   "execution_count": null,
   "metadata": {},
   "outputs": [],
   "source": [
    "batch_size = 64\n",
    "epochs = 1"
   ]
  },
  {
   "cell_type": "code",
   "execution_count": null,
   "metadata": {},
   "outputs": [],
   "source": [
    "img_gen_t = ImageDataGenerator()\n",
    "train_generator = img_gen_t.flow_from_directory(train_path, \n",
    "                                                target_size=image_size, shuffle=True, batch_size=batch_size)\n",
    "\n",
    "img_gen_v = ImageDataGenerator()\n",
    "valid_generator = img_gen_v.flow_from_directory(valid_path,\n",
    "                                                target_size=image_size, shuffle=True, batch_size=batch_size)\n",
    "\n",
    "parallel_model.fit_generator(generator=train_generator, \n",
    "                             steps_per_epoch=len(train_generator), \n",
    "                             epochs=epochs, \n",
    "                             verbose=1,\n",
    "                             validation_data=valid_generator, \n",
    "                             validation_steps=len(valid_generator))\n",
    "\n",
    "model.save_weights(\"Xception_first_train.h5\")"
   ]
  },
  {
   "cell_type": "markdown",
   "metadata": {},
   "source": [
    "### train model"
   ]
  },
  {
   "cell_type": "code",
   "execution_count": null,
   "metadata": {},
   "outputs": [],
   "source": [
    "with tf.device('/cpu:0'):\n",
    "    input_tensor = Input(input_shape)\n",
    "    x = Lambda(xception.preprocess_input)(input_tensor)\n",
    "\n",
    "    base_model = Xception(input_tensor=x, weights=None, include_top=False)\n",
    "    m_out = base_model.output\n",
    "    p_out = GlobalAveragePooling2D()(m_out)\n",
    "    p_out = Dropout(0.5)(p_out)\n",
    "    predictions = Dense(nb_classes, activation='softmax', name=\"predictions\")(p_out)\n",
    "\n",
    "    model = Model(inputs=base_model.input, outputs=predictions)\n",
    "    model.load_weights('Xception_first_train.h5')\n",
    "\n",
    "if nb_gpus > 1:\n",
    "    parallel_model = multi_gpu_model(model, gpus=nb_gpus)\n",
    "parallel_model.compile(optimizer='Adadelta', \n",
    "              loss='categorical_crossentropy', \n",
    "              metrics=['accuracy'])\n",
    "model.summary()"
   ]
  },
  {
   "cell_type": "code",
   "execution_count": null,
   "metadata": {},
   "outputs": [],
   "source": [
    "batch_size = 64\n",
    "epochs = 100"
   ]
  },
  {
   "cell_type": "code",
   "execution_count": null,
   "metadata": {
    "scrolled": true
   },
   "outputs": [],
   "source": [
    "from keras.callbacks import ModelCheckpoint, LearningRateScheduler, EarlyStopping, ReduceLROnPlateau, TensorBoard\n",
    "\n",
    "img_gen_t = ImageDataGenerator(rotation_range=90,                            \n",
    "                               width_shift_range=0.1,\n",
    "                               height_shift_range=0.1,\n",
    "                               zoom_range=0.1,\n",
    "                               brightness_range=[0.9, 1.1],\n",
    "#                               zca_whitening= True,\n",
    "                               horizontal_flip=True,\n",
    "                               vertical_flip=True)\n",
    "train_generator = img_gen_t.flow_from_directory(train_path, \n",
    "                                                target_size=image_size, shuffle=True, batch_size=batch_size)\n",
    "\n",
    "img_gen_v = ImageDataGenerator()\n",
    "valid_generator = img_gen_v.flow_from_directory(valid_path,\n",
    "                                                target_size=image_size, shuffle=True, batch_size=batch_size)\n",
    "\n",
    "checkpoint = ModelCheckpoint(\"weights_{epoch:03d}_{val_loss:.4f}.hdf5\", monitor='val_loss', verbose=1,\n",
    "                             save_best_only=False, save_weights_only=True, mode='min', period=1)\n",
    "\n",
    "tensorboard = TensorBoard(log_dir=\"./logs\", histogram_freq=0, batch_size=batch_size, write_graph=True, write_images=True)\n",
    "\n",
    "callbacks = [checkpoint, tensorboard]\n",
    "\n",
    "parallel_model.fit_generator(generator=train_generator, \n",
    "                             steps_per_epoch=len(train_generator), \n",
    "                             epochs=epochs, \n",
    "                             verbose=1,\n",
    "                             validation_data=valid_generator, \n",
    "                             validation_steps=len(valid_generator), \n",
    "                             callbacks=callbacks)"
   ]
  },
  {
   "cell_type": "markdown",
   "metadata": {},
   "source": [
    "#### plot training trend"
   ]
  },
  {
   "cell_type": "code",
   "execution_count": null,
   "metadata": {},
   "outputs": [],
   "source": [
    "# 1. first need to retrieve acc/loss/val_acc/val_loss info from tensorboard\n",
    "# in terminal: tensorboard --logdir ./logs\n",
    "# open browser with given link\n",
    "# save data to local csv and merge four separate files\n",
    "\n",
    "# 2. read from saved data csv\n",
    "import pandas as pd\n",
    "import matplotlib.pyplot as plt\n",
    "\n",
    "csv_file = \"./info_20181118.csv\"\n",
    "\n",
    "df = pd.read_csv(csv_file)\n",
    "\n",
    "step = list(df.step)\n",
    "acc = list(df.acc)\n",
    "loss = list(df.loss)\n",
    "val_acc = list(df.val_acc)\n",
    "val_loss = list(df.val_loss)\n",
    "\n",
    "# 3. plot acc and loss\n",
    "from matplotlib.patches import Rectangle\n",
    "\n",
    "fig = plt.figure(1, figsize=(12,6), dpi=90)\n",
    "ax = fig.add_subplot(121)\n",
    "ax.plot(step, acc,label=\"train\")\n",
    "ax.plot(step, val_acc,label=\"valid\")\n",
    "ax.legend()\n",
    "plt.title(\"training accuracy\")\n",
    "plt.xlabel(\"epoch\")\n",
    "plt.ylabel(\"accuracy\")\n",
    "ax = fig.add_subplot(122)\n",
    "ax.plot(step, loss,label=\"train\")\n",
    "ax.plot(step, val_loss,label=\"vaild\")\n",
    "ax.legend()\n",
    "plt.title(\"training loss\")\n",
    "plt.xlabel(\"epoch\")\n",
    "plt.ylabel(\"loss\")"
   ]
  },
  {
   "cell_type": "code",
   "execution_count": null,
   "metadata": {},
   "outputs": [],
   "source": []
  }
 ],
 "metadata": {
  "kernelspec": {
   "display_name": "Python 3",
   "language": "python",
   "name": "python3"
  },
  "language_info": {
   "codemirror_mode": {
    "name": "ipython",
    "version": 3
   },
   "file_extension": ".py",
   "mimetype": "text/x-python",
   "name": "python",
   "nbconvert_exporter": "python",
   "pygments_lexer": "ipython3",
   "version": "3.5.2"
  }
 },
 "nbformat": 4,
 "nbformat_minor": 2
}
