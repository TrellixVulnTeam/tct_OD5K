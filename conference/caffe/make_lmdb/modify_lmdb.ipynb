{
 "cells": [
  {
   "cell_type": "code",
   "execution_count": 1,
   "metadata": {},
   "outputs": [],
   "source": [
    "import os\n",
    "import cv2\n",
    "import lmdb\n",
    "import caffe\n",
    "import random\n",
    "import numpy as np\n",
    "from make_lmdb import *"
   ]
  },
  {
   "cell_type": "code",
   "execution_count": 2,
   "metadata": {},
   "outputs": [
    {
     "name": "stdout",
     "output_type": "stream",
     "text": [
      "# records 21704\n"
     ]
    }
   ],
   "source": [
    "lmdb_name = \"/home/nvme/LUSC/valid-lmdb\"\n",
    "\n",
    "N = get_num_records(lmdb_name)\n",
    "print(\"# records\", N)"
   ]
  },
  {
   "cell_type": "code",
   "execution_count": 40,
   "metadata": {},
   "outputs": [
    {
     "name": "stdout",
     "output_type": "stream",
     "text": [
      "b'00000000_/home/nvme/LUSC/valid/positive/TCGA-34-2604_i13_x15785_y10671_90.jpg'\n",
      "(224, 224, 3) 1\n",
      "b'00000001_/home/nvme/LUSC/valid/positive/TCGA-34-5928_i7_x15019_y25766_90.jpg'\n",
      "(224, 224, 3) 1\n",
      "b'00000002_/home/nvme/LUSC/valid/positive/TCGA-34-5928_i7_x14691_y25814_270.jpg'\n",
      "(224, 224, 3) 1\n",
      "b'00000003_/home/nvme/LUSC/valid/positive/TCGA-22-4599_i50_x4757_y2432_90.jpg'\n",
      "(224, 224, 3) 8\n",
      "b'00000004_/home/nvme/LUSC/valid/positive/TCGA-34-2605_i30_x17224_y18123_180.jpg'\n",
      "(224, 224, 3) 1\n",
      "b'00000005_/home/nvme/LUSC/valid/negative/TCGA-33-4547_i0_x8468_y5495.jpg'\n",
      "(224, 224, 3) 0\n",
      "b'00000006_/home/nvme/LUSC/valid/negative/TCGA-18-4086_i4_x6515_y4929_180.jpg'\n",
      "(224, 224, 3) 0\n",
      "b'00000007_/home/nvme/LUSC/valid/positive/TCGA-22-4599_i19_x13047_y5082_180.jpg'\n",
      "(224, 224, 3) 8\n",
      "b'00000008_/home/nvme/LUSC/valid/negative/TCGA-33-4547_i2_x5771_y3855_270.jpg'\n",
      "(224, 224, 3) 0\n",
      "b'00000009_/home/nvme/LUSC/valid/positive/TCGA-34-2605_i28_x18063_y21909_90.jpg'\n",
      "(224, 224, 3) 8\n"
     ]
    },
    {
     "name": "stderr",
     "output_type": "stream",
     "text": [
      "/home/lukawa/.conda/envs/algo-work/lib/python3.5/site-packages/ipykernel_launcher.py:14: DeprecationWarning: The binary mode of fromstring is deprecated, as it behaves surprisingly on unicode inputs. Use frombuffer instead\n",
      "  \n"
     ]
    }
   ],
   "source": [
    "cnt = 0\n",
    "env = lmdb.open(lmdb_name, readonly=True)\n",
    "with env.begin() as txn:\n",
    "    cursor = txn.cursor()\n",
    "    for key, value in cursor:\n",
    "        if cnt < 10:\n",
    "            cnt += 1\n",
    "            print(key)\n",
    "            key = key.decode('ascii')\n",
    "            key = key.split('_', 1)[1]\n",
    "            \n",
    "            datum = caffe.proto.caffe_pb2.Datum()\n",
    "            datum.ParseFromString(value)\n",
    "            flat_x = np.fromstring(datum.data, dtype=np.uint8)\n",
    "            x = flat_x.reshape(datum.channels, datum.height, datum.width)\n",
    "            x = np.transpose(x, (1,2,0))\n",
    "            y = datum.label\n",
    "            print(x.shape, y)\n",
    "            \n",
    "            cv2.imwrite(os.path.basename(key), x)\n",
    "        else:\n",
    "            cursor.close()\n",
    "            break"
   ]
  },
  {
   "cell_type": "code",
   "execution_count": 3,
   "metadata": {},
   "outputs": [
    {
     "name": "stdout",
     "output_type": "stream",
     "text": [
      "Existed num of samples:  21704\n",
      "2019-03-11 14:25:31.957118  -->  0\n"
     ]
    }
   ],
   "source": [
    "add_data_name = \"/home/nvme/LUSC/add.txt\"\n",
    "\n",
    "make_lmdb(add_data_name, lmdb_name, append=True, size=224)"
   ]
  },
  {
   "cell_type": "code",
   "execution_count": 29,
   "metadata": {},
   "outputs": [
    {
     "name": "stdout",
     "output_type": "stream",
     "text": [
      "# records 21715\n"
     ]
    }
   ],
   "source": [
    "N = get_num_records(lmdb_name)\n",
    "print(\"# records\", N)"
   ]
  },
  {
   "cell_type": "code",
   "execution_count": 17,
   "metadata": {},
   "outputs": [
    {
     "name": "stdout",
     "output_type": "stream",
     "text": [
      "Does not exist: 00000003_/home/nvme/LUSC/valid/positive/TCGA-22-4599_i50_x4757_y2432_90.jpg\n"
     ]
    }
   ],
   "source": [
    "keys = ['00000003_/home/nvme/LUSC/valid/positive/TCGA-22-4599_i50_x4757_y2432_90.jpg', \n",
    "        '00000007_/home/nvme/LUSC/valid/positive/TCGA-22-4599_i19_x13047_y5082_180.jpg', \n",
    "        '00000009_/home/nvme/LUSC/valid/positive/TCGA-34-2605_i28_x18063_y21909_90.jpg']\n",
    "cat = 'cat.jpg'\n",
    "\n",
    "size = 224\n",
    "map_size = N * 3 * size * size * 3  # last 3 for redundancy purposes\n",
    "env = lmdb.open(lmdb_name, map_size=map_size)\n",
    "with env.begin(write=True) as txn:\n",
    "    for key in keys:\n",
    "        str_id = key.encode('ascii')\n",
    "        \n",
    "        # delete key\n",
    "        status = txn.delete(str_id)\n",
    "        if not status:\n",
    "            print(\"Does not exist:\", key)\n",
    "            continue\n",
    "\n",
    "        # put key, value\n",
    "        img = read_image(cat, size)\n",
    "        datum = caffe.proto.caffe_pb2.Datum()\n",
    "        datum.channels = 3\n",
    "        datum.height = size\n",
    "        datum.width = size\n",
    "        datum.data = img.tobytes()  # or .tostring() if numpy < 1.9\n",
    "        datum.label = 5\n",
    "\n",
    "        txn.put(str_id, datum.SerializeToString())"
   ]
  },
  {
   "cell_type": "code",
   "execution_count": 39,
   "metadata": {},
   "outputs": [
    {
     "name": "stdout",
     "output_type": "stream",
     "text": [
      "processed  0\n",
      "b'00000000_/home/nvme/LUSC/valid/positive/TCGA-34-2604_i13_x15785_y10671_90.jpg'\n",
      "b'00000001_/home/nvme/LUSC/valid/positive/TCGA-34-5928_i7_x15019_y25766_90.jpg'\n",
      "b'00000002_/home/nvme/LUSC/valid/positive/TCGA-34-5928_i7_x14691_y25814_270.jpg'\n",
      "b'00000003_/home/nvme/LUSC/valid/positive/TCGA-22-4599_i50_x4757_y2432_90.jpg'\n",
      "key matched\n",
      "b'00000004_/home/nvme/LUSC/valid/positive/TCGA-34-2605_i30_x17224_y18123_180.jpg'\n",
      "b'00000005_/home/nvme/LUSC/valid/negative/TCGA-33-4547_i0_x8468_y5495.jpg'\n",
      "b'00000006_/home/nvme/LUSC/valid/negative/TCGA-18-4086_i4_x6515_y4929_180.jpg'\n",
      "b'00000007_/home/nvme/LUSC/valid/positive/TCGA-22-4599_i19_x13047_y5082_180.jpg'\n",
      "key matched\n",
      "b'00000008_/home/nvme/LUSC/valid/negative/TCGA-33-4547_i2_x5771_y3855_270.jpg'\n",
      "b'00000009_/home/nvme/LUSC/valid/positive/TCGA-34-2605_i28_x18063_y21909_90.jpg'\n",
      "key matched\n"
     ]
    }
   ],
   "source": [
    "keys = [b'00000003_/home/nvme/LUSC/valid/positive/TCGA-22-4599_i50_x4757_y2432_90.jpg', \n",
    "        b'00000007_/home/nvme/LUSC/valid/positive/TCGA-22-4599_i19_x13047_y5082_180.jpg', \n",
    "        b'00000009_/home/nvme/LUSC/valid/positive/TCGA-34-2605_i28_x18063_y21909_90.jpg']\n",
    "keyi = 0\n",
    "\n",
    "cnt = 0\n",
    "map_size = N * 3 * size * size * 3  # last 3 for redundancy purposes\n",
    "env = lmdb.open(lmdb_name, map_size=map_size)\n",
    "with env.begin(write=True) as txn:\n",
    "    cursor = txn.cursor()\n",
    "    for key, value in cursor:\n",
    "        if cnt % 10000 == 0:\n",
    "            print(\"processed \", cnt)\n",
    "        if cnt < 10:\n",
    "            cnt += 1\n",
    "            print(key)\n",
    "            if key == keys[keyi]:\n",
    "                print(\"key matched\")\n",
    "                if keyi == len(keys):\n",
    "                    break\n",
    "                else:\n",
    "                    keyi += 1\n",
    "            \n",
    "                datum = caffe.proto.caffe_pb2.Datum()\n",
    "                datum.ParseFromString(value)\n",
    "                \n",
    "                datum_new = caffe.proto.caffe_pb2.Datum()\n",
    "                datum_new.channels = 3\n",
    "                datum_new.height = size\n",
    "                datum_new.width = size\n",
    "                datum_new.data = datum.data\n",
    "                datum_new.label = 8\n",
    "                \n",
    "                cursor.replace(key, datum_new.SerializePartialToString())\n",
    "#                 txn.put(key, datum_new.SerializePartialToString(), dupdata=False, overwrite=True)\n",
    "        else:\n",
    "            cursor.close()\n",
    "            break\n",
    "    cursor.close()"
   ]
  },
  {
   "cell_type": "code",
   "execution_count": null,
   "metadata": {},
   "outputs": [],
   "source": []
  }
 ],
 "metadata": {
  "kernelspec": {
   "display_name": "Python 3",
   "language": "python",
   "name": "python3"
  },
  "language_info": {
   "codemirror_mode": {
    "name": "ipython",
    "version": 3
   },
   "file_extension": ".py",
   "mimetype": "text/x-python",
   "name": "python",
   "nbconvert_exporter": "python",
   "pygments_lexer": "ipython3",
   "version": "3.5.6"
  }
 },
 "nbformat": 4,
 "nbformat_minor": 2
}
