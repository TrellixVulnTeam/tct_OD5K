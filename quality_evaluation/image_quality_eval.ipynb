{
 "cells": [
  {
   "cell_type": "code",
   "execution_count": 1,
   "metadata": {},
   "outputs": [
    {
     "data": {
      "text/html": [
       "<style>.container { width:90% !important; }</style>"
      ],
      "text/plain": [
       "<IPython.core.display.HTML object>"
      ]
     },
     "metadata": {},
     "output_type": "display_data"
    }
   ],
   "source": [
    "# make display window wider\n",
    "from IPython.core.display import display, HTML\n",
    "display(HTML(\"<style>.container { width:90% !important; }</style>\"))"
   ]
  },
  {
   "cell_type": "markdown",
   "metadata": {},
   "source": [
    "#### Simple GUI for evaluating image quality"
   ]
  },
  {
   "cell_type": "code",
   "execution_count": 2,
   "metadata": {},
   "outputs": [],
   "source": [
    "import os\n",
    "import csv\n",
    "import openslide\n",
    "import tkinter as tk\n",
    "from tkinter import StringVar, filedialog, messagebox\n",
    "from PIL import ImageTk, Image"
   ]
  },
  {
   "cell_type": "code",
   "execution_count": 3,
   "metadata": {},
   "outputs": [],
   "source": [
    "class EvalGui:\n",
    "    def __init__(self):\n",
    "        self.gui_setup()\n",
    "        self.index = None\n",
    "        self.database = []\n",
    "    \n",
    "    def gui_setup(self):\n",
    "        self.root = tk.Tk()\n",
    "        self.root.title(\"Image Quality Evaluation\")\n",
    "        self.root.state(\"iconic\")\n",
    "        \n",
    "        self.w = self.root.winfo_screenwidth()\n",
    "        self.h = self.root.winfo_screenheight()\n",
    "        self.f = 0.8\n",
    "        \n",
    "        self.canvas = tk.Canvas(self.root, width=self.w*self.f, height=self.h)\n",
    "        self.canvas.grid(row=0, column=0)\n",
    "        \n",
    "        self.control = tk.Frame(self.root, width=self.w*(1-self.f), height=self.h)\n",
    "        self.control.grid(row=0, column=1)\n",
    "        \n",
    "        self.open_d = tk.Button(self.control, text=\"open dir\", command=self.load_files)\n",
    "        self.open_d.grid(row=0, column=0, sticky=tk.EW, ipady=5, padx=5, pady=10)\n",
    "        \n",
    "        self.save_d = tk.Button(self.control, text=\"set eval save dir\", command=self.set_save)\n",
    "        self.save_d.grid(row=1, column=0, sticky=tk.EW, ipady=5, padx=5, pady=10)\n",
    "        \n",
    "        self.progress = tk.Label(self.control, text=\"-- / --\")\n",
    "        self.progress.grid(row=2, column=0, sticky=tk.EW, ipady=5, padx=5, pady=10)\n",
    "        self.filename = tk.Label(self.control, text=\"xxxxxxxx\")\n",
    "        self.filename.grid(row=3, column=0, sticky=tk.EW, ipady=5, padx=5, pady=10)\n",
    "        \n",
    "        self.previous = tk.Button(self.control, text=\"previous\", command=lambda: self.update(step=-1))\n",
    "        self.previous.grid(row=4, column=0, sticky=tk.EW, ipady=5, padx=5, pady=10)\n",
    "        self.next = tk.Button(self.control, text=\"next\", command=lambda: self.update(step=1))\n",
    "        self.next.grid(row=5, column=0, sticky=tk.EW, ipady=5, padx=5, pady=10)\n",
    "        \n",
    "        self.radiobox = StringVar()\n",
    "        self.good = tk.Radiobutton(self.control, text=\"good\", value=\"good\", variable=self.radiobox)\n",
    "        self.good.grid(row=6, column=0, sticky=tk.W, ipady=5, padx=5, pady=5)\n",
    "        self.medium = tk.Radiobutton(self.control, text=\"medium\", value=\"medium\", variable=self.radiobox)\n",
    "        self.medium.grid(row=7, column=0, sticky=tk.W, ipady=5, padx=5, pady=5)\n",
    "        self.bad = tk.Radiobutton(self.control, text=\"bad\", value=\"bad\", variable=self.radiobox)\n",
    "        self.bad.grid(row=8, column=0, sticky=tk.W, ipady=5, padx=5, pady=5)\n",
    "        \n",
    "        self.note = tk.Entry(self.control)\n",
    "        self.note.grid(row=9, column=0, sticky=tk.EW, ipady=5, padx=5, pady=10)\n",
    "        \n",
    "        self.confirm = tk.Button(self.control, text=\"confirm\", command=self.save_eval)\n",
    "        self.confirm.grid(row=10, column=0, sticky=tk.EW, ipady=5, padx=5, pady=10)\n",
    "        self.confirm_next = tk.Button(self.control, text=\"confirm and next\", command=self.save_and_next)\n",
    "        self.confirm_next.grid(row=11, column=0, sticky=tk.EW, ipady=5, padx=5, pady=10)\n",
    "        \n",
    "    def load_files(self):\n",
    "        file_dir = filedialog.askdirectory()\n",
    "        if not file_dir:\n",
    "            messagebox.showinfo(\"warning\", \"no directory choosed\")\n",
    "        else:\n",
    "            self.index = None\n",
    "            del self.database\n",
    "            self.database = []\n",
    "            fnames = os.listdir(file_dir)\n",
    "            fnames.sort()\n",
    "            for fname in fnames:\n",
    "                if fname.endswith(\".kfb\") or fname.endswith(\".tif\"):\n",
    "                    self.database.append({\"fname\":os.path.join(file_dir, fname), \"image\":None})\n",
    "            if not self.database:\n",
    "                messagebox.showinfo(\"warning\", \"no kfb/tif file exists\")\n",
    "            else:\n",
    "                self.index = 0\n",
    "                self.evaluation = os.path.join(file_dir, \"evaluation.csv\")\n",
    "                self.update()\n",
    "    \n",
    "    def set_save(self):\n",
    "        file_dir = filedialog.askdirectory()\n",
    "        if not file_dir:\n",
    "            messagebox.showinfo(\"warning\", \"no directory choosed\")\n",
    "        else:\n",
    "            self.evaluation = os.path.join(file_dir, \"evaluation.csv\")\n",
    "    \n",
    "    def update_text(self):\n",
    "        self.progress.config(text=\"{}: {} / {}\".format(os.path.basename(os.path.dirname(self.database[self.index][\"fname\"])),\n",
    "                                                       self.index+1, len(self.database)))\n",
    "        self.filename.config(text=os.path.basename(self.database[self.index][\"fname\"]))\n",
    "    \n",
    "    def load_image(self):\n",
    "        def resize(image, w, h):\n",
    "            w0, h0 = image.size\n",
    "            scale = min(w/w0, h/w0)\n",
    "            return image.resize((int(w0*scale), int(h0*scale)))\n",
    "        \n",
    "        if self.database[self.index][\"image\"] is not None:\n",
    "            image = self.database[self.index][\"image\"]\n",
    "        else:\n",
    "            slide = openslide.OpenSlide(self.database[self.index][\"fname\"])\n",
    "            level_count = slide.level_count\n",
    "            m_top, n_top = slide.level_dimensions[level_count-1]\n",
    "            image = slide.get_thumbnail((m_top, n_top))\n",
    "            image = ImageTk.PhotoImage(resize(image, self.w*self.f, self.h))\n",
    "            self.database[self.index][\"image\"] = image\n",
    "        self.canvas.delete(\"all\")\n",
    "        self.canvas.create_image(self.w*self.f/2, self.h/2, image=image)\n",
    "        \n",
    "    def update(self, step=0):\n",
    "        if self.index == None:\n",
    "            messagebox.showinfo(\"error\", \"three is no kfb/tif file loaded\")\n",
    "            return\n",
    "        self.index += step\n",
    "        if self.index not in range(len(self.database)):\n",
    "            messagebox.showinfo(\"warning\", \"already the end\")\n",
    "            self.index -= step\n",
    "            return\n",
    "        self.update_text()\n",
    "        self.load_image()\n",
    "        \n",
    "    def save_eval(self):\n",
    "        if self.index == None:\n",
    "            messagebox.showinfo(\"error\", \"three is no kfb/tif file loaded\")\n",
    "            return\n",
    "        # get evaluation\n",
    "        choice = self.radiobox.get()\n",
    "        note = self.note.get()\n",
    "        self.note.delete(0, tk.END)\n",
    "        # save evaluation to csv file\n",
    "        isfile = os.path.isfile(self.evaluation)\n",
    "        with open(self.evaluation, 'a') as csv_file:\n",
    "            csv_writer = csv.writer(csv_file, delimiter=',')\n",
    "            if not isfile:\n",
    "                csv_writer.writerow([\"folder\", \"filename\", \"evaluation\", \"note\"])\n",
    "            csv_writer.writerow([os.path.basename(os.path.dirname(self.database[self.index][\"fname\"])), \n",
    "                                 os.path.basename(self.database[self.index][\"fname\"]), \n",
    "                                 choice, \n",
    "                                 note])\n",
    "            \n",
    "    def save_and_next(self):\n",
    "        self.save_eval()\n",
    "        self.update(step=1)\n",
    "        \n",
    "    def run(self):\n",
    "        self.root.mainloop()\n",
    "        "
   ]
  },
  {
   "cell_type": "code",
   "execution_count": 4,
   "metadata": {},
   "outputs": [],
   "source": [
    "EvalGui().run()"
   ]
  },
  {
   "cell_type": "markdown",
   "metadata": {},
   "source": [
    "#### Analyze image quality evaluations"
   ]
  },
  {
   "cell_type": "code",
   "execution_count": 6,
   "metadata": {},
   "outputs": [],
   "source": [
    "import numpy as np\n",
    "import pandas as pd"
   ]
  },
  {
   "cell_type": "code",
   "execution_count": 7,
   "metadata": {},
   "outputs": [
    {
     "data": {
      "text/html": [
       "<div>\n",
       "<style scoped>\n",
       "    .dataframe tbody tr th:only-of-type {\n",
       "        vertical-align: middle;\n",
       "    }\n",
       "\n",
       "    .dataframe tbody tr th {\n",
       "        vertical-align: top;\n",
       "    }\n",
       "\n",
       "    .dataframe thead th {\n",
       "        text-align: right;\n",
       "    }\n",
       "</style>\n",
       "<table border=\"1\" class=\"dataframe\">\n",
       "  <thead>\n",
       "    <tr style=\"text-align: right;\">\n",
       "      <th></th>\n",
       "      <th>folder</th>\n",
       "      <th>filename</th>\n",
       "      <th>evaluation</th>\n",
       "      <th>note</th>\n",
       "    </tr>\n",
       "  </thead>\n",
       "  <tbody>\n",
       "    <tr>\n",
       "      <th>155</th>\n",
       "      <td>01_ASCUS</td>\n",
       "      <td>2018-03-14-22_20_38.tif</td>\n",
       "      <td>good</td>\n",
       "      <td>NaN</td>\n",
       "    </tr>\n",
       "    <tr>\n",
       "      <th>226</th>\n",
       "      <td>01_ASCUS</td>\n",
       "      <td>2018-03-15-12_28_06.tif</td>\n",
       "      <td>good</td>\n",
       "      <td>NaN</td>\n",
       "    </tr>\n",
       "    <tr>\n",
       "      <th>759</th>\n",
       "      <td>02_LSIL</td>\n",
       "      <td>2017-10-19-09_21_43.tif</td>\n",
       "      <td>good</td>\n",
       "      <td>NaN</td>\n",
       "    </tr>\n",
       "    <tr>\n",
       "      <th>474</th>\n",
       "      <td>01_ASCUS</td>\n",
       "      <td>2018-03-19-14_45_35.tif</td>\n",
       "      <td>good</td>\n",
       "      <td>NaN</td>\n",
       "    </tr>\n",
       "    <tr>\n",
       "      <th>486</th>\n",
       "      <td>01_ASCUS</td>\n",
       "      <td>2018-03-20-18_23_58.tif</td>\n",
       "      <td>good</td>\n",
       "      <td>NaN</td>\n",
       "    </tr>\n",
       "  </tbody>\n",
       "</table>\n",
       "</div>"
      ],
      "text/plain": [
       "       folder                 filename evaluation note\n",
       "155  01_ASCUS  2018-03-14-22_20_38.tif       good  NaN\n",
       "226  01_ASCUS  2018-03-15-12_28_06.tif       good  NaN\n",
       "759   02_LSIL  2017-10-19-09_21_43.tif       good  NaN\n",
       "474  01_ASCUS  2018-03-19-14_45_35.tif       good  NaN\n",
       "486  01_ASCUS  2018-03-20-18_23_58.tif       good  NaN"
      ]
     },
     "execution_count": 7,
     "metadata": {},
     "output_type": "execute_result"
    }
   ],
   "source": [
    "eval_file = '/media/tsimage001/Elements/data/asap_all/evaluation.csv'\n",
    "df = pd.read_csv(eval_file)\n",
    "df.sample(5)"
   ]
  },
  {
   "cell_type": "code",
   "execution_count": 12,
   "metadata": {},
   "outputs": [
    {
     "name": "stdout",
     "output_type": "stream",
     "text": [
      "['01_ASCUS', '02_LSIL', '03_ASCH', '04_HSIL', '05_SCC', '06_AGC1', '07_AGC2', '08_ADC', '09_EC', '10_FUNGI', '11_TRI', '12_CC', '13_ACTINO', '14_VIRUS']\n"
     ]
    }
   ],
   "source": [
    "classes = pd.unique(df.folder).tolist()\n",
    "print(classes)"
   ]
  },
  {
   "cell_type": "code",
   "execution_count": 24,
   "metadata": {},
   "outputs": [
    {
     "data": {
      "text/html": [
       "<div>\n",
       "<style scoped>\n",
       "    .dataframe tbody tr th:only-of-type {\n",
       "        vertical-align: middle;\n",
       "    }\n",
       "\n",
       "    .dataframe tbody tr th {\n",
       "        vertical-align: top;\n",
       "    }\n",
       "\n",
       "    .dataframe thead th {\n",
       "        text-align: right;\n",
       "    }\n",
       "</style>\n",
       "<table border=\"1\" class=\"dataframe\">\n",
       "  <thead>\n",
       "    <tr style=\"text-align: right;\">\n",
       "      <th></th>\n",
       "      <th>folder</th>\n",
       "      <th>good</th>\n",
       "      <th>not good (medium/bad)</th>\n",
       "      <th>total</th>\n",
       "    </tr>\n",
       "  </thead>\n",
       "  <tbody>\n",
       "    <tr>\n",
       "      <th>0</th>\n",
       "      <td>01_ASCUS</td>\n",
       "      <td>457</td>\n",
       "      <td>48</td>\n",
       "      <td>505</td>\n",
       "    </tr>\n",
       "    <tr>\n",
       "      <th>1</th>\n",
       "      <td>02_LSIL</td>\n",
       "      <td>301</td>\n",
       "      <td>26</td>\n",
       "      <td>327</td>\n",
       "    </tr>\n",
       "    <tr>\n",
       "      <th>2</th>\n",
       "      <td>03_ASCH</td>\n",
       "      <td>46</td>\n",
       "      <td>9</td>\n",
       "      <td>55</td>\n",
       "    </tr>\n",
       "    <tr>\n",
       "      <th>3</th>\n",
       "      <td>04_HSIL</td>\n",
       "      <td>96</td>\n",
       "      <td>15</td>\n",
       "      <td>111</td>\n",
       "    </tr>\n",
       "    <tr>\n",
       "      <th>4</th>\n",
       "      <td>05_SCC</td>\n",
       "      <td>31</td>\n",
       "      <td>9</td>\n",
       "      <td>40</td>\n",
       "    </tr>\n",
       "  </tbody>\n",
       "</table>\n",
       "</div>"
      ],
      "text/plain": [
       "     folder  good  not good (medium/bad)  total\n",
       "0  01_ASCUS   457                     48    505\n",
       "1   02_LSIL   301                     26    327\n",
       "2   03_ASCH    46                      9     55\n",
       "3   04_HSIL    96                     15    111\n",
       "4    05_SCC    31                      9     40"
      ]
     },
     "execution_count": 24,
     "metadata": {},
     "output_type": "execute_result"
    }
   ],
   "source": [
    "# count the occurance of good/medium/bad in each class\n",
    "rows = []\n",
    "for class_i in classes:\n",
    "    row = {}\n",
    "    row[\"folder\"] = class_i\n",
    "    row[\"total\"] = df[df.folder == class_i].shape[0]\n",
    "    row[\"good\"] = df[(df.folder == class_i) & (df.evaluation == \"good\")].shape[0]\n",
    "    row[\"not good (medium/bad)\"] = df[(df.folder == class_i) & (df.evaluation != \"good\")].shape[0]\n",
    "    rows.append(row)\n",
    "\n",
    "df_sum = pd.DataFrame(rows)\n",
    "df_sum.head(5)"
   ]
  },
  {
   "cell_type": "code",
   "execution_count": 25,
   "metadata": {},
   "outputs": [],
   "source": [
    "# write to csv\n",
    "df_sum.to_csv('/media/tsimage001/Elements/data/asap_all/evaluation_.csv')"
   ]
  },
  {
   "cell_type": "markdown",
   "metadata": {},
   "source": [
    "#### Show some sample images"
   ]
  },
  {
   "cell_type": "code",
   "execution_count": 35,
   "metadata": {},
   "outputs": [],
   "source": [
    "import os\n",
    "import openslide\n",
    "import cv2\n",
    "import numpy as np\n",
    "import pandas as pd"
   ]
  },
  {
   "cell_type": "code",
   "execution_count": 36,
   "metadata": {},
   "outputs": [
    {
     "data": {
      "text/html": [
       "<div>\n",
       "<style scoped>\n",
       "    .dataframe tbody tr th:only-of-type {\n",
       "        vertical-align: middle;\n",
       "    }\n",
       "\n",
       "    .dataframe tbody tr th {\n",
       "        vertical-align: top;\n",
       "    }\n",
       "\n",
       "    .dataframe thead th {\n",
       "        text-align: right;\n",
       "    }\n",
       "</style>\n",
       "<table border=\"1\" class=\"dataframe\">\n",
       "  <thead>\n",
       "    <tr style=\"text-align: right;\">\n",
       "      <th></th>\n",
       "      <th>folder</th>\n",
       "      <th>filename</th>\n",
       "      <th>evaluation</th>\n",
       "      <th>note</th>\n",
       "      <th>Unnamed: 4</th>\n",
       "      <th>summary</th>\n",
       "      <th>folder.1</th>\n",
       "      <th>good</th>\n",
       "      <th>not good (medium/bad)</th>\n",
       "      <th>total</th>\n",
       "    </tr>\n",
       "  </thead>\n",
       "  <tbody>\n",
       "    <tr>\n",
       "      <th>108</th>\n",
       "      <td>01_ASCUS</td>\n",
       "      <td>2018-03-14-20_35_59.tif</td>\n",
       "      <td>good</td>\n",
       "      <td>NaN</td>\n",
       "      <td>NaN</td>\n",
       "      <td>NaN</td>\n",
       "      <td>NaN</td>\n",
       "      <td>NaN</td>\n",
       "      <td>NaN</td>\n",
       "      <td>NaN</td>\n",
       "    </tr>\n",
       "    <tr>\n",
       "      <th>292</th>\n",
       "      <td>01_ASCUS</td>\n",
       "      <td>2018-03-15-15_20_15.tif</td>\n",
       "      <td>good</td>\n",
       "      <td>NaN</td>\n",
       "      <td>NaN</td>\n",
       "      <td>NaN</td>\n",
       "      <td>NaN</td>\n",
       "      <td>NaN</td>\n",
       "      <td>NaN</td>\n",
       "      <td>NaN</td>\n",
       "    </tr>\n",
       "    <tr>\n",
       "      <th>515</th>\n",
       "      <td>02_LSIL</td>\n",
       "      <td>2017-10-09-16_53_20.tif</td>\n",
       "      <td>good</td>\n",
       "      <td>NaN</td>\n",
       "      <td>NaN</td>\n",
       "      <td>NaN</td>\n",
       "      <td>NaN</td>\n",
       "      <td>NaN</td>\n",
       "      <td>NaN</td>\n",
       "      <td>NaN</td>\n",
       "    </tr>\n",
       "  </tbody>\n",
       "</table>\n",
       "</div>"
      ],
      "text/plain": [
       "       folder                 filename evaluation note  Unnamed: 4  summary  \\\n",
       "108  01_ASCUS  2018-03-14-20_35_59.tif       good  NaN         NaN      NaN   \n",
       "292  01_ASCUS  2018-03-15-15_20_15.tif       good  NaN         NaN      NaN   \n",
       "515   02_LSIL  2017-10-09-16_53_20.tif       good  NaN         NaN      NaN   \n",
       "\n",
       "    folder.1  good  not good (medium/bad)  total  \n",
       "108      NaN   NaN                    NaN    NaN  \n",
       "292      NaN   NaN                    NaN    NaN  \n",
       "515      NaN   NaN                    NaN    NaN  "
      ]
     },
     "execution_count": 36,
     "metadata": {},
     "output_type": "execute_result"
    }
   ],
   "source": [
    "eval_file = '/media/tsimage001/Elements/data/asap_all/evaluation.csv'\n",
    "tif_folder = '/media/tsimage001/Elements/data/asap_all'\n",
    "df = pd.read_csv(eval_file)\n",
    "df.sample(3)"
   ]
  },
  {
   "cell_type": "code",
   "execution_count": 55,
   "metadata": {},
   "outputs": [],
   "source": [
    "def get_thumbnail(tif_name):\n",
    "    slide = openslide.OpenSlide(tif_name)\n",
    "    level_count = slide.level_count\n",
    "    m_top, n_top = slide.level_dimensions[level_count-1]\n",
    "    image = slide.get_thumbnail((m_top, n_top))\n",
    "    return image\n",
    "\n",
    "def save_thumbnail(df, save_path):\n",
    "    os.makedirs(save_path, exist_ok=True)\n",
    "    for _,row in df.iterrows():\n",
    "        tif_name = os.path.join(tif_folder, row[\"folder\"], row[\"filename\"])\n",
    "        image = get_thumbnail(tif_name)\n",
    "        image = np.asarray(image)\n",
    "        cv2.putText(image, row[\"evaluation\"]+\": \"+row[\"note\"], (50,100), cv2.FONT_HERSHEY_SIMPLEX, 1.0, (0,0,0))\n",
    "        image_name = os.path.join(save_path, os.path.splitext(row[\"filename\"])[0]+\".jpg\")\n",
    "        cv2.imwrite(image_name, image)"
   ]
  },
  {
   "cell_type": "code",
   "execution_count": 58,
   "metadata": {},
   "outputs": [],
   "source": [
    "save_path = '/media/tsimage001/Elements/data/asap_all/bad_samples'\n",
    "df_medium = df[df.evaluation == \"medium\"]\n",
    "df_m_sam = df_medium.sample(20)\n",
    "\n",
    "df_bad = df[df.evaluation == \"bad\"]\n",
    "df_b_sam = df_bad.sample(10)"
   ]
  },
  {
   "cell_type": "code",
   "execution_count": 59,
   "metadata": {},
   "outputs": [],
   "source": [
    "save_thumbnail(df_m_sam, save_path)\n",
    "save_thumbnail(df_b_sam, save_path)"
   ]
  },
  {
   "cell_type": "code",
   "execution_count": null,
   "metadata": {},
   "outputs": [],
   "source": []
  }
 ],
 "metadata": {
  "kernelspec": {
   "display_name": "Python 3",
   "language": "python",
   "name": "python3"
  },
  "language_info": {
   "codemirror_mode": {
    "name": "ipython",
    "version": 3
   },
   "file_extension": ".py",
   "mimetype": "text/x-python",
   "name": "python",
   "nbconvert_exporter": "python",
   "pygments_lexer": "ipython3",
   "version": "3.5.2"
  }
 },
 "nbformat": 4,
 "nbformat_minor": 2
}
