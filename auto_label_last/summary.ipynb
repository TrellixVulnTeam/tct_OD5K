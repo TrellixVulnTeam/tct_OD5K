{
 "cells": [
  {
   "cell_type": "code",
   "execution_count": 28,
   "metadata": {},
   "outputs": [],
   "source": [
    "import os\n",
    "import pandas"
   ]
  },
  {
   "cell_type": "code",
   "execution_count": 29,
   "metadata": {},
   "outputs": [],
   "source": [
    "excel = pandas.read_excel(\"diagnosis.xlsx\")\n",
    "excel_dict = {}\n",
    "for index, row in excel.iterrows():\n",
    "    excel_dict[row[u'病理号'].encode(\"ascii\", \"ignore\")] = row[u'细胞学诊断'].encode(\"ascii\", \"ignore\")\n",
    "#print(excel_dict)"
   ]
  },
  {
   "cell_type": "code",
   "execution_count": 32,
   "metadata": {},
   "outputs": [],
   "source": [
    "slides_path = \"slides_40_jpg\"\n",
    "slides = os.listdir(slides_path)\n",
    "classify_dict_all = []\n",
    "segment_dict_all = []\n",
    "for slide_i in slides:\n",
    "    slide_i_csv = os.path.join(slides_path, slide_i+\"/\"+slide_i+\".csv\")\n",
    "    csv_file = pandas.read_csv(slide_i_csv)\n",
    "    classify_dict = {\"ASCUS\":0, \"LSIL\":0, \"ASCH\":0, \"HSIL\":0, \"SCC\":0}\n",
    "    segment_dict = {\"ASCUS\":0, \"LSIL\":0, \"ASCH\":0, \"HSIL\":0, \"SCC\":0}\n",
    "    classify_dict[\"info\"] = (slide_i, excel_dict[slide_i])\n",
    "    segment_dict[\"info\"] = (slide_i, excel_dict[slide_i])\n",
    "    for index, row in csv_file.iterrows():\n",
    "        classify_dict[row[u'classify'].encode(\"ascii\", \"ignore\")] += 1\n",
    "        segment_dict[row[u'segment'].encode(\"ascii\", \"ignore\")] += 1\n",
    "    classify_dict_all.append(classify_dict)\n",
    "    segment_dict_all.append(segment_dict)\n",
    "    #print(classify_dict_all)"
   ]
  },
  {
   "cell_type": "code",
   "execution_count": 33,
   "metadata": {},
   "outputs": [],
   "source": [
    "import csv\n",
    "with open(\"diagnosis_output.csv\", \"w\") as csv_file:\n",
    "    writer = csv.writer(csv_file)\n",
    "    writer.writerow([\"slide_id\", \"diagnosis\", \n",
    "                     \"segment\", \"ASCUS\", \"LSIL\", \"ASCH\", \"HSIL\", \"SCC\", \n",
    "                     \"classify\", \"ASCUS\", \"LSIL\", \"ASCH\", \"HSIL\", \"SCC\"])\n",
    "    for segment, classify in zip(segment_dict_all, classify_dict_all):\n",
    "        writer.writerow([segment[\"info\"][0], segment[\"info\"][1], \n",
    "                         \"\", segment[\"ASCUS\"], segment[\"LSIL\"], segment[\"ASCH\"], segment[\"HSIL\"], segment[\"SCC\"],\n",
    "                         \"\", classify[\"ASCUS\"], classify[\"LSIL\"], classify[\"ASCH\"], classify[\"HSIL\"], classify[\"SCC\"]])\n",
    "        "
   ]
  }
 ],
 "metadata": {
  "kernelspec": {
   "display_name": "Python 3",
   "language": "python",
   "name": "python3"
  },
  "language_info": {
   "codemirror_mode": {
    "name": "ipython",
    "version": 3
   },
   "file_extension": ".py",
   "mimetype": "text/x-python",
   "name": "python",
   "nbconvert_exporter": "python",
   "pygments_lexer": "ipython3",
   "version": "3.5.4"
  }
 },
 "nbformat": 4,
 "nbformat_minor": 2
}
