{
 "cells": [
  {
   "cell_type": "code",
   "execution_count": 2,
   "metadata": {
    "scrolled": true
   },
   "outputs": [],
   "source": [
    "import os\n",
    "import pandas as pd\n",
    "import numpy as np\n",
    "\n",
    "result_csv = '/home/tsimage/Documents/algorithm/result_12_Glandular.csv'\n",
    "pics_dir = '/home/tsimage/Documents/algorithm/arrange_patches_12_Glandular/test'\n",
    "#labels = ['25_ASCUS','26_LSIL','27_ASCH','28_HSIL','29_SCC']\n",
    "# labels = ['20_FUNGI','21_TRI','22_CC','23_ACTINO','24_VIRUS']\n",
    "labels = ['210_AGC1', '211_AGC2', '212_ADC', '213_EC']\n",
    "\n",
    "def scan_files(directory, prefix=None, postfix=None):\n",
    "    files_list = []\n",
    "    for root, sub_dirs, files in os.walk(directory):\n",
    "        for special_file in files:\n",
    "            if postfix:\n",
    "                if special_file.endswith(postfix):\n",
    "                    files_list.append(os.path.join(root, special_file))\n",
    "            elif prefix:\n",
    "                if special_file.startswith(prefix):\n",
    "                    files_list.append(os.path.join(root, special_file))\n",
    "            else:\n",
    "                files_list.append(os.path.join(root, special_file))\n",
    "    return files_list\n",
    "\n",
    "images = scan_files(pics_dir,postfix = '.jpg')\n",
    "images = sorted(images)\n",
    "\n",
    "def result_analysis(result_csv,images):\n",
    "    df = pd.read_csv(result_csv,header=None)\n",
    "    df.columns=['y','prob_0','prob_1','prob_2','prob_3']\n",
    "    df['pname'] = images\n",
    "    \n",
    "    df = df[['pname','y','prob_0','prob_1','prob_2','prob_3']]\n",
    "    df_array = np.array(df)\n",
    "    df2_list = []\n",
    "    for line in df_array:\n",
    "        if line[1] != np.argmax(line[2:]):\n",
    "            line_n = line.tolist()+[labels[int(line[1])],labels[np.argmax(line[2:])]]\n",
    "            df2_list.append(line_n)\n",
    "    df2_array = np.array(df2_list)\n",
    "    results = pd.DataFrame(df2_array)\n",
    "    results.columns = ['pname','y','210_AGC1', '211_AGC2', '212_ADC', '213_EC','y_true','y_pred']\n",
    "    results.to_csv('/home/tsimage/Documents/algorithm/result_12_Glandular_ana.csv', index=False, header=True)\n",
    "    \n",
    "    return results\n",
    "    \n",
    "results = result_analysis(result_csv, images)"
   ]
  },
  {
   "cell_type": "code",
   "execution_count": 3,
   "metadata": {},
   "outputs": [],
   "source": [
    "true_pred = np.array(results)[:,[-2,-1]]\n",
    "true_pred_list = true_pred.tolist()\n",
    "true_pred_name1 = []\n",
    "true_pred_name2 = []\n",
    "num = []\n",
    "for t in ['210_AGC1', '211_AGC2', '212_ADC', '213_EC']:\n",
    "    for p in ['210_AGC1', '211_AGC2', '212_ADC', '213_EC']:\n",
    "        if t != p:\n",
    "            true_pred_name1.append(t)\n",
    "            true_pred_name2.append(p)\n",
    "            num.append(true_pred_list.count([t,p]))\n",
    "\n",
    "result3 = pd.DataFrame({'y_true':true_pred_name1,'y_pred':true_pred_name2,'num':num})\n",
    "result3.to_csv('/home/tsimage/Documents/algorithm/result_12_Glandular_ana2.csv', index=False, header=True )"
   ]
  },
  {
   "cell_type": "code",
   "execution_count": null,
   "metadata": {},
   "outputs": [],
   "source": []
  }
 ],
 "metadata": {
  "kernelspec": {
   "display_name": "Python 3",
   "language": "python",
   "name": "python3"
  },
  "language_info": {
   "codemirror_mode": {
    "name": "ipython",
    "version": 3
   },
   "file_extension": ".py",
   "mimetype": "text/x-python",
   "name": "python",
   "nbconvert_exporter": "python",
   "pygments_lexer": "ipython3",
   "version": "3.5.2"
  }
 },
 "nbformat": 4,
 "nbformat_minor": 2
}
