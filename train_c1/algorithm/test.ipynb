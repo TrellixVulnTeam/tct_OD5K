{
 "cells": [
  {
   "cell_type": "code",
   "execution_count": null,
   "metadata": {},
   "outputs": [],
   "source": [
    "from train_patch_classification import *"
   ]
  },
  {
   "cell_type": "code",
   "execution_count": null,
   "metadata": {},
   "outputs": [],
   "source": [
    "logger = utils.setup_logger(LOG_DIR, 'train_inception_fix_'+class_type, save_log=False)\n",
    "base_model = get_base_empty_model()\n",
    "model = add_fc_layer(base_model,NUM_CLASSES)\n",
    "model.load_weights(pjoin(MODEL_CP_DIR,'cp.train.weights.50-0.9533.hdf5'))\n",
    "test_generator, _ = get_test_data_generator(PATCH_ARR_DIR,logger)\n",
    "# score = evaluate_on(model,test_generator)\n",
    "# print('loss:' ,score[0],'accuracy:',score[1])\n",
    "print(len(test_generator))"
   ]
  },
  {
   "cell_type": "code",
   "execution_count": null,
   "metadata": {},
   "outputs": [],
   "source": [
    "y_pred = model.predict_generator(test_generator, use_multiprocessing=True, verbose=1, steps=len(test_generator))"
   ]
  },
  {
   "cell_type": "code",
   "execution_count": null,
   "metadata": {
    "scrolled": false
   },
   "outputs": [],
   "source": [
    "print(len(y_pred), y_pred.shape)"
   ]
  },
  {
   "cell_type": "code",
   "execution_count": null,
   "metadata": {},
   "outputs": [],
   "source": [
    "test_generator[0][1]"
   ]
  },
  {
   "cell_type": "code",
   "execution_count": null,
   "metadata": {},
   "outputs": [],
   "source": [
    "import numpy as np\n",
    "\n",
    "steps = len(test_generator)\n",
    "results = []\n",
    "for step in range(steps):\n",
    "    y = test_generator[step][1]\n",
    "    print(step)\n",
    "    for i,y_i in enumerate(y):\n",
    "        results.append([np.argmax(y_i)] + y_pred[step*PATCH_BATCH_SIZE+i].tolist())\n"
   ]
  },
  {
   "cell_type": "code",
   "execution_count": null,
   "metadata": {},
   "outputs": [],
   "source": [
    "print(len(results), results[0])"
   ]
  },
  {
   "cell_type": "code",
   "execution_count": null,
   "metadata": {},
   "outputs": [],
   "source": [
    "with open(\"result_{}.csv\".format(class_type), \"w\") as f:\n",
    "    csv_writer = csv.writer(f)\n",
    "    for r in results:\n",
    "        csv_writer.writerow(r)"
   ]
  },
  {
   "cell_type": "code",
   "execution_count": null,
   "metadata": {},
   "outputs": [],
   "source": []
  }
 ],
 "metadata": {
  "kernelspec": {
   "display_name": "Python 3",
   "language": "python",
   "name": "python3"
  },
  "language_info": {
   "codemirror_mode": {
    "name": "ipython",
    "version": 3
   },
   "file_extension": ".py",
   "mimetype": "text/x-python",
   "name": "python",
   "nbconvert_exporter": "python",
   "pygments_lexer": "ipython3",
   "version": "3.5.2"
  }
 },
 "nbformat": 4,
 "nbformat_minor": 2
}
