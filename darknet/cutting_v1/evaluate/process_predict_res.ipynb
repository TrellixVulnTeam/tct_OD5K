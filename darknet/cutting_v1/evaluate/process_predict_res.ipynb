{
 "cells": [
  {
   "cell_type": "markdown",
   "metadata": {},
   "source": [
    "### Process predict results"
   ]
  },
  {
   "cell_type": "markdown",
   "metadata": {},
   "source": [
    "提取预测结果和标签"
   ]
  },
  {
   "cell_type": "code",
   "execution_count": 38,
   "metadata": {},
   "outputs": [
    {
     "name": "stdout",
     "output_type": "stream",
     "text": [
      "2780\n",
      "4702\n"
     ]
    }
   ],
   "source": [
    "import os\n",
    "from prediction_evaluate import *\n",
    "\n",
    "result_dir = \"/home/sakulaki/yolo-pre-trained/darknet/results\"\n",
    "validata_dir = \"/home/sakulaki/enhancement_608_02/test2\"\n",
    "#classes = [\"ASCUS\", \"LSIL\", \"ASCH\", \"HSIL\", \"SCC\", \"AGC1\", \"AGC2\", \n",
    "#           \"ADC\", \"EC\", \"FUNGI\", \"TRI\", \"CC\", \"ACTINO\", \"VIRUS\"]\n",
    "#classes = [\"ASCUS\"]\n",
    "classes = [\"ASCUS\", \"LSIL\", \"ASCH\", \"HSIL\", \"SCC\"]\n",
    "\n",
    "dict_pic_info = get_predictions_result(result_dir, classes)\n",
    "dict_pic_label_box_info = get_labels(validata_dir, classes)\n",
    "\n",
    "print(len(dict_pic_info))\n",
    "print(len(dict_pic_label_box_info))"
   ]
  },
  {
   "cell_type": "markdown",
   "metadata": {},
   "source": [
    "比较结果和标签，得出性能评价"
   ]
  },
  {
   "cell_type": "code",
   "execution_count": 39,
   "metadata": {},
   "outputs": [
    {
     "name": "stdout",
     "output_type": "stream",
     "text": [
      "[1107, 1384, 74, 330, 63]\n",
      "#####################\n",
      "召回率\n",
      "#####################\n",
      "ASCUS\t:\t225/699      \trecall:\t0.3218884120171674\n",
      "LSIL\t:\t793/1482      \trecall:\t0.5350877192982456\n",
      "ASCH\t:\t7/59      \trecall:\t0.11864406779661017\n",
      "HSIL\t:\t0/1      \trecall:\t0.0\n",
      "SCC\t:\t0/0      \trecall:\t0\n",
      "#####################\n",
      "准确率\n",
      "#####################\n",
      "ASCUS\t:\t225/1107      \tacc:\t0.2032520325203252\n",
      "LSIL\t:\t793/1384      \tacc:\t0.5729768786127167\n",
      "ASCH\t:\t7/74      \tacc:\t0.0945945945945946\n",
      "HSIL\t:\t0/330      \tacc:\t0.0\n",
      "SCC\t:\t0/63      \tacc:\t0.0\n"
     ]
    }
   ],
   "source": [
    "det = 0.05\n",
    "iou = 0.3\n",
    "img_size = 608\n",
    "all_prediction_object_count, prediction_object_count, label_object_count,\\\n",
    "recalls, accurates = cal_evaluate(dict_pic_info, dict_pic_label_box_info,\n",
    "                                  classes, det, iou, img_size)\n",
    "print_evaluate(classes,\n",
    "               all_prediction_object_count, \n",
    "               prediction_object_count, \n",
    "               label_object_count,\n",
    "               recalls, \n",
    "               accurates)"
   ]
  },
  {
   "cell_type": "markdown",
   "metadata": {},
   "source": [
    "\n",
    "\n",
    "\n",
    "\n"
   ]
  },
  {
   "cell_type": "code",
   "execution_count": null,
   "metadata": {},
   "outputs": [],
   "source": []
  }
 ],
 "metadata": {
  "kernelspec": {
   "display_name": "Python 3",
   "language": "python",
   "name": "python3"
  },
  "language_info": {
   "codemirror_mode": {
    "name": "ipython",
    "version": 3
   },
   "file_extension": ".py",
   "mimetype": "text/x-python",
   "name": "python",
   "nbconvert_exporter": "python",
   "pygments_lexer": "ipython3",
   "version": "3.5.4"
  }
 },
 "nbformat": 4,
 "nbformat_minor": 2
}
