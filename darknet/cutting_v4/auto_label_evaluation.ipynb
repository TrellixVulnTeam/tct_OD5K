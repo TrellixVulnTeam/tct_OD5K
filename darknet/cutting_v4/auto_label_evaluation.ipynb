{
 "cells": [
  {
   "cell_type": "code",
   "execution_count": 1,
   "metadata": {},
   "outputs": [],
   "source": [
    "import os\n",
    "import pickle\n",
    "from auto_label_evaluation import *"
   ]
  },
  {
   "cell_type": "code",
   "execution_count": 12,
   "metadata": {
    "scrolled": true
   },
   "outputs": [
    {
     "name": "stdout",
     "output_type": "stream",
     "text": [
      "# txts 131868\n",
      "One Job Done, Remaining Job Count: 13\n",
      "One Job Done, Remaining Job Count: 12\n",
      "One Job Done, Remaining Job Count: 11\n",
      "One Job Done, Remaining Job Count: 10\n",
      "One Job Done, Remaining Job Count: 9\n",
      "One Job Done, Remaining Job Count: 8\n",
      "One Job Done, Remaining Job Count: 7\n",
      "One Job Done, Remaining Job Count: 6\n",
      "One Job Done, Remaining Job Count: 5\n",
      "One Job Done, Remaining Job Count: 4\n",
      "One Job Done, Remaining Job Count: 3\n",
      "One Job Done, Remaining Job Count: 2\n",
      "One Job Done, Remaining Job Count: 1\n",
      "One Job Done, Remaining Job Count: 0\n",
      "131868\n"
     ]
    }
   ],
   "source": [
    "patch_path = \"/home/ssd_array0/Data/batch6.4_1216/original-added\"\n",
    "txt_names = scan_files(patch_path, postfix=\".txt\")\n",
    "print(\"# txts\", len(txt_names))\n",
    "\n",
    "patch_info_map = map_patch_info(txt_names)\n",
    "print(len(patch_info_map))"
   ]
  },
  {
   "cell_type": "code",
   "execution_count": 3,
   "metadata": {
    "scrolled": true
   },
   "outputs": [
    {
     "name": "stdout",
     "output_type": "stream",
     "text": [
      "# cells 219469\n",
      "processed  0\n",
      "processed  10000\n",
      "processed  20000\n",
      "processed  30000\n",
      "processed  40000\n",
      "processed  50000\n",
      "processed  60000\n",
      "processed  70000\n",
      "processed  80000\n",
      "processed  90000\n",
      "processed  100000\n",
      "processed  110000\n",
      "processed  120000\n",
      "processed  130000\n",
      "processed  140000\n",
      "processed  150000\n",
      "processed  160000\n",
      "processed  170000\n",
      "processed  180000\n",
      "processed  190000\n",
      "processed  200000\n",
      "processed  210000\n",
      "124069\n"
     ]
    }
   ],
   "source": [
    "cell_path = \"/home/ssd_array0/Data/batch6.4_1216/autolabel-added\"\n",
    "\n",
    "img_names = scan_files(cell_path, postfix=\".bmp\")\n",
    "print(\"# cells\", len(img_names))\n",
    "\n",
    "cell_info_map = map_cell_info(img_names)\n",
    "print(len(cell_info_map))"
   ]
  },
  {
   "cell_type": "code",
   "execution_count": 7,
   "metadata": {},
   "outputs": [],
   "source": [
    "summary = evaluate(patch_info_map, cell_info_map)"
   ]
  },
  {
   "cell_type": "code",
   "execution_count": 8,
   "metadata": {},
   "outputs": [
    {
     "name": "stdout",
     "output_type": "stream",
     "text": [
      "AGC {'recall': 35967, 'predicted': 49438, 'marked': 52002, 'patches': 35481, 'predicted-thres': 45055, 'recall-thres': 34482}\n",
      "ASCUS {'recall': 46922, 'predicted': 63091, 'marked': 55193, 'patches': 51253, 'predicted-thres': 63091, 'recall-thres': 46739}\n",
      "LSIL {'recall': 83192, 'predicted': 90339, 'marked': 81848, 'patches': 70750, 'predicted-thres': 90339, 'recall-thres': 83113}\n",
      "CC {'recall': 127592, 'predicted': 182644, 'marked': 137749, 'patches': 116984, 'predicted-thres': 181587, 'recall-thres': 127311}\n",
      "EC {'recall': 11354, 'predicted': 13622, 'marked': 12795, 'patches': 11559, 'predicted-thres': 12094, 'recall-thres': 10823}\n",
      "SCC_R {'recall': 44013, 'predicted': 80222, 'marked': 60595, 'patches': 48023, 'predicted-thres': 78480, 'recall-thres': 43303}\n",
      "ACTINO {'recall': 96789, 'predicted': 112067, 'marked': 103927, 'patches': 85576, 'predicted-thres': 111852, 'recall-thres': 96719}\n",
      "FUNGI {'recall': 90370, 'predicted': 151167, 'marked': 126199, 'patches': 68585, 'predicted-thres': 150380, 'recall-thres': 90131}\n",
      "VIRUS {'recall': 62777, 'predicted': 77608, 'marked': 70546, 'patches': 42891, 'predicted-thres': 72741, 'recall-thres': 60863}\n",
      "SC {'recall': 81647, 'predicted': 228926, 'marked': 97099, 'patches': 92781, 'predicted-thres': 124987, 'recall-thres': 70528}\n",
      "PH {'recall': 63353, 'predicted': 71733, 'marked': 85113, 'patches': 61403, 'predicted-thres': 68648, 'recall-thres': 61184}\n",
      "TRI {'recall': 375955, 'predicted': 671414, 'marked': 699673, 'patches': 258131, 'predicted-thres': 668353, 'recall-thres': 375577}\n",
      "HSIL-SCC_G {'recall': 954267, 'predicted': 1511970, 'marked': 1157818, 'patches': 381523, 'predicted-thres': 1280538, 'recall-thres': 836999}\n"
     ]
    }
   ],
   "source": [
    "for key,value in summary.items():\n",
    "    print(key, value)"
   ]
  },
  {
   "cell_type": "code",
   "execution_count": 6,
   "metadata": {},
   "outputs": [],
   "source": [
    "# with open(\"original-added.pkl\", 'wb') as f:\n",
    "#     pickle.dump(patch_info_map, f)\n",
    "#     pickle.dump(cell_info_map, f)"
   ]
  },
  {
   "cell_type": "code",
   "execution_count": 2,
   "metadata": {},
   "outputs": [],
   "source": [
    "with open(\"original.pkl\", 'rb') as f:\n",
    "    patch_info_map = pickle.load(f)\n",
    "    cell_info_map = pickle.load(f)"
   ]
  },
  {
   "cell_type": "code",
   "execution_count": 3,
   "metadata": {},
   "outputs": [
    {
     "name": "stdout",
     "output_type": "stream",
     "text": [
      "1294695\n",
      "1268235\n"
     ]
    }
   ],
   "source": [
    "print(len(patch_info_map))\n",
    "print(len(cell_info_map))"
   ]
  },
  {
   "cell_type": "code",
   "execution_count": 4,
   "metadata": {},
   "outputs": [],
   "source": [
    "all_labels = collect_all_labels(patch_info_map, cell_info_map)"
   ]
  },
  {
   "cell_type": "code",
   "execution_count": 5,
   "metadata": {},
   "outputs": [
    {
     "name": "stdout",
     "output_type": "stream",
     "text": [
      "{'AGC': 61876, 'ASCUS': 61852, 'LSIL': 92989, 'CC': 186034, 'EC': 13691, 'SCC_R': 84629, 'ACTINO': 120395, 'FUNGI': 190810, 'VIRUS': 83151, 'SC': 101479, 'PH': 90309, 'TRI': 988341, 'HSIL-SCC_G': 1612300}\n"
     ]
    }
   ],
   "source": [
    "all_labels_summary = {key:0 for key in classes}\n",
    "\n",
    "for name,label_boxes in all_labels.items():\n",
    "    for label_box in label_boxes:\n",
    "        all_labels_summary[label_box[0]] += 1\n",
    "        \n",
    "print(all_labels_summary)"
   ]
  },
  {
   "cell_type": "code",
   "execution_count": 6,
   "metadata": {},
   "outputs": [
    {
     "name": "stdout",
     "output_type": "stream",
     "text": [
      "{'AGC': 52002, 'ASCUS': 55193, 'LSIL': 81848, 'CC': 137749, 'EC': 12795, 'SCC_R': 60595, 'ACTINO': 103927, 'FUNGI': 126199, 'VIRUS': 70546, 'SC': 97099, 'PH': 85113, 'TRI': 699673, 'HSIL-SCC_G': 1157818}\n"
     ]
    }
   ],
   "source": [
    "patch_labels_summary = {key:0 for key in classes}\n",
    "\n",
    "for name,label_boxes in patch_info_map.items():\n",
    "    for label_box in label_boxes:\n",
    "        patch_labels_summary[label_box[0]] += 1\n",
    "        \n",
    "print(patch_labels_summary)"
   ]
  },
  {
   "cell_type": "code",
   "execution_count": 11,
   "metadata": {
    "scrolled": true
   },
   "outputs": [
    {
     "name": "stdout",
     "output_type": "stream",
     "text": [
      "# txts to write 131868\n",
      "One Job Done, Remaining Job Count: 13\n",
      "One Job Done, Remaining Job Count: 12\n",
      "One Job Done, Remaining Job Count: 11\n",
      "One Job Done, Remaining Job Count: 10\n",
      "One Job Done, Remaining Job Count: 9\n",
      "One Job Done, Remaining Job Count: 8\n",
      "One Job Done, Remaining Job Count: 7\n",
      "One Job Done, Remaining Job Count: 6\n",
      "One Job Done, Remaining Job Count: 5\n",
      "One Job Done, Remaining Job Count: 4\n",
      "One Job Done, Remaining Job Count: 3\n",
      "One Job Done, Remaining Job Count: 2\n",
      "One Job Done, Remaining Job Count: 1\n",
      "One Job Done, Remaining Job Count: 0\n"
     ]
    }
   ],
   "source": [
    "txt_path = \"/home/ssd_array0/Data/batch6.4_1216/original-added\"\n",
    "write_all_labels(all_labels, txt_path)"
   ]
  },
  {
   "cell_type": "code",
   "execution_count": null,
   "metadata": {},
   "outputs": [],
   "source": []
  }
 ],
 "metadata": {
  "kernelspec": {
   "display_name": "Python 3",
   "language": "python",
   "name": "python3"
  },
  "language_info": {
   "codemirror_mode": {
    "name": "ipython",
    "version": 3
   },
   "file_extension": ".py",
   "mimetype": "text/x-python",
   "name": "python",
   "nbconvert_exporter": "python",
   "pygments_lexer": "ipython3",
   "version": "3.5.2"
  }
 },
 "nbformat": 4,
 "nbformat_minor": 2
}
