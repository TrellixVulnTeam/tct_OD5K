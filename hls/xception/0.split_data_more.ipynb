{
 "cells": [
  {
   "cell_type": "markdown",
   "metadata": {},
   "source": [
    "# 文件夹方法创建图像数据库\n",
    "\n",
    "1 读取所有图像路径，并得出label，存储在两个数组中\n",
    "\n",
    "2 乱序处理和分割1的结果\n",
    "\n",
    "3 根据2读取图像和预处理图像（尺寸），并且保存在新文件夹中"
   ]
  },
  {
   "cell_type": "code",
   "execution_count": 1,
   "metadata": {
    "scrolled": true
   },
   "outputs": [],
   "source": [
    "from data_preprocess_folder import *\n",
    "\n",
    "% load_ext autoreload\n",
    "% autoreload 2"
   ]
  },
  {
   "cell_type": "code",
   "execution_count": 2,
   "metadata": {},
   "outputs": [],
   "source": [
    "pic_src =  \"/home/nvme/CELLS_hls_299\"\n",
    "pic_dst = [\"/home/nvme/CELLS_hls_299_train/\", \n",
    "           \"/home/nvme/CELLS_hls_299_train_/\"]\n",
    "\n",
    "img_size = 299"
   ]
  },
  {
   "cell_type": "code",
   "execution_count": 3,
   "metadata": {},
   "outputs": [
    {
     "name": "stdout",
     "output_type": "stream",
     "text": [
      "du  []\n",
      "du  0\n",
      "du  0\n",
      "du  0\n"
     ]
    }
   ],
   "source": [
    "data_preprocess(pic_src, train_ratio = 0.9, img_size = img_size, \n",
    "                data_dst = pic_dst, padding = True)"
   ]
  },
  {
   "cell_type": "markdown",
   "metadata": {
    "collapsed": true
   },
   "source": [
    "創建測試集"
   ]
  },
  {
   "cell_type": "code",
   "execution_count": null,
   "metadata": {},
   "outputs": [],
   "source": [
    "pic_src =  \"/home/nvme/CELLS_hls_299_train_/\"\n",
    "pic_dst = [\"/home/nvme/CELLS_hls_299_valid/\", \n",
    "           \"/home/nvme/CELLS_hls_299_test/\"]\n",
    "\n",
    "img_size = 299\n",
    "\n",
    "data_preprocess(pic_src, train_ratio = 0.5, img_size = img_size, \n",
    "                data_dst = pic_dst, padding = True)"
   ]
  },
  {
   "cell_type": "code",
   "execution_count": null,
   "metadata": {},
   "outputs": [],
   "source": []
  }
 ],
 "metadata": {
  "kernelspec": {
   "display_name": "Python 3",
   "language": "python",
   "name": "python3"
  },
  "language_info": {
   "codemirror_mode": {
    "name": "ipython",
    "version": 3
   },
   "file_extension": ".py",
   "mimetype": "text/x-python",
   "name": "python",
   "nbconvert_exporter": "python",
   "pygments_lexer": "ipython3",
   "version": "3.5.6"
  }
 },
 "nbformat": 4,
 "nbformat_minor": 2
}
