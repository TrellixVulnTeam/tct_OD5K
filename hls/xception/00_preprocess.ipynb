{
 "cells": [
  {
   "cell_type": "markdown",
   "metadata": {},
   "source": [
    "## select and split data into train/valid/test"
   ]
  },
  {
   "cell_type": "code",
   "execution_count": 1,
   "metadata": {},
   "outputs": [],
   "source": [
    "import os\n",
    "import random\n",
    "import shutil"
   ]
  },
  {
   "cell_type": "code",
   "execution_count": 2,
   "metadata": {},
   "outputs": [],
   "source": [
    "def split_data(data_path, split, folders=[\"train\", \"valid\", \"test\"]):\n",
    "    \"\"\" split training data to train/valid/test folder, data_path should contain subfolders with classes as names \"\"\"\n",
    "    assert len(split) == len(folders)\n",
    "    classes = os.listdir(data_path)\n",
    "    for class_i in classes:\n",
    "        files = [os.path.join(data_path, class_i, f) for f in os.listdir(os.path.join(data_path, class_i))]\n",
    "        random.shuffle(files)\n",
    "        random.shuffle(files)\n",
    "        random.shuffle(files)\n",
    "        for i,folder in enumerate(folders):\n",
    "            folder_files = files[int(len(files)*sum(split[:i])):int(len(files)*sum(split[:i+1]))]\n",
    "            folder_full = os.path.join(data_path, folder, class_i)\n",
    "            os.makedirs(folder_full, exist_ok=True)\n",
    "            for folder_file in folder_files:\n",
    "                shutil.move(folder_file, folder_full)\n",
    "            print(\"put {} files to {}\".format(len(folder_files), folder_full))\n",
    "        os.rmdir(os.path.join(data_path, class_i))"
   ]
  },
  {
   "cell_type": "code",
   "execution_count": 3,
   "metadata": {},
   "outputs": [
    {
     "name": "stdout",
     "output_type": "stream",
     "text": [
      "put 2785 files to /home/nvme/CELLS_hls_299/train/LSIL_E\n",
      "put 348 files to /home/nvme/CELLS_hls_299/valid/LSIL_E\n",
      "put 349 files to /home/nvme/CELLS_hls_299/test/LSIL_E\n",
      "put 11604 files to /home/nvme/CELLS_hls_299/train/CC\n",
      "put 1451 files to /home/nvme/CELLS_hls_299/valid/CC\n",
      "put 1451 files to /home/nvme/CELLS_hls_299/test/CC\n",
      "put 3302 files to /home/nvme/CELLS_hls_299/train/HSIL_M\n",
      "put 413 files to /home/nvme/CELLS_hls_299/valid/HSIL_M\n",
      "put 413 files to /home/nvme/CELLS_hls_299/test/HSIL_M\n",
      "put 3006 files to /home/nvme/CELLS_hls_299/train/VIRUS\n",
      "put 376 files to /home/nvme/CELLS_hls_299/valid/VIRUS\n",
      "put 376 files to /home/nvme/CELLS_hls_299/test/VIRUS\n",
      "put 22610 files to /home/nvme/CELLS_hls_299/train/TRI\n",
      "put 2826 files to /home/nvme/CELLS_hls_299/valid/TRI\n",
      "put 2827 files to /home/nvme/CELLS_hls_299/test/TRI\n",
      "put 3761 files to /home/nvme/CELLS_hls_299/train/SCC_R\n",
      "put 470 files to /home/nvme/CELLS_hls_299/valid/SCC_R\n",
      "put 471 files to /home/nvme/CELLS_hls_299/test/SCC_R\n",
      "put 4689 files to /home/nvme/CELLS_hls_299/train/HSIL_B\n",
      "put 586 files to /home/nvme/CELLS_hls_299/valid/HSIL_B\n",
      "put 587 files to /home/nvme/CELLS_hls_299/test/HSIL_B\n",
      "put 16097 files to /home/nvme/CELLS_hls_299/train/HSIL_S\n",
      "put 2012 files to /home/nvme/CELLS_hls_299/valid/HSIL_S\n",
      "put 2013 files to /home/nvme/CELLS_hls_299/test/HSIL_S\n",
      "put 836 files to /home/nvme/CELLS_hls_299/train/RC\n",
      "put 105 files to /home/nvme/CELLS_hls_299/valid/RC\n",
      "put 105 files to /home/nvme/CELLS_hls_299/test/RC\n",
      "put 3480 files to /home/nvme/CELLS_hls_299/train/FUNGI\n",
      "put 435 files to /home/nvme/CELLS_hls_299/valid/FUNGI\n",
      "put 436 files to /home/nvme/CELLS_hls_299/test/FUNGI\n",
      "put 5231 files to /home/nvme/CELLS_hls_299/train/SC\n",
      "put 654 files to /home/nvme/CELLS_hls_299/valid/SC\n",
      "put 654 files to /home/nvme/CELLS_hls_299/test/SC\n",
      "put 3116 files to /home/nvme/CELLS_hls_299/train/AGC\n",
      "put 390 files to /home/nvme/CELLS_hls_299/valid/AGC\n",
      "put 390 files to /home/nvme/CELLS_hls_299/test/AGC\n",
      "put 614 files to /home/nvme/CELLS_hls_299/train/EC\n",
      "put 77 files to /home/nvme/CELLS_hls_299/valid/EC\n",
      "put 77 files to /home/nvme/CELLS_hls_299/test/EC\n",
      "put 7595 files to /home/nvme/CELLS_hls_299/train/ASCUS\n",
      "put 949 files to /home/nvme/CELLS_hls_299/valid/ASCUS\n",
      "put 950 files to /home/nvme/CELLS_hls_299/test/ASCUS\n",
      "put 494 files to /home/nvme/CELLS_hls_299/train/TRASH\n",
      "put 62 files to /home/nvme/CELLS_hls_299/valid/TRASH\n",
      "put 62 files to /home/nvme/CELLS_hls_299/test/TRASH\n",
      "put 5196 files to /home/nvme/CELLS_hls_299/train/ACTINO\n",
      "put 650 files to /home/nvme/CELLS_hls_299/valid/ACTINO\n",
      "put 650 files to /home/nvme/CELLS_hls_299/test/ACTINO\n",
      "put 6541 files to /home/nvme/CELLS_hls_299/train/MC\n",
      "put 818 files to /home/nvme/CELLS_hls_299/valid/MC\n",
      "put 818 files to /home/nvme/CELLS_hls_299/test/MC\n",
      "put 2596 files to /home/nvme/CELLS_hls_299/train/SCC_G\n",
      "put 324 files to /home/nvme/CELLS_hls_299/valid/SCC_G\n",
      "put 325 files to /home/nvme/CELLS_hls_299/test/SCC_G\n",
      "put 5047 files to /home/nvme/CELLS_hls_299/train/GEC\n",
      "put 631 files to /home/nvme/CELLS_hls_299/valid/GEC\n",
      "put 631 files to /home/nvme/CELLS_hls_299/test/GEC\n",
      "put 1414 files to /home/nvme/CELLS_hls_299/train/LSIL_F\n",
      "put 177 files to /home/nvme/CELLS_hls_299/valid/LSIL_F\n",
      "put 177 files to /home/nvme/CELLS_hls_299/test/LSIL_F\n"
     ]
    }
   ],
   "source": [
    "split = [0.8, 0.1, 0.1]\n",
    "data_path = \"/home/nvme/CELLS_hls_299\"\n",
    "split_data(data_path, split)"
   ]
  },
  {
   "cell_type": "code",
   "execution_count": null,
   "metadata": {},
   "outputs": [],
   "source": []
  }
 ],
 "metadata": {
  "kernelspec": {
   "display_name": "Python 3",
   "language": "python",
   "name": "python3"
  },
  "language_info": {
   "codemirror_mode": {
    "name": "ipython",
    "version": 3
   },
   "file_extension": ".py",
   "mimetype": "text/x-python",
   "name": "python",
   "nbconvert_exporter": "python",
   "pygments_lexer": "ipython3",
   "version": "3.5.6"
  }
 },
 "nbformat": 4,
 "nbformat_minor": 2
}
