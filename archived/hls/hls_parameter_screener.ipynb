{
 "cells": [
  {
   "cell_type": "markdown",
   "metadata": {},
   "source": [
    "## hls parameter screener\n",
    "### This scripts serve to screen the best HLS_L and HLS_S values for all TCT cells."
   ]
  },
  {
   "cell_type": "code",
   "execution_count": 3,
   "metadata": {},
   "outputs": [],
   "source": [
    "import os\n",
    "import random\n",
    "import shutil\n",
    "from hls import hls_trans, batch_hls_trans"
   ]
  },
  {
   "cell_type": "code",
   "execution_count": 2,
   "metadata": {},
   "outputs": [
    {
     "name": "stdout",
     "output_type": "stream",
     "text": [
      "['LSIL_E', 'CC', 'HSIL_M', 'VIRUS', 'TRI', 'SCC_R', 'HSIL_B', 'HSIL_S', 'RC', 'FUNGI', 'SC', 'AGC', 'EC', 'ASCUS', 'TRASH', 'ACTINO', 'MC', 'SCC_G', 'GEC', 'LSIL_F']\n"
     ]
    }
   ],
   "source": [
    "images_dir = \"/home/nvme/CELLS\"\n",
    "classes = os.listdir(images_dir)\n",
    "print(classes)"
   ]
  },
  {
   "cell_type": "markdown",
   "metadata": {},
   "source": [
    "### randomly select 100 images from each class folder"
   ]
  },
  {
   "cell_type": "code",
   "execution_count": 4,
   "metadata": {},
   "outputs": [],
   "source": [
    "images_test_ori = \"/home/nvme/CELLS_ori\"\n",
    "\n",
    "for class_i in classes:\n",
    "    images_dir_test_i = os.path.join(images_test_ori, class_i)\n",
    "    os.makedirs(images_dir_test_i, exist_ok=True)\n",
    "    images_dir_i = os.path.join(images_dir, class_i)\n",
    "    images_i = os.listdir(images_dir_i)\n",
    "    images_i_selected = random.sample(images_i, 100)\n",
    "    for image in images_i_selected:\n",
    "        shutil.copy(os.path.join(images_dir_i, image), os.path.join(images_dir_test_i, image))"
   ]
  },
  {
   "cell_type": "markdown",
   "metadata": {},
   "source": [
    "### hls test"
   ]
  },
  {
   "cell_type": "code",
   "execution_count": 12,
   "metadata": {},
   "outputs": [],
   "source": [
    "def process(images_test_ori, HLS_L, HLS_S):\n",
    "    images_test_hls = \"{}_L{}_S{}\".format(images_test_ori, HLS_L, HLS_S)\n",
    "\n",
    "    classes = os.listdir(images_test_ori)\n",
    "\n",
    "    for class_i in classes:\n",
    "        save_path_i = os.path.join(images_test_hls, class_i)\n",
    "        os.makedirs(save_path_i, exist_ok=True)\n",
    "        images_test_ori_i = os.path.join(images_test_ori, class_i)\n",
    "        image_names = [os.path.join(images_test_ori_i, image) for image in os.listdir(images_test_ori_i)]\n",
    "        batch_hls_trans(image_names, 1, save_path_i, HLS_L, HLS_S)"
   ]
  },
  {
   "cell_type": "code",
   "execution_count": 13,
   "metadata": {},
   "outputs": [],
   "source": [
    "HLS_L = 0.20\n",
    "HLS_S = 0.8\n",
    "\n",
    "process(images_test_ori, HLS_L, HLS_S)"
   ]
  },
  {
   "cell_type": "code",
   "execution_count": 14,
   "metadata": {},
   "outputs": [],
   "source": [
    "HLS_L = 0.15\n",
    "HLS_S = 0.8\n",
    "\n",
    "process(images_test_ori, HLS_L, HLS_S)"
   ]
  },
  {
   "cell_type": "code",
   "execution_count": 15,
   "metadata": {},
   "outputs": [],
   "source": [
    "# bad\n",
    "HLS_L = 0.15\n",
    "HLS_S = 0.5\n",
    "\n",
    "process(images_test_ori, HLS_L, HLS_S)"
   ]
  },
  {
   "cell_type": "code",
   "execution_count": null,
   "metadata": {},
   "outputs": [],
   "source": []
  }
 ],
 "metadata": {
  "kernelspec": {
   "display_name": "Python 3",
   "language": "python",
   "name": "python3"
  },
  "language_info": {
   "codemirror_mode": {
    "name": "ipython",
    "version": 3
   },
   "file_extension": ".py",
   "mimetype": "text/x-python",
   "name": "python",
   "nbconvert_exporter": "python",
   "pygments_lexer": "ipython3",
   "version": "3.5.6"
  }
 },
 "nbformat": 4,
 "nbformat_minor": 2
}
